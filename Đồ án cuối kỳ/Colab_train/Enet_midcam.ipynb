{
  "nbformat": 4,
  "nbformat_minor": 0,
  "metadata": {
    "colab": {
      "name": "Enet_midcam.ipynb",
      "provenance": [],
      "collapsed_sections": [
        "uO3NNyqfL1Xl",
        "h4owGHkUDahj",
        "QwKfLLQV71nJ",
        "e_zySk9z7FSa",
        "ctpAp4BX7KvM",
        "U40UxDLC7VAj",
        "YIWcOzQ5G-q6",
        "YqviJcMV7kTe",
        "9dzHWNSlgk4f"
      ],
      "toc_visible": true,
      "include_colab_link": true
    },
    "kernelspec": {
      "name": "python3",
      "display_name": "Python 3"
    },
    "language_info": {
      "name": "python"
    },
    "accelerator": "GPU"
  },
  "cells": [
    {
      "cell_type": "markdown",
      "metadata": {
        "id": "view-in-github",
        "colab_type": "text"
      },
      "source": [
        "<a href=\"https://colab.research.google.com/github/trankha1655/CS114_ML/blob/main/%C4%90%E1%BB%93%20%C3%A1n%20cu%E1%BB%91i%20k%E1%BB%B3/Colab_train/Enet_midcam.ipynb\" target=\"_parent\"><img src=\"https://colab.research.google.com/assets/colab-badge.svg\" alt=\"Open In Colab\"/></a>"
      ]
    },
    {
      "cell_type": "code",
      "metadata": {
        "id": "W4WRBVDs-kwO"
      },
      "source": [
        ""
      ],
      "execution_count": null,
      "outputs": []
    },
    {
      "cell_type": "code",
      "metadata": {
        "colab": {
          "base_uri": "https://localhost:8080/"
        },
        "id": "qt6mjHNE-k9e",
        "outputId": "071cef70-be09-47be-889d-dcba83b1e01a"
      },
      "source": [
        "from google.colab import drive\n",
        "drive.mount('/content/drive')"
      ],
      "execution_count": null,
      "outputs": [
        {
          "output_type": "stream",
          "text": [
            "Mounted at /content/drive\n"
          ],
          "name": "stdout"
        }
      ]
    },
    {
      "cell_type": "code",
      "metadata": {
        "id": "NSYXESREFY8X",
        "colab": {
          "base_uri": "https://localhost:8080/"
        },
        "outputId": "a017d037-09d2-468c-e9eb-09f161044709"
      },
      "source": [
        "!nvidia-smi"
      ],
      "execution_count": null,
      "outputs": [
        {
          "output_type": "stream",
          "text": [
            "Fri Aug  6 04:39:31 2021       \n",
            "+-----------------------------------------------------------------------------+\n",
            "| NVIDIA-SMI 470.42.01    Driver Version: 460.32.03    CUDA Version: 11.2     |\n",
            "|-------------------------------+----------------------+----------------------+\n",
            "| GPU  Name        Persistence-M| Bus-Id        Disp.A | Volatile Uncorr. ECC |\n",
            "| Fan  Temp  Perf  Pwr:Usage/Cap|         Memory-Usage | GPU-Util  Compute M. |\n",
            "|                               |                      |               MIG M. |\n",
            "|===============================+======================+======================|\n",
            "|   0  Tesla T4            Off  | 00000000:00:04.0 Off |                    0 |\n",
            "| N/A   42C    P8     9W /  70W |      0MiB / 15109MiB |      0%      Default |\n",
            "|                               |                      |                  N/A |\n",
            "+-------------------------------+----------------------+----------------------+\n",
            "                                                                               \n",
            "+-----------------------------------------------------------------------------+\n",
            "| Processes:                                                                  |\n",
            "|  GPU   GI   CI        PID   Type   Process name                  GPU Memory |\n",
            "|        ID   ID                                                   Usage      |\n",
            "|=============================================================================|\n",
            "|  No running processes found                                                 |\n",
            "+-----------------------------------------------------------------------------+\n"
          ],
          "name": "stdout"
        }
      ]
    },
    {
      "cell_type": "markdown",
      "metadata": {
        "id": "uO3NNyqfL1Xl"
      },
      "source": [
        "# clone data"
      ]
    },
    {
      "cell_type": "code",
      "metadata": {
        "id": "5AAplAkX3_LL"
      },
      "source": [
        "!pip install labelme"
      ],
      "execution_count": null,
      "outputs": []
    },
    {
      "cell_type": "code",
      "metadata": {
        "id": "U2wfHazyyIGZ"
      },
      "source": [
        "!apt install subversion"
      ],
      "execution_count": null,
      "outputs": []
    },
    {
      "cell_type": "code",
      "metadata": {
        "id": "cr3tnTnaxzVW"
      },
      "source": [
        "!svn checkout https://github.com/trankha1655/CS114_ML/trunk/Đồ%20án%20cuối%20kỳ/Dataset/img\n",
        "!svn checkout https://github.com/trankha1655/CS114_ML/trunk/Đồ%20án%20cuối%20kỳ/Dataset/json\n",
        "!svn checkout https://github.com/trankha1655/CS114_ML/trunk/Đồ%20án%20cuối%20kỳ/Dataset/csv"
      ],
      "execution_count": null,
      "outputs": []
    },
    {
      "cell_type": "markdown",
      "metadata": {
        "id": "h4owGHkUDahj"
      },
      "source": [
        "# Lib"
      ]
    },
    {
      "cell_type": "code",
      "metadata": {
        "id": "141caGSL1f7p"
      },
      "source": [
        "import torch\n",
        "import torch.nn as nn\n",
        "import torch.nn.functional as F\n",
        "import numpy as np\n",
        "import matplotlib.pyplot as plt\n",
        "from torch.optim.lr_scheduler import StepLR\n",
        "import cv2\n",
        "import os\n",
        "from tqdm import tqdm\n",
        "from PIL import Image\n",
        "import albumentations as A\n",
        "import labelme \n",
        "import random\n",
        "import pandas as pd\n",
        "import json\n",
        "from labelme.utils import shape"
      ],
      "execution_count": null,
      "outputs": []
    },
    {
      "cell_type": "code",
      "metadata": {
        "id": "mUFLZ6fE_CxB",
        "colab": {
          "base_uri": "https://localhost:8080/"
        },
        "outputId": "e370315b-59f8-4fe4-fa20-18e4a6fe8d07"
      },
      "source": [
        "!nvidia-smi"
      ],
      "execution_count": null,
      "outputs": [
        {
          "output_type": "stream",
          "text": [
            "Fri Aug  6 04:43:48 2021       \n",
            "+-----------------------------------------------------------------------------+\n",
            "| NVIDIA-SMI 470.42.01    Driver Version: 460.32.03    CUDA Version: 11.2     |\n",
            "|-------------------------------+----------------------+----------------------+\n",
            "| GPU  Name        Persistence-M| Bus-Id        Disp.A | Volatile Uncorr. ECC |\n",
            "| Fan  Temp  Perf  Pwr:Usage/Cap|         Memory-Usage | GPU-Util  Compute M. |\n",
            "|                               |                      |               MIG M. |\n",
            "|===============================+======================+======================|\n",
            "|   0  Tesla T4            Off  | 00000000:00:04.0 Off |                    0 |\n",
            "| N/A   35C    P8     9W /  70W |      3MiB / 15109MiB |      0%      Default |\n",
            "|                               |                      |                  N/A |\n",
            "+-------------------------------+----------------------+----------------------+\n",
            "                                                                               \n",
            "+-----------------------------------------------------------------------------+\n",
            "| Processes:                                                                  |\n",
            "|  GPU   GI   CI        PID   Type   Process name                  GPU Memory |\n",
            "|        ID   ID                                                   Usage      |\n",
            "|=============================================================================|\n",
            "|  No running processes found                                                 |\n",
            "+-----------------------------------------------------------------------------+\n"
          ],
          "name": "stdout"
        }
      ]
    },
    {
      "cell_type": "markdown",
      "metadata": {
        "id": "QwKfLLQV71nJ"
      },
      "source": [
        "# Build Model"
      ]
    },
    {
      "cell_type": "markdown",
      "metadata": {
        "id": "TWALSvZEWCxJ"
      },
      "source": [
        "#### InitialBlock"
      ]
    },
    {
      "cell_type": "code",
      "metadata": {
        "id": "rGukmEjx2Um3"
      },
      "source": [
        "class InitialBlock(nn.Module):\n",
        "  \n",
        "  # Initial block of the model:\n",
        "  #         Input\n",
        "  #        /     \\\n",
        "  #       /       \\\n",
        "  #maxpool2d    conv2d-3x3\n",
        "  #       \\       /  \n",
        "  #        \\     /\n",
        "  #      concatenate\n",
        "   \n",
        "    def __init__ (self,in_channels = 3,out_channels = 13):\n",
        "        super().__init__()\n",
        "\n",
        "\n",
        "        self.maxpool = nn.MaxPool2d(kernel_size=2, \n",
        "                                      stride = 2, \n",
        "                                      padding = 0)\n",
        "\n",
        "        self.conv = nn.Conv2d(in_channels, \n",
        "                                out_channels,\n",
        "                                kernel_size = 3,\n",
        "                                stride = 2, \n",
        "                                padding = 1)\n",
        "\n",
        "        self.prelu = nn.PReLU(16)\n",
        "\n",
        "        self.batchnorm = nn.BatchNorm2d(out_channels)\n",
        "  \n",
        "    def forward(self, x):\n",
        "        \n",
        "        main = self.conv(x)\n",
        "        main = self.batchnorm(main)\n",
        "        \n",
        "        side = self.maxpool(x)\n",
        "        \n",
        "        # concatenating on the channels axis\n",
        "        x = torch.cat((main, side), dim=1)\n",
        "        x = self.prelu(x)\n",
        "        \n",
        "        return x"
      ],
      "execution_count": null,
      "outputs": []
    },
    {
      "cell_type": "markdown",
      "metadata": {
        "id": "0eabH_gtWGDy"
      },
      "source": [
        "#### UBNeck"
      ]
    },
    {
      "cell_type": "code",
      "metadata": {
        "id": "txC-sX7G2agJ"
      },
      "source": [
        "class UBNeck(nn.Module):\n",
        "    \n",
        "  # Upsampling bottleneck:\n",
        "  #     Bottleneck Input\n",
        "  #        /        \\\n",
        "  #       /          \\\n",
        "  # conv2d-1x1     convTrans2d-1x1\n",
        "  #      |             | PReLU\n",
        "  #      |         convTrans2d-3x3\n",
        "  #      |             | PReLU\n",
        "  #      |         convTrans2d-1x1\n",
        "  #      |             |\n",
        "  # maxunpool2d    Regularizer\n",
        "  #       \\           /  \n",
        "  #        \\         /\n",
        "  #      Summing + PReLU\n",
        "  #\n",
        "  #  Params: \n",
        "  #  projection_ratio - ratio between input and output channels\n",
        "  #  relu - if True: relu used as the activation function else: Prelu us used\n",
        "  \n",
        "    def __init__(self, in_channels, out_channels, relu=False, projection_ratio=4):\n",
        "        \n",
        "        super().__init__()\n",
        "        \n",
        "        # Define class variables\n",
        "        self.in_channels = in_channels\n",
        "        self.reduced_depth = int(in_channels / projection_ratio)\n",
        "        self.out_channels = out_channels\n",
        "        \n",
        "        \n",
        "        if relu:\n",
        "            activation = nn.ReLU()\n",
        "        else:\n",
        "            activation = nn.PReLU()\n",
        "        \n",
        "        self.unpool = nn.MaxUnpool2d(kernel_size = 2,\n",
        "                                     stride = 2)\n",
        "        \n",
        "        self.main_conv = nn.Conv2d(in_channels = self.in_channels,\n",
        "                                    out_channels = self.out_channels,\n",
        "                                    kernel_size = 1)\n",
        "        \n",
        "        self.dropout = nn.Dropout2d(p=0.1)\n",
        "        \n",
        "        \n",
        "        self.convt1 = nn.ConvTranspose2d(in_channels = self.in_channels,\n",
        "                               out_channels = self.reduced_depth,\n",
        "                               kernel_size = 1,\n",
        "                               padding = 0,\n",
        "                               bias = False)\n",
        "        \n",
        "        \n",
        "        self.prelu1 = activation\n",
        "        \n",
        "        # This layer used for Upsampling\n",
        "        self.convt2 = nn.ConvTranspose2d(in_channels = self.reduced_depth,\n",
        "                                  out_channels = self.reduced_depth,\n",
        "                                  kernel_size = 3,\n",
        "                                  stride = 2,\n",
        "                                  padding = 1,\n",
        "                                  output_padding = 1,\n",
        "                                  bias = False)\n",
        "        \n",
        "        self.prelu2 = activation\n",
        "        \n",
        "        self.convt3 = nn.ConvTranspose2d(in_channels = self.reduced_depth,\n",
        "                                  out_channels = self.out_channels,\n",
        "                                  kernel_size = 1,\n",
        "                                  padding = 0,\n",
        "                                  bias = False)\n",
        "        \n",
        "        self.prelu3 = activation\n",
        "        \n",
        "        self.batchnorm = nn.BatchNorm2d(self.reduced_depth)\n",
        "        self.batchnorm2 = nn.BatchNorm2d(self.out_channels)\n",
        "        \n",
        "    def forward(self, x, indices):\n",
        "        x_copy = x\n",
        "        \n",
        "        # Side Branch\n",
        "        x = self.convt1(x)\n",
        "        x = self.batchnorm(x)\n",
        "        x = self.prelu1(x)\n",
        "        \n",
        "        x = self.convt2(x)\n",
        "        x = self.batchnorm(x)\n",
        "        x = self.prelu2(x)\n",
        "        \n",
        "        x = self.convt3(x)\n",
        "        x = self.batchnorm2(x)\n",
        "        \n",
        "        x = self.dropout(x)\n",
        "        \n",
        "        # Main Branch\n",
        "        \n",
        "        x_copy = self.main_conv(x_copy)\n",
        "        x_copy = self.unpool(x_copy, indices, output_size=x.size())\n",
        "        \n",
        "        # summing the main and side branches\n",
        "        x = x + x_copy\n",
        "        x = self.prelu3(x)\n",
        "        \n",
        "        return x"
      ],
      "execution_count": null,
      "outputs": []
    },
    {
      "cell_type": "markdown",
      "metadata": {
        "id": "xqBTeq1KWI_u"
      },
      "source": [
        "#### RDDNeck"
      ]
    },
    {
      "cell_type": "code",
      "metadata": {
        "id": "HXFr3fvW2biL"
      },
      "source": [
        "class RDDNeck(nn.Module):\n",
        "    def __init__(self, dilation, in_channels, out_channels, down_flag, relu=False, projection_ratio=4, p=0.1):\n",
        "      \n",
        "  # Regular|Dilated|Downsampling bottlenecks:\n",
        "  #\n",
        "  #     Bottleneck Input\n",
        "  #        /        \\\n",
        "  #       /          \\\n",
        "  # maxpooling2d   conv2d-1x1\n",
        "  #      |             | PReLU\n",
        "  #      |         conv2d-3x3\n",
        "  #      |             | PReLU\n",
        "  #      |         conv2d-1x1\n",
        "  #      |             |\n",
        "  #  Padding2d     Regularizer\n",
        "  #       \\           /  \n",
        "  #        \\         /\n",
        "  #      Summing + PReLU\n",
        "  #\n",
        "  # Params: \n",
        "  #  dilation (bool) - if True: creating dilation bottleneck\n",
        "  #  down_flag (bool) - if True: creating downsampling bottleneck\n",
        "  #  projection_ratio - ratio between input and output channels\n",
        "  #  relu - if True: relu used as the activation function else: Prelu us used\n",
        "  #  p - dropout ratio\n",
        "        \n",
        "        super().__init__()\n",
        "        \n",
        "        # Define class variables\n",
        "        self.in_channels = in_channels\n",
        "        \n",
        "        self.out_channels = out_channels\n",
        "        self.dilation = dilation\n",
        "        self.down_flag = down_flag\n",
        "        \n",
        "        # calculating the number of reduced channels\n",
        "        if down_flag:\n",
        "            self.stride = 2\n",
        "            self.reduced_depth = int(in_channels // projection_ratio)\n",
        "        else:\n",
        "            self.stride = 1\n",
        "            self.reduced_depth = int(out_channels // projection_ratio)\n",
        "        \n",
        "        if relu:\n",
        "            activation = nn.ReLU()\n",
        "        else:\n",
        "            activation = nn.PReLU()\n",
        "        \n",
        "        self.maxpool = nn.MaxPool2d(kernel_size = 2,\n",
        "                                      stride = 2,\n",
        "                                      padding = 0, return_indices=True)\n",
        "        \n",
        "\n",
        "        \n",
        "        self.dropout = nn.Dropout2d(p=p)\n",
        "\n",
        "        self.conv1 = nn.Conv2d(in_channels = self.in_channels,\n",
        "                               out_channels = self.reduced_depth,\n",
        "                               kernel_size = 1,\n",
        "                               stride = 1,\n",
        "                               padding = 0,\n",
        "                               bias = False,\n",
        "                               dilation = 1)\n",
        "        \n",
        "        self.prelu1 = activation\n",
        "        \n",
        "        self.conv2 = nn.Conv2d(in_channels = self.reduced_depth,\n",
        "                                  out_channels = self.reduced_depth,\n",
        "                                  kernel_size = 3,\n",
        "                                  stride = self.stride,\n",
        "                                  padding = self.dilation,\n",
        "                                  bias = True,\n",
        "                                  dilation = self.dilation)\n",
        "                                  \n",
        "        self.prelu2 = activation\n",
        "        \n",
        "        self.conv3 = nn.Conv2d(in_channels = self.reduced_depth,\n",
        "                                  out_channels = self.out_channels,\n",
        "                                  kernel_size = 1,\n",
        "                                  stride = 1,\n",
        "                                  padding = 0,\n",
        "                                  bias = False,\n",
        "                                  dilation = 1)\n",
        "        \n",
        "        self.prelu3 = activation\n",
        "        \n",
        "        self.batchnorm = nn.BatchNorm2d(self.reduced_depth)\n",
        "        self.batchnorm2 = nn.BatchNorm2d(self.out_channels)\n",
        "        \n",
        "        \n",
        "    def forward(self, x):\n",
        "        \n",
        "        bs = x.size()[0]\n",
        "        x_copy = x\n",
        "        \n",
        "        # Side Branch\n",
        "        x = self.conv1(x)\n",
        "        x = self.batchnorm(x)\n",
        "        x = self.prelu1(x)\n",
        "        \n",
        "        x = self.conv2(x)\n",
        "        x = self.batchnorm(x)\n",
        "        x = self.prelu2(x)\n",
        "        \n",
        "        x = self.conv3(x)\n",
        "        x = self.batchnorm2(x)\n",
        "                \n",
        "        x = self.dropout(x)\n",
        "        \n",
        "        # Main Branch\n",
        "        if self.down_flag:\n",
        "            x_copy, indices = self.maxpool(x_copy)\n",
        "          \n",
        "        if self.in_channels != self.out_channels:\n",
        "            out_shape = self.out_channels - self.in_channels\n",
        "            \n",
        "            #padding and concatenating in order to match the channels axis of the side and main branches\n",
        "            extras = torch.zeros((bs, out_shape, x.shape[2], x.shape[3]))\n",
        "            if torch.cuda.is_available():\n",
        "                extras = extras.cuda()\n",
        "            x_copy = torch.cat((x_copy, extras), dim = 1)\n",
        "\n",
        "        # Summing main and side branches\n",
        "        x = x + x_copy\n",
        "        x = self.prelu3(x)\n",
        "        \n",
        "        if self.down_flag:\n",
        "            return x, indices\n",
        "        else:\n",
        "            return x"
      ],
      "execution_count": null,
      "outputs": []
    },
    {
      "cell_type": "markdown",
      "metadata": {
        "id": "B2_soWhyWKo0"
      },
      "source": [
        "#### ASNeck"
      ]
    },
    {
      "cell_type": "code",
      "metadata": {
        "id": "kiYDRtkt2e4B"
      },
      "source": [
        "class ASNeck(nn.Module):\n",
        "    def __init__(self, in_channels, out_channels, projection_ratio=4):\n",
        "      \n",
        "  # Asymetric bottleneck:\n",
        "  #\n",
        "  #     Bottleneck Input\n",
        "  #        /        \\\n",
        "  #       /          \\\n",
        "  #      |         conv2d-1x1\n",
        "  #      |             | PReLU\n",
        "  #      |         conv2d-1x5\n",
        "  #      |             |\n",
        "  #      |         conv2d-5x1\n",
        "  #      |             | PReLU\n",
        "  #      |         conv2d-1x1\n",
        "  #      |             |\n",
        "  #  Padding2d     Regularizer\n",
        "  #       \\           /  \n",
        "  #        \\         /\n",
        "  #      Summing + PReLU\n",
        "  #\n",
        "  # Params:    \n",
        "  #  projection_ratio - ratio between input and output channels\n",
        "        \n",
        "        super().__init__()\n",
        "        \n",
        "        # Define class variables\n",
        "        self.in_channels = in_channels\n",
        "        self.reduced_depth = int(in_channels / projection_ratio)\n",
        "        self.out_channels = out_channels\n",
        "        \n",
        "        self.dropout = nn.Dropout2d(p=0.1)\n",
        "        \n",
        "        self.conv1 = nn.Conv2d(in_channels = self.in_channels,\n",
        "                               out_channels = self.reduced_depth,\n",
        "                               kernel_size = 1,\n",
        "                               stride = 1,\n",
        "                               padding = 0,\n",
        "                               bias = False)\n",
        "        \n",
        "        self.prelu1 = nn.PReLU()\n",
        "        \n",
        "        self.conv21 = nn.Conv2d(in_channels = self.reduced_depth,\n",
        "                                  out_channels = self.reduced_depth,\n",
        "                                  kernel_size = (1, 5),\n",
        "                                  stride = 1,\n",
        "                                  padding = (0, 2),\n",
        "                                  bias = False)\n",
        "        \n",
        "        self.conv22 = nn.Conv2d(in_channels = self.reduced_depth,\n",
        "                                  out_channels = self.reduced_depth,\n",
        "                                  kernel_size = (5, 1),\n",
        "                                  stride = 1,\n",
        "                                  padding = (2, 0),\n",
        "                                  bias = False)\n",
        "        \n",
        "        self.prelu2 = nn.PReLU()\n",
        "        \n",
        "        self.conv3 = nn.Conv2d(in_channels = self.reduced_depth,\n",
        "                                  out_channels = self.out_channels,\n",
        "                                  kernel_size = 1,\n",
        "                                  stride = 1,\n",
        "                                  padding = 0,\n",
        "                                  bias = False)\n",
        "        \n",
        "        self.prelu3 = nn.PReLU()\n",
        "        \n",
        "        self.batchnorm = nn.BatchNorm2d(self.reduced_depth)\n",
        "        self.batchnorm2 = nn.BatchNorm2d(self.out_channels)\n",
        "        \n",
        "    def forward(self, x):\n",
        "        bs = x.size()[0]\n",
        "        x_copy = x\n",
        "        \n",
        "        # Side Branch\n",
        "        x = self.conv1(x)\n",
        "        x = self.batchnorm(x)\n",
        "        x = self.prelu1(x)\n",
        "        \n",
        "        x = self.conv21(x)\n",
        "        x = self.conv22(x)\n",
        "        x = self.batchnorm(x)\n",
        "        x = self.prelu2(x)\n",
        "        \n",
        "        x = self.conv3(x)\n",
        "                \n",
        "        x = self.dropout(x)\n",
        "        x = self.batchnorm2(x)\n",
        "        \n",
        "        # Main Branch\n",
        "        \n",
        "        if self.in_channels != self.out_channels:\n",
        "            out_shape = self.out_channels - self.in_channels\n",
        "            \n",
        "            #padding and concatenating in order to match the channels axis of the side and main branches\n",
        "            extras = torch.zeros((bs, out_shape, x.shape[2], x.shape[3]))\n",
        "            if torch.cuda.is_available():\n",
        "                extras = extras.cuda()\n",
        "            x_copy = torch.cat((x_copy, extras), dim = 1)\n",
        "        \n",
        "        # Summing main and side branches\n",
        "        x = x + x_copy\n",
        "        x = self.prelu3(x)\n",
        "        \n",
        "        return x"
      ],
      "execution_count": null,
      "outputs": []
    },
    {
      "cell_type": "markdown",
      "metadata": {
        "id": "KFmjfyoDWNHd"
      },
      "source": [
        "#### ENet"
      ]
    },
    {
      "cell_type": "code",
      "metadata": {
        "id": "g08cJUck2hSM"
      },
      "source": [
        "class ENet(nn.Module):\n",
        "  \n",
        "  # Creating Enet model!\n",
        "  \n",
        "    def __init__(self, C):\n",
        "        super().__init__()\n",
        "        \n",
        "        # Define class variables\n",
        "        # C - number of classes\n",
        "        self.C = C\n",
        "        \n",
        "        # The initial block\n",
        "        self.init = InitialBlock()\n",
        "        \n",
        "        \n",
        "        # The first bottleneck\n",
        "        self.b10 = RDDNeck(dilation=1, \n",
        "                           in_channels=16, \n",
        "                           out_channels=64, \n",
        "                           down_flag=True, \n",
        "                           p=0.01)\n",
        "        \n",
        "        self.b11 = RDDNeck(dilation=1, \n",
        "                           in_channels=64, \n",
        "                           out_channels=64, \n",
        "                           down_flag=False, \n",
        "                           p=0.01)\n",
        "        \n",
        "        self.b12 = RDDNeck(dilation=1, \n",
        "                           in_channels=64, \n",
        "                           out_channels=64, \n",
        "                           down_flag=False, \n",
        "                           p=0.01)\n",
        "        \n",
        "        self.b13 = RDDNeck(dilation=1, \n",
        "                           in_channels=64, \n",
        "                           out_channels=64, \n",
        "                           down_flag=False, \n",
        "                           p=0.01)\n",
        "        \n",
        "        self.b14 = RDDNeck(dilation=1, \n",
        "                           in_channels=64, \n",
        "                           out_channels=64, \n",
        "                           down_flag=False, \n",
        "                           p=0.01)\n",
        "        \n",
        "        \n",
        "        # The second bottleneck\n",
        "        self.b20 = RDDNeck(dilation=1, \n",
        "                           in_channels=64, \n",
        "                           out_channels=128, \n",
        "                           down_flag=True)\n",
        "        \n",
        "        self.b21 = RDDNeck(dilation=1, \n",
        "                           in_channels=128, \n",
        "                           out_channels=128, \n",
        "                           down_flag=False)\n",
        "        \n",
        "        self.b22 = RDDNeck(dilation=2, \n",
        "                           in_channels=128, \n",
        "                           out_channels=128, \n",
        "                           down_flag=False)\n",
        "        \n",
        "        self.b23 = ASNeck(in_channels=128, \n",
        "                          out_channels=128)\n",
        "        \n",
        "        self.b24 = RDDNeck(dilation=4, \n",
        "                           in_channels=128, \n",
        "                           out_channels=128, \n",
        "                           down_flag=False)\n",
        "        \n",
        "        self.b25 = RDDNeck(dilation=1, \n",
        "                           in_channels=128, \n",
        "                           out_channels=128, \n",
        "                           down_flag=False)\n",
        "        \n",
        "        self.b26 = RDDNeck(dilation=8, \n",
        "                           in_channels=128, \n",
        "                           out_channels=128, \n",
        "                           down_flag=False)\n",
        "        \n",
        "        self.b27 = ASNeck(in_channels=128, \n",
        "                          out_channels=128)\n",
        "        \n",
        "        self.b28 = RDDNeck(dilation=16, \n",
        "                           in_channels=128, \n",
        "                           out_channels=128, \n",
        "                           down_flag=False)\n",
        "        \n",
        "        \n",
        "        # The third bottleneck\n",
        "        self.b31 = RDDNeck(dilation=1, \n",
        "                           in_channels=128, \n",
        "                           out_channels=128, \n",
        "                           down_flag=False)\n",
        "        \n",
        "        self.b32 = RDDNeck(dilation=2, \n",
        "                           in_channels=128, \n",
        "                           out_channels=128, \n",
        "                           down_flag=False)\n",
        "        \n",
        "        self.b33 = ASNeck(in_channels=128, \n",
        "                          out_channels=128)\n",
        "        \n",
        "        self.b34 = RDDNeck(dilation=4, \n",
        "                           in_channels=128, \n",
        "                           out_channels=128, \n",
        "                           down_flag=False)\n",
        "        \n",
        "        self.b35 = RDDNeck(dilation=1, \n",
        "                           in_channels=128, \n",
        "                           out_channels=128, \n",
        "                           down_flag=False)\n",
        "        \n",
        "        self.b36 = RDDNeck(dilation=8, \n",
        "                           in_channels=128, \n",
        "                           out_channels=128, \n",
        "                           down_flag=False)\n",
        "        \n",
        "        self.b37 = ASNeck(in_channels=128, \n",
        "                          out_channels=128)\n",
        "        \n",
        "        self.b38 = RDDNeck(dilation=16, \n",
        "                           in_channels=128, \n",
        "                           out_channels=128, \n",
        "                           down_flag=False)\n",
        "        \n",
        "        \n",
        "        # The fourth bottleneck\n",
        "        self.b40 = UBNeck(in_channels=128, \n",
        "                          out_channels=64, \n",
        "                          relu=True)\n",
        "        \n",
        "        self.b41 = RDDNeck(dilation=1, \n",
        "                           in_channels=64, \n",
        "                           out_channels=64, \n",
        "                           down_flag=False, \n",
        "                           relu=True)\n",
        "        \n",
        "        self.b42 = RDDNeck(dilation=1, \n",
        "                           in_channels=64, \n",
        "                           out_channels=64, \n",
        "                           down_flag=False, \n",
        "                           relu=True)\n",
        "        \n",
        "        \n",
        "        # The fifth bottleneck\n",
        "        self.b50 = UBNeck(in_channels=64, \n",
        "                          out_channels=16, \n",
        "                          relu=True)\n",
        "        \n",
        "        self.b51 = RDDNeck(dilation=1, \n",
        "                           in_channels=16, \n",
        "                           out_channels=16, \n",
        "                           down_flag=False, \n",
        "                           relu=True)\n",
        "        \n",
        "        \n",
        "        # Final ConvTranspose Layer\n",
        "        self.fullconv = nn.ConvTranspose2d(in_channels=16, \n",
        "                                           out_channels=self.C, \n",
        "                                           kernel_size=3, \n",
        "                                           stride=2, \n",
        "                                           padding=1, \n",
        "                                           output_padding=1,\n",
        "                                           bias=False)\n",
        "        \n",
        "        \n",
        "    def forward(self, x):\n",
        "        \n",
        "        # The initial block\n",
        "        x = self.init(x)\n",
        "        \n",
        "        # The first bottleneck\n",
        "        x, i1 = self.b10(x)\n",
        "        x = self.b11(x)\n",
        "        x = self.b12(x)\n",
        "        x = self.b13(x)\n",
        "        x = self.b14(x)\n",
        "        \n",
        "        # The second bottleneck\n",
        "        x, i2 = self.b20(x)\n",
        "        x = self.b21(x)\n",
        "        x = self.b22(x)\n",
        "        x = self.b23(x)\n",
        "        x = self.b24(x)\n",
        "        x = self.b25(x)\n",
        "        x = self.b26(x)\n",
        "        x = self.b27(x)\n",
        "        x = self.b28(x)\n",
        "        \n",
        "        # The third bottleneck\n",
        "        x = self.b31(x)\n",
        "        x = self.b32(x)\n",
        "        x = self.b33(x)\n",
        "        x = self.b34(x)\n",
        "        x = self.b35(x)\n",
        "        x = self.b36(x)\n",
        "        x = self.b37(x)\n",
        "        x = self.b38(x)\n",
        "        \n",
        "        # The fourth bottleneck\n",
        "        x = self.b40(x, i2)\n",
        "        x = self.b41(x)\n",
        "        x = self.b42(x)\n",
        "        \n",
        "        # The fifth bottleneck\n",
        "        x = self.b50(x, i1)\n",
        "        x = self.b51(x)\n",
        "        \n",
        "        # Final ConvTranspose Layer\n",
        "        x = self.fullconv(x)\n",
        "        \n",
        "        return x"
      ],
      "execution_count": null,
      "outputs": []
    },
    {
      "cell_type": "markdown",
      "metadata": {
        "id": "sr7bnkLPWQb1"
      },
      "source": [
        "#### get model"
      ]
    },
    {
      "cell_type": "code",
      "metadata": {
        "id": "3rIdW-UH2ivA"
      },
      "source": [
        "#enet = ENet(2)"
      ],
      "execution_count": null,
      "outputs": []
    },
    {
      "cell_type": "code",
      "metadata": {
        "id": "QbLqEFWM2jo4"
      },
      "source": [
        "# Checking if there is any gpu available and pass the model to gpu or cpu\n",
        "device = torch.device('cuda:0' if torch.cuda.is_available() else 'cpu')\n",
        "#enet = enet.to(device)"
      ],
      "execution_count": null,
      "outputs": []
    },
    {
      "cell_type": "markdown",
      "metadata": {
        "id": "e_zySk9z7FSa"
      },
      "source": [
        "# Data genenrator"
      ]
    },
    {
      "cell_type": "markdown",
      "metadata": {
        "id": "ctpAp4BX7KvM"
      },
      "source": [
        "#### decoder"
      ]
    },
    {
      "cell_type": "code",
      "metadata": {
        "colab": {
          "base_uri": "https://localhost:8080/"
        },
        "id": "dWX5oZd7-9ga",
        "outputId": "fe1e79c7-7024-4cf4-a88b-80203bf20b1e"
      },
      "source": [
        "def colormap2label():\n",
        "\n",
        "    colormap2label = np.zeros(256**3)\n",
        "    print(colormap2label.shape)\n",
        "    for i, colormap in enumerate(COLORMAP):\n",
        "        colormap2label[(colormap[0] * 256 + colormap[1]) * 256 +\n",
        "                       colormap[2]] = i\n",
        "    return colormap2label\n",
        "\n",
        "def label_indices(colormap, colormap2label):\n",
        "\n",
        "    colormap = colormap.astype(np.int32)\n",
        "    idx = ((colormap[:, :, 0] * 256 + colormap[:, :, 1]) * 256 +\n",
        "           colormap[:, :, 2])\n",
        "    img = colormap2label[idx]\n",
        "    return  img\n",
        "\n",
        "\n",
        "\n",
        "COLORMAP = [[0, 0, 0], [255, 255, 255]]\n",
        "\n",
        "CLASSES = ['background', 'road']\n",
        "\n",
        "COLORMAP2LABEL = colormap2label()\n"
      ],
      "execution_count": null,
      "outputs": [
        {
          "output_type": "stream",
          "text": [
            "(16777216,)\n"
          ],
          "name": "stdout"
        }
      ]
    },
    {
      "cell_type": "code",
      "metadata": {
        "id": "ZLs6aUooD-x1"
      },
      "source": [
        "def encoder_img(img):\n",
        "    MEAN = 255 * torch.tensor([0.485, 0.456, 0.406])\n",
        "    STD = 255 * torch.tensor([0.229, 0.224, 0.225])\n",
        "\n",
        "    x = torch.from_numpy(np.array(img))\n",
        "    x = x.type(torch.float32)\n",
        "    x = x.permute(-1, 0, 1)\n",
        "    x = (x - MEAN[:, None, None]) / STD[:, None, None]\n",
        "    return x"
      ],
      "execution_count": null,
      "outputs": []
    },
    {
      "cell_type": "markdown",
      "metadata": {
        "id": "nl5E1nK_C0EM"
      },
      "source": [
        "#### get csv"
      ]
    },
    {
      "cell_type": "code",
      "metadata": {
        "id": "jjOPEhLl8zFk"
      },
      "source": [
        "def div2(X,y,key=None):\n",
        "    newX=[]\n",
        "    newy=[]\n",
        "    for i,j in zip(X,y):\n",
        "        if i.split(\"/\")[1] in key:\n",
        "            newX.append(i)\n",
        "            newy.append(j)\n",
        "    return np.array(newX), np.array(newy)"
      ],
      "execution_count": null,
      "outputs": []
    },
    {
      "cell_type": "code",
      "metadata": {
        "id": "TIwjGIea9s9t"
      },
      "source": [
        "dir_cams = ['Kha_s cam']"
      ],
      "execution_count": null,
      "outputs": []
    },
    {
      "cell_type": "code",
      "metadata": {
        "id": "k9xaCWNTDOa7"
      },
      "source": [
        "\n",
        "\n",
        "#_______ train\n",
        "df = pd.read_csv(\"/content/csv/train_mask.csv\")\n",
        "\n",
        "temp =  list(  zip( df['path'].to_list() ,  df['label'].to_list() )   ) \n",
        "random.shuffle(    temp)     \n",
        "a, b = zip(*temp )\n",
        "X_train, y_train =  div2(a, b, dir_cams)\n",
        "\n",
        "\n",
        "#______\n",
        "\n",
        "df = pd.read_csv(\"/content/csv/val_mask.csv\")\n",
        "\n",
        "temp =  list(  zip( df['path'].to_list() ,  df['label'].to_list() )   ) \n",
        "random.shuffle(    temp)     \n",
        "a, b = zip(*temp)\n",
        "X_val, y_val=  div2(a, b, dir_cams)\n",
        "\n",
        "#_________\n",
        "\n"
      ],
      "execution_count": null,
      "outputs": []
    },
    {
      "cell_type": "code",
      "metadata": {
        "colab": {
          "base_uri": "https://localhost:8080/"
        },
        "id": "N5LYhYPwDXig",
        "outputId": "50467663-9f3d-422c-c55c-40cf4b3d5e5e"
      },
      "source": [
        "print(len(X_train))\n",
        "print(len(X_val))\n",
        "\n",
        "print(len(y_train))\n",
        "print(len(y_val))\n"
      ],
      "execution_count": null,
      "outputs": [
        {
          "output_type": "stream",
          "text": [
            "361\n",
            "72\n",
            "361\n",
            "72\n"
          ],
          "name": "stdout"
        }
      ]
    },
    {
      "cell_type": "code",
      "metadata": {
        "id": "Oapq6pPpEOPv"
      },
      "source": [
        "dir=[\"/content/img/\",\"/content/json/\"]"
      ],
      "execution_count": null,
      "outputs": []
    },
    {
      "cell_type": "markdown",
      "metadata": {
        "id": "Q_ZMsckl7MuX"
      },
      "source": [
        "#### generator code"
      ]
    },
    {
      "cell_type": "code",
      "metadata": {
        "id": "9m8Jbx858AyU"
      },
      "source": [
        "def json2mask(json_path,h,w):\n",
        "\n",
        "        data = json.load(open(json_path))\n",
        "        \n",
        "\n",
        "        #mask = Image.open(mask_path).convert('L') # Use mask.mode to know that the format of the read mask image is I, which is 32-bit integer data, so it must be converted to L format\n",
        "        # Change to read directly from json file\n",
        "        label_name_to_value = {\"_background_\": 0,\"1\":1,\"2\":2}\n",
        "        mask, label_names = shape.shapes_to_label(img_shape=(720,1280), shapes=data['shapes'],label_name_to_value=label_name_to_value)\n",
        "        \n",
        "        obj_ids = np.unique(mask)  # Remove duplicate numbers in the array and sort\n",
        "        obj_ids = obj_ids[1:]  # Remove the first index because it is the background\n",
        "        masks = mask == obj_ids[:, None, None]  # split the color-encoded mask into a set of binary masks\n",
        "\n",
        "        #resize \n",
        "        mask= mask.astype(\"float32\")\n",
        "        resize = A.Compose([\n",
        "            A.Resize(width=w, height=h),\n",
        "        ])\n",
        "        mask= resize(image=mask)[\"image\"]\n",
        "        mask= 255*mask\n",
        "\n",
        "        #convert to 0-1\n",
        "        #ret, thresh1 = cv2.threshold(clone, 120, 255, cv2.THRESH_BINARY)\n",
        "        mask= np.where(mask > 120, 255, 0)\n",
        "        mask= mask/255\n",
        "        mask= mask.astype(\"int32\")\n",
        "\n",
        "        #return dim =2 [0,1] and [1,0]\n",
        "        encoder= np.array([[0,0,0],[255,255,255]])\n",
        "        out= encoder[mask]\n",
        "        out =label_indices(out,COLORMAP2LABEL)\n",
        "        #out= encoder[mask]\n",
        "\n",
        "        #print(out)\n",
        "        return out"
      ],
      "execution_count": null,
      "outputs": []
    },
    {
      "cell_type": "code",
      "metadata": {
        "id": "GYSSA--z9XaG"
      },
      "source": [
        ""
      ],
      "execution_count": null,
      "outputs": []
    },
    {
      "cell_type": "code",
      "metadata": {
        "id": "vaRJBCqS2nIq"
      },
      "source": [
        "def loader(training_path, segmented_path, dir, batch_size, h=320, w=640):\n",
        "    filenames_t = training_path\n",
        "    total_files_t = len(filenames_t)\n",
        "    \n",
        "    filenames_s = segmented_path\n",
        "    total_files_s = len(filenames_s)\n",
        "    \n",
        "    assert(total_files_t == total_files_s)\n",
        "    \n",
        "    if str(batch_size).lower() == 'all':\n",
        "        batch_size = total_files_s\n",
        "    \n",
        "    idx = 0\n",
        "\n",
        "    resize = A.Compose([\n",
        "            A.Resize(width=w, height=h),\n",
        "        ])\n",
        "\n",
        "    while(1):\n",
        "      # Choosing random indexes of images and labels\n",
        "        batch_idxs = np.random.randint(0, total_files_s, batch_size)\n",
        "            \n",
        "        \n",
        "        inputs = []\n",
        "        labels = []\n",
        "        \n",
        "        for jj in batch_idxs:\n",
        "          # Reading normalized photo\n",
        "            img = Image.open(dir[0] + filenames_t[jj])\n",
        "            img = np.asarray(img)\n",
        "          # Resizing using nearest neighbor method\n",
        "            img = resize(image=img)[\"image\"]\n",
        "            #img = img[80:160, :, :]\n",
        "            #img = cv2.resize(img, (h, w), cv2.INTER_NEAREST)\n",
        "            inputs.append(img)\n",
        "\n",
        "          # Reading semantic image\n",
        "            mask = json2mask(dir[1] + filenames_s[jj],h,w)\n",
        "        \n",
        "                \n",
        "            \n",
        "\n",
        "          # Resizing using nearest neighbor method\n",
        "            #img = img[80:160, :]\n",
        "            #img = cv2.resize(img, (h, w), cv2.INTER_NEAREST)\n",
        "            labels.append(mask)\n",
        "         \n",
        "        inputs = np.stack(inputs, axis=2)\n",
        "      # Changing image format to C x H x W\n",
        "        inputs = torch.tensor(inputs).transpose(0, 2).transpose(1, 3)\n",
        "        \n",
        "        labels = torch.tensor(labels)\n",
        "        \n",
        "        yield inputs, labels"
      ],
      "execution_count": null,
      "outputs": []
    },
    {
      "cell_type": "markdown",
      "metadata": {
        "id": "W5wAQh1P7QRf"
      },
      "source": [
        "#### weight"
      ]
    },
    {
      "cell_type": "code",
      "metadata": {
        "id": "6ELyxKTb3kxA"
      },
      "source": [
        "def get_class_weights(num_classes, c=1.02):\n",
        "    pipe = loader(X_train, y_train,dir, batch_size= 8)\n",
        "    _, labels = next(pipe)\n",
        "    #print(labels[1])\n",
        "    all_labels = labels.flatten()\n",
        "    each_class = np.bincount(all_labels, minlength=num_classes)\n",
        "    prospensity_score = each_class / len(all_labels)\n",
        "    class_weights = 1 / (np.log(c + prospensity_score))\n",
        "    return class_weights"
      ],
      "execution_count": null,
      "outputs": []
    },
    {
      "cell_type": "code",
      "metadata": {
        "id": "fJ0kqVg74jut"
      },
      "source": [
        "class_weights = get_class_weights(2)"
      ],
      "execution_count": null,
      "outputs": []
    },
    {
      "cell_type": "code",
      "metadata": {
        "colab": {
          "base_uri": "https://localhost:8080/"
        },
        "id": "y5inxqDS7ZF0",
        "outputId": "2613f633-9b5d-4ca2-e6cd-eb5f495de98d"
      },
      "source": [
        "print(class_weights)"
      ],
      "execution_count": null,
      "outputs": [
        {
          "output_type": "stream",
          "text": [
            "[1.54324297 8.28338545]\n"
          ],
          "name": "stdout"
        }
      ]
    },
    {
      "cell_type": "markdown",
      "metadata": {
        "id": "U40UxDLC7VAj"
      },
      "source": [
        "# compile model"
      ]
    },
    {
      "cell_type": "markdown",
      "metadata": {
        "id": "YIWcOzQ5G-q6"
      },
      "source": [
        "#### compile"
      ]
    },
    {
      "cell_type": "code",
      "metadata": {
        "id": "kA9A6hh-KfM6"
      },
      "source": [
        "#PyTorch\n",
        "class IoULoss(nn.Module):\n",
        "    def __init__(self, weight=None, size_average=True):\n",
        "        super(IoULoss, self).__init__()\n",
        "\n",
        "    def forward(self, inputs, targets, smooth=1):\n",
        "        \n",
        "        #comment out if your model contains a sigmoid or equivalent activation layer\n",
        "        inputs = torch.sigmoid(inputs)       \n",
        "        \n",
        "        #flatten label and prediction tensors\n",
        "        inputs = inputs.view(-1)\n",
        "        targets = targets.view(-1)\n",
        "        \n",
        "        #intersection is equivalent to True Positive count\n",
        "        #union is the mutually inclusive area of all labels & predictions \n",
        "        intersection = (inputs * targets).sum()\n",
        "        total = (inputs + targets).sum()\n",
        "        union = total - intersection \n",
        "        \n",
        "        IoU = (intersection + smooth)/(union + smooth)\n",
        "                \n",
        "        return 1 - IoU\n"
      ],
      "execution_count": null,
      "outputs": []
    },
    {
      "cell_type": "code",
      "metadata": {
        "id": "4f7daLtt4qRw"
      },
      "source": [
        "lr = 5e-4\n",
        "batch_size = 32\n",
        "\n",
        "criterion = nn.CrossEntropyLoss(weight=torch.FloatTensor(class_weights).to(device))\n",
        "optimizer = torch.optim.Adam(enet.parameters(), \n",
        "                             lr=lr,\n",
        "                             weight_decay=2e-4)\n",
        "\n",
        "print_every = 1\n",
        "eval_every = 2"
      ],
      "execution_count": null,
      "outputs": []
    },
    {
      "cell_type": "code",
      "metadata": {
        "colab": {
          "base_uri": "https://localhost:8080/"
        },
        "id": "uL1DiH7i5e-8",
        "outputId": "dc98782f-8669-4873-ace7-ed6f7d14d1a2"
      },
      "source": [
        "def count_parameters(model):\n",
        "  return sum(p.numel() for p in model.parameters() if p.requires_grad)  \n",
        "print(count_parameters(enet))"
      ],
      "execution_count": null,
      "outputs": [
        {
          "output_type": "stream",
          "text": [
            "351116\n"
          ],
          "name": "stdout"
        }
      ]
    },
    {
      "cell_type": "markdown",
      "metadata": {
        "id": "YqviJcMV7kTe"
      },
      "source": [
        "#### train evaluate"
      ]
    },
    {
      "cell_type": "code",
      "metadata": {
        "id": "DF0cHT9FOuou",
        "colab": {
          "base_uri": "https://localhost:8080/",
          "height": 35
        },
        "outputId": "ba28970e-2ff0-44f5-fe57-0f34f7a46e0e"
      },
      "source": [
        "torch.__version__"
      ],
      "execution_count": null,
      "outputs": [
        {
          "output_type": "execute_result",
          "data": {
            "application/vnd.google.colaboratory.intrinsic+json": {
              "type": "string"
            },
            "text/plain": [
              "'1.9.0+cu102'"
            ]
          },
          "metadata": {
            "tags": []
          },
          "execution_count": 35
        }
      ]
    },
    {
      "cell_type": "code",
      "metadata": {
        "colab": {
          "base_uri": "https://localhost:8080/"
        },
        "id": "J9D1a4Nk4viP",
        "outputId": "235bacde-abad-40db-bcfa-c8dd800a57cb"
      },
      "source": [
        "train_losses = []\n",
        "eval_losses = []\n",
        "min_loss=10000\n",
        "\n",
        "#!mkdir /content/drive/MyDrive/DataSimulateITCar/Enet2\n",
        "\n",
        "bc_train = 1099  // batch_size # mini_batch train\n",
        "bc_eval = 200 // batch_size  # mini_batch validation\n",
        "print(bc_train)\n",
        "print(bc_eval)\n",
        "\n",
        "# Define pipeline objects\n",
        "pipe = loader(X_train, y_train,dir, batch_size)\n",
        "eval_pipe = loader(X_val, y_val,dir, batch_size)\n",
        "\n",
        "epochs = 100\n",
        "ex =100\n",
        "# Train loop\n",
        "\n",
        "for e in range(1, epochs+1):\n",
        "    \n",
        "    \n",
        "    train_loss = 0\n",
        "    print ('-'*15,'Epoch %d' % e, '-'*15)\n",
        "    \n",
        "    enet.train()\n",
        "    \n",
        "    for _ in tqdm(range(bc_train)):\n",
        "        X_batch, mask_batch = next(pipe)\n",
        "        \n",
        "        # assign data to cpu/gpu\n",
        "        X_batch, mask_batch = X_batch.to(device), mask_batch.to(device)\n",
        "\n",
        "        optimizer.zero_grad()\n",
        "\n",
        "        out = enet(X_batch.float())\n",
        "        \n",
        "        # loss calculation\n",
        "        loss = criterion(out, mask_batch.long())\n",
        "        # update weights\n",
        "        loss.backward()\n",
        "        optimizer.step()\n",
        "\n",
        "        train_loss += loss.item()\n",
        "    print ()    \n",
        "        \n",
        "\n",
        "    train_losses.append(train_loss)\n",
        "    \n",
        "    if (e+1) % print_every == 0:\n",
        "        print ('Epoch {}/{}...'.format(e, epochs),\n",
        "                'Loss {:6f}'.format(train_loss))\n",
        "    \n",
        "    if e % eval_every == 0:\n",
        "        with torch.no_grad():\n",
        "            enet.eval()\n",
        "            \n",
        "            eval_loss = 0\n",
        "\n",
        "            # Validation loop\n",
        "            for _ in tqdm(range(bc_eval)):\n",
        "                inputs, labels = next(eval_pipe)\n",
        "\n",
        "                \n",
        "                inputs, labels = inputs.to(device), labels.to(device)\n",
        "                    \n",
        "                \n",
        "                out = enet(inputs.float())\n",
        "                \n",
        "                out = out.data.max(1)[1]\n",
        "                \n",
        "                eval_loss += (labels.long() - out.long()).sum()\n",
        "                \n",
        "            \n",
        "            print ()\n",
        "            print ('Loss {:6f}'.format(eval_loss))\n",
        "            \n",
        "            eval_losses.append(eval_loss)\n",
        "        \n",
        "    if e % print_every == 0:\n",
        "        if min_loss >train_loss:\n",
        "            min_loss= train_loss\n",
        "            checkpoint = {\n",
        "                'epochs' : e,\n",
        "                'state_dict' : enet.state_dict()\n",
        "            }\n",
        "            \n",
        "\n",
        "            torch.save(checkpoint, '/content/drive/MyDrive/Model_/ckpt-enet2class_midcam-{}-{:2f}.pth'.format(e, train_loss))\n",
        "            print ('Model saved!')\n",
        "        else:\n",
        "            print(\"Train loss did not improved from {}\".format(min_loss))\n",
        "\n",
        "print ('Epoch {}/{}...'.format(e, epochs),\n",
        "       'Total Mean Loss: {:6f}'.format(sum(train_losses) / epochs))"
      ],
      "execution_count": null,
      "outputs": [
        {
          "output_type": "stream",
          "text": [
            "\r  0%|          | 0/34 [00:00<?, ?it/s]"
          ],
          "name": "stderr"
        },
        {
          "output_type": "stream",
          "text": [
            "34\n",
            "6\n",
            "--------------- Epoch 1 ---------------\n"
          ],
          "name": "stdout"
        },
        {
          "output_type": "stream",
          "text": [
            "/usr/local/lib/python3.7/dist-packages/torch/nn/functional.py:718: UserWarning: Named tensors and all their associated APIs are an experimental feature and subject to change. Please do not use them for anything important until they are released as stable. (Triggered internally at  /pytorch/c10/core/TensorImpl.h:1156.)\n",
            "  return torch.max_pool2d(input, kernel_size, stride, padding, dilation, ceil_mode)\n",
            "100%|██████████| 34/34 [01:59<00:00,  3.52s/it]\n",
            "  0%|          | 0/34 [00:00<?, ?it/s]"
          ],
          "name": "stderr"
        },
        {
          "output_type": "stream",
          "text": [
            "\n",
            "Epoch 1/100... Loss 26.558526\n",
            "Model saved!\n",
            "--------------- Epoch 2 ---------------\n"
          ],
          "name": "stdout"
        },
        {
          "output_type": "stream",
          "text": [
            "100%|██████████| 34/34 [01:58<00:00,  3.49s/it]\n",
            "  0%|          | 0/6 [00:00<?, ?it/s]"
          ],
          "name": "stderr"
        },
        {
          "output_type": "stream",
          "text": [
            "\n",
            "Epoch 2/100... Loss 10.079222\n"
          ],
          "name": "stdout"
        },
        {
          "output_type": "stream",
          "text": [
            "100%|██████████| 6/6 [00:13<00:00,  2.20s/it]\n"
          ],
          "name": "stderr"
        },
        {
          "output_type": "stream",
          "text": [
            "\n"
          ],
          "name": "stdout"
        },
        {
          "output_type": "stream",
          "text": [
            "\r  0%|          | 0/34 [00:00<?, ?it/s]"
          ],
          "name": "stderr"
        },
        {
          "output_type": "stream",
          "text": [
            "Loss -17687086.000000\n",
            "Model saved!\n",
            "--------------- Epoch 3 ---------------\n"
          ],
          "name": "stdout"
        },
        {
          "output_type": "stream",
          "text": [
            "100%|██████████| 34/34 [01:59<00:00,  3.52s/it]\n",
            "  0%|          | 0/34 [00:00<?, ?it/s]"
          ],
          "name": "stderr"
        },
        {
          "output_type": "stream",
          "text": [
            "\n",
            "Epoch 3/100... Loss 5.945210\n",
            "Model saved!\n",
            "--------------- Epoch 4 ---------------\n"
          ],
          "name": "stdout"
        },
        {
          "output_type": "stream",
          "text": [
            "100%|██████████| 34/34 [01:59<00:00,  3.50s/it]\n",
            "  0%|          | 0/6 [00:00<?, ?it/s]"
          ],
          "name": "stderr"
        },
        {
          "output_type": "stream",
          "text": [
            "\n",
            "Epoch 4/100... Loss 4.058594\n"
          ],
          "name": "stdout"
        },
        {
          "output_type": "stream",
          "text": [
            "100%|██████████| 6/6 [00:13<00:00,  2.22s/it]\n"
          ],
          "name": "stderr"
        },
        {
          "output_type": "stream",
          "text": [
            "\n"
          ],
          "name": "stdout"
        },
        {
          "output_type": "stream",
          "text": [
            "\r  0%|          | 0/34 [00:00<?, ?it/s]"
          ],
          "name": "stderr"
        },
        {
          "output_type": "stream",
          "text": [
            "Loss -10886138.000000\n",
            "Model saved!\n",
            "--------------- Epoch 5 ---------------\n"
          ],
          "name": "stdout"
        },
        {
          "output_type": "stream",
          "text": [
            "100%|██████████| 34/34 [01:58<00:00,  3.47s/it]\n",
            "  0%|          | 0/34 [00:00<?, ?it/s]"
          ],
          "name": "stderr"
        },
        {
          "output_type": "stream",
          "text": [
            "\n",
            "Epoch 5/100... Loss 3.242621\n",
            "Model saved!\n",
            "--------------- Epoch 6 ---------------\n"
          ],
          "name": "stdout"
        },
        {
          "output_type": "stream",
          "text": [
            "100%|██████████| 34/34 [01:57<00:00,  3.47s/it]\n",
            "  0%|          | 0/6 [00:00<?, ?it/s]"
          ],
          "name": "stderr"
        },
        {
          "output_type": "stream",
          "text": [
            "\n",
            "Epoch 6/100... Loss 2.590339\n"
          ],
          "name": "stdout"
        },
        {
          "output_type": "stream",
          "text": [
            "100%|██████████| 6/6 [00:13<00:00,  2.17s/it]\n"
          ],
          "name": "stderr"
        },
        {
          "output_type": "stream",
          "text": [
            "\n"
          ],
          "name": "stdout"
        },
        {
          "output_type": "stream",
          "text": [
            "\r  0%|          | 0/34 [00:00<?, ?it/s]"
          ],
          "name": "stderr"
        },
        {
          "output_type": "stream",
          "text": [
            "Loss -2823388.000000\n",
            "Model saved!\n",
            "--------------- Epoch 7 ---------------\n"
          ],
          "name": "stdout"
        },
        {
          "output_type": "stream",
          "text": [
            "100%|██████████| 34/34 [01:58<00:00,  3.48s/it]\n",
            "  0%|          | 0/34 [00:00<?, ?it/s]"
          ],
          "name": "stderr"
        },
        {
          "output_type": "stream",
          "text": [
            "\n",
            "Epoch 7/100... Loss 2.126778\n",
            "Model saved!\n",
            "--------------- Epoch 8 ---------------\n"
          ],
          "name": "stdout"
        },
        {
          "output_type": "stream",
          "text": [
            "100%|██████████| 34/34 [01:58<00:00,  3.49s/it]\n",
            "  0%|          | 0/6 [00:00<?, ?it/s]"
          ],
          "name": "stderr"
        },
        {
          "output_type": "stream",
          "text": [
            "\n",
            "Epoch 8/100... Loss 1.960419\n"
          ],
          "name": "stdout"
        },
        {
          "output_type": "stream",
          "text": [
            "100%|██████████| 6/6 [00:13<00:00,  2.20s/it]\n"
          ],
          "name": "stderr"
        },
        {
          "output_type": "stream",
          "text": [
            "\n"
          ],
          "name": "stdout"
        },
        {
          "output_type": "stream",
          "text": [
            "\r  0%|          | 0/34 [00:00<?, ?it/s]"
          ],
          "name": "stderr"
        },
        {
          "output_type": "stream",
          "text": [
            "Loss -1351300.000000\n",
            "Model saved!\n",
            "--------------- Epoch 9 ---------------\n"
          ],
          "name": "stdout"
        },
        {
          "output_type": "stream",
          "text": [
            "100%|██████████| 34/34 [01:59<00:00,  3.51s/it]\n",
            "  0%|          | 0/34 [00:00<?, ?it/s]"
          ],
          "name": "stderr"
        },
        {
          "output_type": "stream",
          "text": [
            "\n",
            "Epoch 9/100... Loss 1.848978\n",
            "Model saved!\n",
            "--------------- Epoch 10 ---------------\n"
          ],
          "name": "stdout"
        },
        {
          "output_type": "stream",
          "text": [
            "100%|██████████| 34/34 [01:58<00:00,  3.50s/it]\n",
            "  0%|          | 0/6 [00:00<?, ?it/s]"
          ],
          "name": "stderr"
        },
        {
          "output_type": "stream",
          "text": [
            "\n",
            "Epoch 10/100... Loss 1.700776\n"
          ],
          "name": "stdout"
        },
        {
          "output_type": "stream",
          "text": [
            "100%|██████████| 6/6 [00:13<00:00,  2.18s/it]\n"
          ],
          "name": "stderr"
        },
        {
          "output_type": "stream",
          "text": [
            "\n"
          ],
          "name": "stdout"
        },
        {
          "output_type": "stream",
          "text": [
            "\r  0%|          | 0/34 [00:00<?, ?it/s]"
          ],
          "name": "stderr"
        },
        {
          "output_type": "stream",
          "text": [
            "Loss -553045.000000\n",
            "Model saved!\n",
            "--------------- Epoch 11 ---------------\n"
          ],
          "name": "stdout"
        },
        {
          "output_type": "stream",
          "text": [
            "100%|██████████| 34/34 [01:58<00:00,  3.48s/it]\n",
            "  0%|          | 0/34 [00:00<?, ?it/s]"
          ],
          "name": "stderr"
        },
        {
          "output_type": "stream",
          "text": [
            "\n",
            "Epoch 11/100... Loss 1.508885\n",
            "Model saved!\n",
            "--------------- Epoch 12 ---------------\n"
          ],
          "name": "stdout"
        },
        {
          "output_type": "stream",
          "text": [
            "100%|██████████| 34/34 [01:59<00:00,  3.51s/it]\n",
            "  0%|          | 0/6 [00:00<?, ?it/s]"
          ],
          "name": "stderr"
        },
        {
          "output_type": "stream",
          "text": [
            "\n",
            "Epoch 12/100... Loss 1.550221\n"
          ],
          "name": "stdout"
        },
        {
          "output_type": "stream",
          "text": [
            "100%|██████████| 6/6 [00:13<00:00,  2.22s/it]\n"
          ],
          "name": "stderr"
        },
        {
          "output_type": "stream",
          "text": [
            "\n"
          ],
          "name": "stdout"
        },
        {
          "output_type": "stream",
          "text": [
            "\r  0%|          | 0/34 [00:00<?, ?it/s]"
          ],
          "name": "stderr"
        },
        {
          "output_type": "stream",
          "text": [
            "Loss -256661.000000\n",
            "Train loss did not improved from 1.508885432034731\n",
            "--------------- Epoch 13 ---------------\n"
          ],
          "name": "stdout"
        },
        {
          "output_type": "stream",
          "text": [
            "100%|██████████| 34/34 [01:58<00:00,  3.49s/it]\n",
            "  0%|          | 0/34 [00:00<?, ?it/s]"
          ],
          "name": "stderr"
        },
        {
          "output_type": "stream",
          "text": [
            "\n",
            "Epoch 13/100... Loss 1.459713\n",
            "Model saved!\n",
            "--------------- Epoch 14 ---------------\n"
          ],
          "name": "stdout"
        },
        {
          "output_type": "stream",
          "text": [
            "100%|██████████| 34/34 [01:57<00:00,  3.46s/it]\n",
            "  0%|          | 0/6 [00:00<?, ?it/s]"
          ],
          "name": "stderr"
        },
        {
          "output_type": "stream",
          "text": [
            "\n",
            "Epoch 14/100... Loss 1.384679\n"
          ],
          "name": "stdout"
        },
        {
          "output_type": "stream",
          "text": [
            "100%|██████████| 6/6 [00:13<00:00,  2.21s/it]\n"
          ],
          "name": "stderr"
        },
        {
          "output_type": "stream",
          "text": [
            "\n"
          ],
          "name": "stdout"
        },
        {
          "output_type": "stream",
          "text": [
            "\r  0%|          | 0/34 [00:00<?, ?it/s]"
          ],
          "name": "stderr"
        },
        {
          "output_type": "stream",
          "text": [
            "Loss 449475.000000\n",
            "Model saved!\n",
            "--------------- Epoch 15 ---------------\n"
          ],
          "name": "stdout"
        },
        {
          "output_type": "stream",
          "text": [
            "100%|██████████| 34/34 [01:57<00:00,  3.46s/it]\n",
            "  0%|          | 0/34 [00:00<?, ?it/s]"
          ],
          "name": "stderr"
        },
        {
          "output_type": "stream",
          "text": [
            "\n",
            "Epoch 15/100... Loss 1.295336\n",
            "Model saved!\n",
            "--------------- Epoch 16 ---------------\n"
          ],
          "name": "stdout"
        },
        {
          "output_type": "stream",
          "text": [
            "100%|██████████| 34/34 [01:58<00:00,  3.48s/it]\n",
            "  0%|          | 0/6 [00:00<?, ?it/s]"
          ],
          "name": "stderr"
        },
        {
          "output_type": "stream",
          "text": [
            "\n",
            "Epoch 16/100... Loss 1.236673\n"
          ],
          "name": "stdout"
        },
        {
          "output_type": "stream",
          "text": [
            "100%|██████████| 6/6 [00:13<00:00,  2.19s/it]\n"
          ],
          "name": "stderr"
        },
        {
          "output_type": "stream",
          "text": [
            "\n"
          ],
          "name": "stdout"
        },
        {
          "output_type": "stream",
          "text": [
            "\r  0%|          | 0/34 [00:00<?, ?it/s]"
          ],
          "name": "stderr"
        },
        {
          "output_type": "stream",
          "text": [
            "Loss 1521223.000000\n",
            "Model saved!\n",
            "--------------- Epoch 17 ---------------\n"
          ],
          "name": "stdout"
        },
        {
          "output_type": "stream",
          "text": [
            "100%|██████████| 34/34 [01:59<00:00,  3.51s/it]\n",
            "  0%|          | 0/34 [00:00<?, ?it/s]"
          ],
          "name": "stderr"
        },
        {
          "output_type": "stream",
          "text": [
            "\n",
            "Epoch 17/100... Loss 1.207253\n",
            "Model saved!\n",
            "--------------- Epoch 18 ---------------\n"
          ],
          "name": "stdout"
        },
        {
          "output_type": "stream",
          "text": [
            "100%|██████████| 34/34 [01:58<00:00,  3.49s/it]\n",
            "  0%|          | 0/6 [00:00<?, ?it/s]"
          ],
          "name": "stderr"
        },
        {
          "output_type": "stream",
          "text": [
            "\n",
            "Epoch 18/100... Loss 1.204551\n"
          ],
          "name": "stdout"
        },
        {
          "output_type": "stream",
          "text": [
            "100%|██████████| 6/6 [00:13<00:00,  2.21s/it]\n"
          ],
          "name": "stderr"
        },
        {
          "output_type": "stream",
          "text": [
            "\n"
          ],
          "name": "stdout"
        },
        {
          "output_type": "stream",
          "text": [
            "\r  0%|          | 0/34 [00:00<?, ?it/s]"
          ],
          "name": "stderr"
        },
        {
          "output_type": "stream",
          "text": [
            "Loss -251353.000000\n",
            "Model saved!\n",
            "--------------- Epoch 19 ---------------\n"
          ],
          "name": "stdout"
        },
        {
          "output_type": "stream",
          "text": [
            "100%|██████████| 34/34 [01:59<00:00,  3.50s/it]\n",
            "  0%|          | 0/34 [00:00<?, ?it/s]"
          ],
          "name": "stderr"
        },
        {
          "output_type": "stream",
          "text": [
            "\n",
            "Epoch 19/100... Loss 1.292998\n",
            "Train loss did not improved from 1.2045507058501244\n",
            "--------------- Epoch 20 ---------------\n"
          ],
          "name": "stdout"
        },
        {
          "output_type": "stream",
          "text": [
            "100%|██████████| 34/34 [01:59<00:00,  3.51s/it]\n",
            "  0%|          | 0/6 [00:00<?, ?it/s]"
          ],
          "name": "stderr"
        },
        {
          "output_type": "stream",
          "text": [
            "\n",
            "Epoch 20/100... Loss 1.125378\n"
          ],
          "name": "stdout"
        },
        {
          "output_type": "stream",
          "text": [
            "100%|██████████| 6/6 [00:13<00:00,  2.19s/it]\n"
          ],
          "name": "stderr"
        },
        {
          "output_type": "stream",
          "text": [
            "\n"
          ],
          "name": "stdout"
        },
        {
          "output_type": "stream",
          "text": [
            "\r  0%|          | 0/34 [00:00<?, ?it/s]"
          ],
          "name": "stderr"
        },
        {
          "output_type": "stream",
          "text": [
            "Loss 1210488.000000\n",
            "Model saved!\n",
            "--------------- Epoch 21 ---------------\n"
          ],
          "name": "stdout"
        },
        {
          "output_type": "stream",
          "text": [
            "100%|██████████| 34/34 [01:58<00:00,  3.49s/it]\n",
            "  0%|          | 0/34 [00:00<?, ?it/s]"
          ],
          "name": "stderr"
        },
        {
          "output_type": "stream",
          "text": [
            "\n",
            "Epoch 21/100... Loss 1.081759\n",
            "Model saved!\n",
            "--------------- Epoch 22 ---------------\n"
          ],
          "name": "stdout"
        },
        {
          "output_type": "stream",
          "text": [
            "100%|██████████| 34/34 [01:57<00:00,  3.46s/it]\n",
            "  0%|          | 0/6 [00:00<?, ?it/s]"
          ],
          "name": "stderr"
        },
        {
          "output_type": "stream",
          "text": [
            "\n",
            "Epoch 22/100... Loss 1.027328\n"
          ],
          "name": "stdout"
        },
        {
          "output_type": "stream",
          "text": [
            "100%|██████████| 6/6 [00:13<00:00,  2.22s/it]\n"
          ],
          "name": "stderr"
        },
        {
          "output_type": "stream",
          "text": [
            "\n"
          ],
          "name": "stdout"
        },
        {
          "output_type": "stream",
          "text": [
            "\r  0%|          | 0/34 [00:00<?, ?it/s]"
          ],
          "name": "stderr"
        },
        {
          "output_type": "stream",
          "text": [
            "Loss 2848565.000000\n",
            "Model saved!\n",
            "--------------- Epoch 23 ---------------\n"
          ],
          "name": "stdout"
        },
        {
          "output_type": "stream",
          "text": [
            "100%|██████████| 34/34 [01:58<00:00,  3.49s/it]\n",
            "  0%|          | 0/34 [00:00<?, ?it/s]"
          ],
          "name": "stderr"
        },
        {
          "output_type": "stream",
          "text": [
            "\n",
            "Epoch 23/100... Loss 0.997564\n",
            "Model saved!\n",
            "--------------- Epoch 24 ---------------\n"
          ],
          "name": "stdout"
        },
        {
          "output_type": "stream",
          "text": [
            "100%|██████████| 34/34 [01:57<00:00,  3.47s/it]\n",
            "  0%|          | 0/6 [00:00<?, ?it/s]"
          ],
          "name": "stderr"
        },
        {
          "output_type": "stream",
          "text": [
            "\n",
            "Epoch 24/100... Loss 0.980829\n"
          ],
          "name": "stdout"
        },
        {
          "output_type": "stream",
          "text": [
            "100%|██████████| 6/6 [00:13<00:00,  2.19s/it]\n"
          ],
          "name": "stderr"
        },
        {
          "output_type": "stream",
          "text": [
            "\n"
          ],
          "name": "stdout"
        },
        {
          "output_type": "stream",
          "text": [
            "\r  0%|          | 0/34 [00:00<?, ?it/s]"
          ],
          "name": "stderr"
        },
        {
          "output_type": "stream",
          "text": [
            "Loss 3112995.000000\n",
            "Model saved!\n",
            "--------------- Epoch 25 ---------------\n"
          ],
          "name": "stdout"
        },
        {
          "output_type": "stream",
          "text": [
            "100%|██████████| 34/34 [01:57<00:00,  3.46s/it]\n",
            "  0%|          | 0/34 [00:00<?, ?it/s]"
          ],
          "name": "stderr"
        },
        {
          "output_type": "stream",
          "text": [
            "\n",
            "Epoch 25/100... Loss 0.966261\n",
            "Model saved!\n",
            "--------------- Epoch 26 ---------------\n"
          ],
          "name": "stdout"
        },
        {
          "output_type": "stream",
          "text": [
            "100%|██████████| 34/34 [01:58<00:00,  3.48s/it]\n",
            "  0%|          | 0/6 [00:00<?, ?it/s]"
          ],
          "name": "stderr"
        },
        {
          "output_type": "stream",
          "text": [
            "\n",
            "Epoch 26/100... Loss 0.975483\n"
          ],
          "name": "stdout"
        },
        {
          "output_type": "stream",
          "text": [
            "100%|██████████| 6/6 [00:13<00:00,  2.18s/it]\n"
          ],
          "name": "stderr"
        },
        {
          "output_type": "stream",
          "text": [
            "\n"
          ],
          "name": "stdout"
        },
        {
          "output_type": "stream",
          "text": [
            "\r  0%|          | 0/34 [00:00<?, ?it/s]"
          ],
          "name": "stderr"
        },
        {
          "output_type": "stream",
          "text": [
            "Loss 3613431.000000\n",
            "Train loss did not improved from 0.9662614222615957\n",
            "--------------- Epoch 27 ---------------\n"
          ],
          "name": "stdout"
        },
        {
          "output_type": "stream",
          "text": [
            "100%|██████████| 34/34 [01:59<00:00,  3.51s/it]\n",
            "  0%|          | 0/34 [00:00<?, ?it/s]"
          ],
          "name": "stderr"
        },
        {
          "output_type": "stream",
          "text": [
            "\n",
            "Epoch 27/100... Loss 1.023765\n",
            "Train loss did not improved from 0.9662614222615957\n",
            "--------------- Epoch 28 ---------------\n"
          ],
          "name": "stdout"
        },
        {
          "output_type": "stream",
          "text": [
            "100%|██████████| 34/34 [01:59<00:00,  3.52s/it]\n",
            "  0%|          | 0/6 [00:00<?, ?it/s]"
          ],
          "name": "stderr"
        },
        {
          "output_type": "stream",
          "text": [
            "\n",
            "Epoch 28/100... Loss 0.958731\n"
          ],
          "name": "stdout"
        },
        {
          "output_type": "stream",
          "text": [
            "100%|██████████| 6/6 [00:13<00:00,  2.22s/it]\n"
          ],
          "name": "stderr"
        },
        {
          "output_type": "stream",
          "text": [
            "\n"
          ],
          "name": "stdout"
        },
        {
          "output_type": "stream",
          "text": [
            "\r  0%|          | 0/34 [00:00<?, ?it/s]"
          ],
          "name": "stderr"
        },
        {
          "output_type": "stream",
          "text": [
            "Loss 3804587.000000\n",
            "Model saved!\n",
            "--------------- Epoch 29 ---------------\n"
          ],
          "name": "stdout"
        },
        {
          "output_type": "stream",
          "text": [
            "100%|██████████| 34/34 [01:58<00:00,  3.49s/it]\n",
            "  0%|          | 0/34 [00:00<?, ?it/s]"
          ],
          "name": "stderr"
        },
        {
          "output_type": "stream",
          "text": [
            "\n",
            "Epoch 29/100... Loss 0.909430\n",
            "Model saved!\n",
            "--------------- Epoch 30 ---------------\n"
          ],
          "name": "stdout"
        },
        {
          "output_type": "stream",
          "text": [
            "100%|██████████| 34/34 [01:58<00:00,  3.49s/it]\n",
            "  0%|          | 0/6 [00:00<?, ?it/s]"
          ],
          "name": "stderr"
        },
        {
          "output_type": "stream",
          "text": [
            "\n",
            "Epoch 30/100... Loss 0.866250\n"
          ],
          "name": "stdout"
        },
        {
          "output_type": "stream",
          "text": [
            "100%|██████████| 6/6 [00:12<00:00,  2.16s/it]\n"
          ],
          "name": "stderr"
        },
        {
          "output_type": "stream",
          "text": [
            "\n"
          ],
          "name": "stdout"
        },
        {
          "output_type": "stream",
          "text": [
            "\r  0%|          | 0/34 [00:00<?, ?it/s]"
          ],
          "name": "stderr"
        },
        {
          "output_type": "stream",
          "text": [
            "Loss 3943099.000000\n",
            "Model saved!\n",
            "--------------- Epoch 31 ---------------\n"
          ],
          "name": "stdout"
        },
        {
          "output_type": "stream",
          "text": [
            "100%|██████████| 34/34 [01:59<00:00,  3.51s/it]\n",
            "  0%|          | 0/34 [00:00<?, ?it/s]"
          ],
          "name": "stderr"
        },
        {
          "output_type": "stream",
          "text": [
            "\n",
            "Epoch 31/100... Loss 0.833680\n",
            "Model saved!\n",
            "--------------- Epoch 32 ---------------\n"
          ],
          "name": "stdout"
        },
        {
          "output_type": "stream",
          "text": [
            "100%|██████████| 34/34 [01:58<00:00,  3.49s/it]\n",
            "  0%|          | 0/6 [00:00<?, ?it/s]"
          ],
          "name": "stderr"
        },
        {
          "output_type": "stream",
          "text": [
            "\n",
            "Epoch 32/100... Loss 0.824185\n"
          ],
          "name": "stdout"
        },
        {
          "output_type": "stream",
          "text": [
            "100%|██████████| 6/6 [00:13<00:00,  2.23s/it]\n"
          ],
          "name": "stderr"
        },
        {
          "output_type": "stream",
          "text": [
            "\n"
          ],
          "name": "stdout"
        },
        {
          "output_type": "stream",
          "text": [
            "\r  0%|          | 0/34 [00:00<?, ?it/s]"
          ],
          "name": "stderr"
        },
        {
          "output_type": "stream",
          "text": [
            "Loss 3209561.000000\n",
            "Model saved!\n",
            "--------------- Epoch 33 ---------------\n"
          ],
          "name": "stdout"
        },
        {
          "output_type": "stream",
          "text": [
            "100%|██████████| 34/34 [01:58<00:00,  3.48s/it]\n",
            "  0%|          | 0/34 [00:00<?, ?it/s]"
          ],
          "name": "stderr"
        },
        {
          "output_type": "stream",
          "text": [
            "\n",
            "Epoch 33/100... Loss 0.864687\n",
            "Train loss did not improved from 0.8241846729069948\n",
            "--------------- Epoch 34 ---------------\n"
          ],
          "name": "stdout"
        },
        {
          "output_type": "stream",
          "text": [
            "100%|██████████| 34/34 [01:59<00:00,  3.50s/it]\n",
            "  0%|          | 0/6 [00:00<?, ?it/s]"
          ],
          "name": "stderr"
        },
        {
          "output_type": "stream",
          "text": [
            "\n",
            "Epoch 34/100... Loss 0.802687\n"
          ],
          "name": "stdout"
        },
        {
          "output_type": "stream",
          "text": [
            "100%|██████████| 6/6 [00:13<00:00,  2.17s/it]\n"
          ],
          "name": "stderr"
        },
        {
          "output_type": "stream",
          "text": [
            "\n"
          ],
          "name": "stdout"
        },
        {
          "output_type": "stream",
          "text": [
            "\r  0%|          | 0/34 [00:00<?, ?it/s]"
          ],
          "name": "stderr"
        },
        {
          "output_type": "stream",
          "text": [
            "Loss 2857117.000000\n",
            "Model saved!\n",
            "--------------- Epoch 35 ---------------\n"
          ],
          "name": "stdout"
        },
        {
          "output_type": "stream",
          "text": [
            "100%|██████████| 34/34 [01:59<00:00,  3.51s/it]\n",
            "  0%|          | 0/34 [00:00<?, ?it/s]"
          ],
          "name": "stderr"
        },
        {
          "output_type": "stream",
          "text": [
            "\n",
            "Epoch 35/100... Loss 0.755661\n",
            "Model saved!\n",
            "--------------- Epoch 36 ---------------\n"
          ],
          "name": "stdout"
        },
        {
          "output_type": "stream",
          "text": [
            "100%|██████████| 34/34 [01:58<00:00,  3.47s/it]\n",
            "  0%|          | 0/6 [00:00<?, ?it/s]"
          ],
          "name": "stderr"
        },
        {
          "output_type": "stream",
          "text": [
            "\n",
            "Epoch 36/100... Loss 0.751524\n"
          ],
          "name": "stdout"
        },
        {
          "output_type": "stream",
          "text": [
            "100%|██████████| 6/6 [00:13<00:00,  2.19s/it]\n"
          ],
          "name": "stderr"
        },
        {
          "output_type": "stream",
          "text": [
            "\n"
          ],
          "name": "stdout"
        },
        {
          "output_type": "stream",
          "text": [
            "\r  0%|          | 0/34 [00:00<?, ?it/s]"
          ],
          "name": "stderr"
        },
        {
          "output_type": "stream",
          "text": [
            "Loss 875047.000000\n",
            "Model saved!\n",
            "--------------- Epoch 37 ---------------\n"
          ],
          "name": "stdout"
        },
        {
          "output_type": "stream",
          "text": [
            "100%|██████████| 34/34 [01:59<00:00,  3.50s/it]\n",
            "  0%|          | 0/34 [00:00<?, ?it/s]"
          ],
          "name": "stderr"
        },
        {
          "output_type": "stream",
          "text": [
            "\n",
            "Epoch 37/100... Loss 0.760464\n",
            "Train loss did not improved from 0.7515240535140038\n",
            "--------------- Epoch 38 ---------------\n"
          ],
          "name": "stdout"
        },
        {
          "output_type": "stream",
          "text": [
            "100%|██████████| 34/34 [01:59<00:00,  3.50s/it]\n",
            "  0%|          | 0/6 [00:00<?, ?it/s]"
          ],
          "name": "stderr"
        },
        {
          "output_type": "stream",
          "text": [
            "\n",
            "Epoch 38/100... Loss 0.760219\n"
          ],
          "name": "stdout"
        },
        {
          "output_type": "stream",
          "text": [
            "100%|██████████| 6/6 [00:13<00:00,  2.24s/it]\n"
          ],
          "name": "stderr"
        },
        {
          "output_type": "stream",
          "text": [
            "\n"
          ],
          "name": "stdout"
        },
        {
          "output_type": "stream",
          "text": [
            "\r  0%|          | 0/34 [00:00<?, ?it/s]"
          ],
          "name": "stderr"
        },
        {
          "output_type": "stream",
          "text": [
            "Loss 1766975.000000\n",
            "Train loss did not improved from 0.7515240535140038\n",
            "--------------- Epoch 39 ---------------\n"
          ],
          "name": "stdout"
        },
        {
          "output_type": "stream",
          "text": [
            "100%|██████████| 34/34 [01:57<00:00,  3.46s/it]\n",
            "  0%|          | 0/34 [00:00<?, ?it/s]"
          ],
          "name": "stderr"
        },
        {
          "output_type": "stream",
          "text": [
            "\n",
            "Epoch 39/100... Loss 1.066806\n",
            "Train loss did not improved from 0.7515240535140038\n",
            "--------------- Epoch 40 ---------------\n"
          ],
          "name": "stdout"
        },
        {
          "output_type": "stream",
          "text": [
            "100%|██████████| 34/34 [01:57<00:00,  3.47s/it]\n",
            "  0%|          | 0/6 [00:00<?, ?it/s]"
          ],
          "name": "stderr"
        },
        {
          "output_type": "stream",
          "text": [
            "\n",
            "Epoch 40/100... Loss 0.967217\n"
          ],
          "name": "stdout"
        },
        {
          "output_type": "stream",
          "text": [
            "100%|██████████| 6/6 [00:12<00:00,  2.15s/it]\n"
          ],
          "name": "stderr"
        },
        {
          "output_type": "stream",
          "text": [
            "\n"
          ],
          "name": "stdout"
        },
        {
          "output_type": "stream",
          "text": [
            "\r  0%|          | 0/34 [00:00<?, ?it/s]"
          ],
          "name": "stderr"
        },
        {
          "output_type": "stream",
          "text": [
            "Loss -5818432.000000\n",
            "Train loss did not improved from 0.7515240535140038\n",
            "--------------- Epoch 41 ---------------\n"
          ],
          "name": "stdout"
        },
        {
          "output_type": "stream",
          "text": [
            "100%|██████████| 34/34 [01:58<00:00,  3.50s/it]\n",
            "  0%|          | 0/34 [00:00<?, ?it/s]"
          ],
          "name": "stderr"
        },
        {
          "output_type": "stream",
          "text": [
            "\n",
            "Epoch 41/100... Loss 0.838944\n",
            "Train loss did not improved from 0.7515240535140038\n",
            "--------------- Epoch 42 ---------------\n"
          ],
          "name": "stdout"
        },
        {
          "output_type": "stream",
          "text": [
            "100%|██████████| 34/34 [01:58<00:00,  3.47s/it]\n",
            "  0%|          | 0/6 [00:00<?, ?it/s]"
          ],
          "name": "stderr"
        },
        {
          "output_type": "stream",
          "text": [
            "\n",
            "Epoch 42/100... Loss 0.770033\n"
          ],
          "name": "stdout"
        },
        {
          "output_type": "stream",
          "text": [
            "100%|██████████| 6/6 [00:13<00:00,  2.21s/it]\n"
          ],
          "name": "stderr"
        },
        {
          "output_type": "stream",
          "text": [
            "\n"
          ],
          "name": "stdout"
        },
        {
          "output_type": "stream",
          "text": [
            "\r  0%|          | 0/34 [00:00<?, ?it/s]"
          ],
          "name": "stderr"
        },
        {
          "output_type": "stream",
          "text": [
            "Loss 53244.000000\n",
            "Train loss did not improved from 0.7515240535140038\n",
            "--------------- Epoch 43 ---------------\n"
          ],
          "name": "stdout"
        },
        {
          "output_type": "stream",
          "text": [
            "100%|██████████| 34/34 [01:57<00:00,  3.46s/it]\n",
            "  0%|          | 0/34 [00:00<?, ?it/s]"
          ],
          "name": "stderr"
        },
        {
          "output_type": "stream",
          "text": [
            "\n",
            "Epoch 43/100... Loss 0.757898\n",
            "Train loss did not improved from 0.7515240535140038\n",
            "--------------- Epoch 44 ---------------\n"
          ],
          "name": "stdout"
        },
        {
          "output_type": "stream",
          "text": [
            "100%|██████████| 34/34 [01:58<00:00,  3.48s/it]\n",
            "  0%|          | 0/6 [00:00<?, ?it/s]"
          ],
          "name": "stderr"
        },
        {
          "output_type": "stream",
          "text": [
            "\n",
            "Epoch 44/100... Loss 0.722197\n"
          ],
          "name": "stdout"
        },
        {
          "output_type": "stream",
          "text": [
            "100%|██████████| 6/6 [00:12<00:00,  2.15s/it]\n"
          ],
          "name": "stderr"
        },
        {
          "output_type": "stream",
          "text": [
            "\n"
          ],
          "name": "stdout"
        },
        {
          "output_type": "stream",
          "text": [
            "\r  0%|          | 0/34 [00:00<?, ?it/s]"
          ],
          "name": "stderr"
        },
        {
          "output_type": "stream",
          "text": [
            "Loss -3977236.000000\n",
            "Model saved!\n",
            "--------------- Epoch 45 ---------------\n"
          ],
          "name": "stdout"
        },
        {
          "output_type": "stream",
          "text": [
            "100%|██████████| 34/34 [01:57<00:00,  3.47s/it]\n",
            "  0%|          | 0/34 [00:00<?, ?it/s]"
          ],
          "name": "stderr"
        },
        {
          "output_type": "stream",
          "text": [
            "\n",
            "Epoch 45/100... Loss 0.726686\n",
            "Train loss did not improved from 0.7221970241516829\n",
            "--------------- Epoch 46 ---------------\n"
          ],
          "name": "stdout"
        },
        {
          "output_type": "stream",
          "text": [
            "100%|██████████| 34/34 [01:57<00:00,  3.47s/it]\n",
            "  0%|          | 0/6 [00:00<?, ?it/s]"
          ],
          "name": "stderr"
        },
        {
          "output_type": "stream",
          "text": [
            "\n",
            "Epoch 46/100... Loss 0.722959\n"
          ],
          "name": "stdout"
        },
        {
          "output_type": "stream",
          "text": [
            "100%|██████████| 6/6 [00:13<00:00,  2.20s/it]\n"
          ],
          "name": "stderr"
        },
        {
          "output_type": "stream",
          "text": [
            "\n"
          ],
          "name": "stdout"
        },
        {
          "output_type": "stream",
          "text": [
            "\r  0%|          | 0/34 [00:00<?, ?it/s]"
          ],
          "name": "stderr"
        },
        {
          "output_type": "stream",
          "text": [
            "Loss -5150207.000000\n",
            "Train loss did not improved from 0.7221970241516829\n",
            "--------------- Epoch 47 ---------------\n"
          ],
          "name": "stdout"
        },
        {
          "output_type": "stream",
          "text": [
            "100%|██████████| 34/34 [01:59<00:00,  3.53s/it]\n",
            "  0%|          | 0/34 [00:00<?, ?it/s]"
          ],
          "name": "stderr"
        },
        {
          "output_type": "stream",
          "text": [
            "\n",
            "Epoch 47/100... Loss 0.681878\n",
            "Model saved!\n",
            "--------------- Epoch 48 ---------------\n"
          ],
          "name": "stdout"
        },
        {
          "output_type": "stream",
          "text": [
            "100%|██████████| 34/34 [01:59<00:00,  3.51s/it]\n",
            "  0%|          | 0/6 [00:00<?, ?it/s]"
          ],
          "name": "stderr"
        },
        {
          "output_type": "stream",
          "text": [
            "\n",
            "Epoch 48/100... Loss 0.655759\n"
          ],
          "name": "stdout"
        },
        {
          "output_type": "stream",
          "text": [
            "100%|██████████| 6/6 [00:13<00:00,  2.24s/it]\n"
          ],
          "name": "stderr"
        },
        {
          "output_type": "stream",
          "text": [
            "\n"
          ],
          "name": "stdout"
        },
        {
          "output_type": "stream",
          "text": [
            "\r  0%|          | 0/34 [00:00<?, ?it/s]"
          ],
          "name": "stderr"
        },
        {
          "output_type": "stream",
          "text": [
            "Loss -5706997.000000\n",
            "Model saved!\n",
            "--------------- Epoch 49 ---------------\n"
          ],
          "name": "stdout"
        },
        {
          "output_type": "stream",
          "text": [
            "100%|██████████| 34/34 [01:57<00:00,  3.46s/it]\n",
            "  0%|          | 0/34 [00:00<?, ?it/s]"
          ],
          "name": "stderr"
        },
        {
          "output_type": "stream",
          "text": [
            "\n",
            "Epoch 49/100... Loss 0.655703\n",
            "Model saved!\n",
            "--------------- Epoch 50 ---------------\n"
          ],
          "name": "stdout"
        },
        {
          "output_type": "stream",
          "text": [
            "100%|██████████| 34/34 [01:58<00:00,  3.49s/it]\n",
            "  0%|          | 0/6 [00:00<?, ?it/s]"
          ],
          "name": "stderr"
        },
        {
          "output_type": "stream",
          "text": [
            "\n",
            "Epoch 50/100... Loss 0.688303\n"
          ],
          "name": "stdout"
        },
        {
          "output_type": "stream",
          "text": [
            "100%|██████████| 6/6 [00:13<00:00,  2.23s/it]\n"
          ],
          "name": "stderr"
        },
        {
          "output_type": "stream",
          "text": [
            "\n"
          ],
          "name": "stdout"
        },
        {
          "output_type": "stream",
          "text": [
            "\r  0%|          | 0/34 [00:00<?, ?it/s]"
          ],
          "name": "stderr"
        },
        {
          "output_type": "stream",
          "text": [
            "Loss -17773446.000000\n",
            "Train loss did not improved from 0.6557026281952858\n",
            "--------------- Epoch 51 ---------------\n"
          ],
          "name": "stdout"
        },
        {
          "output_type": "stream",
          "text": [
            "100%|██████████| 34/34 [01:59<00:00,  3.50s/it]\n",
            "  0%|          | 0/34 [00:00<?, ?it/s]"
          ],
          "name": "stderr"
        },
        {
          "output_type": "stream",
          "text": [
            "\n",
            "Epoch 51/100... Loss 0.627430\n",
            "Model saved!\n",
            "--------------- Epoch 52 ---------------\n"
          ],
          "name": "stdout"
        },
        {
          "output_type": "stream",
          "text": [
            "100%|██████████| 34/34 [01:58<00:00,  3.48s/it]\n",
            "  0%|          | 0/6 [00:00<?, ?it/s]"
          ],
          "name": "stderr"
        },
        {
          "output_type": "stream",
          "text": [
            "\n",
            "Epoch 52/100... Loss 0.628737\n"
          ],
          "name": "stdout"
        },
        {
          "output_type": "stream",
          "text": [
            "100%|██████████| 6/6 [00:13<00:00,  2.19s/it]\n"
          ],
          "name": "stderr"
        },
        {
          "output_type": "stream",
          "text": [
            "\n"
          ],
          "name": "stdout"
        },
        {
          "output_type": "stream",
          "text": [
            "\r  0%|          | 0/34 [00:00<?, ?it/s]"
          ],
          "name": "stderr"
        },
        {
          "output_type": "stream",
          "text": [
            "Loss -11968220.000000\n",
            "Train loss did not improved from 0.6274299081414938\n",
            "--------------- Epoch 53 ---------------\n"
          ],
          "name": "stdout"
        },
        {
          "output_type": "stream",
          "text": [
            "100%|██████████| 34/34 [01:58<00:00,  3.50s/it]\n",
            "  0%|          | 0/34 [00:00<?, ?it/s]"
          ],
          "name": "stderr"
        },
        {
          "output_type": "stream",
          "text": [
            "\n",
            "Epoch 53/100... Loss 0.650525\n",
            "Train loss did not improved from 0.6274299081414938\n",
            "--------------- Epoch 54 ---------------\n"
          ],
          "name": "stdout"
        },
        {
          "output_type": "stream",
          "text": [
            "100%|██████████| 34/34 [01:58<00:00,  3.50s/it]\n",
            "  0%|          | 0/6 [00:00<?, ?it/s]"
          ],
          "name": "stderr"
        },
        {
          "output_type": "stream",
          "text": [
            "\n",
            "Epoch 54/100... Loss 0.621479\n"
          ],
          "name": "stdout"
        },
        {
          "output_type": "stream",
          "text": [
            "100%|██████████| 6/6 [00:13<00:00,  2.22s/it]\n"
          ],
          "name": "stderr"
        },
        {
          "output_type": "stream",
          "text": [
            "\n"
          ],
          "name": "stdout"
        },
        {
          "output_type": "stream",
          "text": [
            "\r  0%|          | 0/34 [00:00<?, ?it/s]"
          ],
          "name": "stderr"
        },
        {
          "output_type": "stream",
          "text": [
            "Loss -15558523.000000\n",
            "Model saved!\n",
            "--------------- Epoch 55 ---------------\n"
          ],
          "name": "stdout"
        },
        {
          "output_type": "stream",
          "text": [
            "100%|██████████| 34/34 [01:58<00:00,  3.48s/it]\n",
            "  0%|          | 0/34 [00:00<?, ?it/s]"
          ],
          "name": "stderr"
        },
        {
          "output_type": "stream",
          "text": [
            "\n",
            "Epoch 55/100... Loss 0.618407\n",
            "Model saved!\n",
            "--------------- Epoch 56 ---------------\n"
          ],
          "name": "stdout"
        },
        {
          "output_type": "stream",
          "text": [
            "100%|██████████| 34/34 [01:57<00:00,  3.46s/it]\n",
            "  0%|          | 0/6 [00:00<?, ?it/s]"
          ],
          "name": "stderr"
        },
        {
          "output_type": "stream",
          "text": [
            "\n",
            "Epoch 56/100... Loss 0.625629\n"
          ],
          "name": "stdout"
        },
        {
          "output_type": "stream",
          "text": [
            "100%|██████████| 6/6 [00:12<00:00,  2.17s/it]\n"
          ],
          "name": "stderr"
        },
        {
          "output_type": "stream",
          "text": [
            "\n"
          ],
          "name": "stdout"
        },
        {
          "output_type": "stream",
          "text": [
            "\r  0%|          | 0/34 [00:00<?, ?it/s]"
          ],
          "name": "stderr"
        },
        {
          "output_type": "stream",
          "text": [
            "Loss -18717751.000000\n",
            "Train loss did not improved from 0.6184072345495224\n",
            "--------------- Epoch 57 ---------------\n"
          ],
          "name": "stdout"
        },
        {
          "output_type": "stream",
          "text": [
            "100%|██████████| 34/34 [01:56<00:00,  3.42s/it]\n",
            "  0%|          | 0/34 [00:00<?, ?it/s]"
          ],
          "name": "stderr"
        },
        {
          "output_type": "stream",
          "text": [
            "\n",
            "Epoch 57/100... Loss 0.623815\n",
            "Train loss did not improved from 0.6184072345495224\n",
            "--------------- Epoch 58 ---------------\n"
          ],
          "name": "stdout"
        },
        {
          "output_type": "stream",
          "text": [
            "100%|██████████| 34/34 [01:56<00:00,  3.44s/it]\n",
            "  0%|          | 0/6 [00:00<?, ?it/s]"
          ],
          "name": "stderr"
        },
        {
          "output_type": "stream",
          "text": [
            "\n",
            "Epoch 58/100... Loss 0.590865\n"
          ],
          "name": "stdout"
        },
        {
          "output_type": "stream",
          "text": [
            "100%|██████████| 6/6 [00:12<00:00,  2.15s/it]\n"
          ],
          "name": "stderr"
        },
        {
          "output_type": "stream",
          "text": [
            "\n"
          ],
          "name": "stdout"
        },
        {
          "output_type": "stream",
          "text": [
            "\r  0%|          | 0/34 [00:00<?, ?it/s]"
          ],
          "name": "stderr"
        },
        {
          "output_type": "stream",
          "text": [
            "Loss -22276319.000000\n",
            "Model saved!\n",
            "--------------- Epoch 59 ---------------\n"
          ],
          "name": "stdout"
        },
        {
          "output_type": "stream",
          "text": [
            "100%|██████████| 34/34 [01:58<00:00,  3.47s/it]\n",
            "  0%|          | 0/34 [00:00<?, ?it/s]"
          ],
          "name": "stderr"
        },
        {
          "output_type": "stream",
          "text": [
            "\n",
            "Epoch 59/100... Loss 0.570253\n",
            "Model saved!\n",
            "--------------- Epoch 60 ---------------\n"
          ],
          "name": "stdout"
        },
        {
          "output_type": "stream",
          "text": [
            "100%|██████████| 34/34 [01:56<00:00,  3.42s/it]\n",
            "  0%|          | 0/6 [00:00<?, ?it/s]"
          ],
          "name": "stderr"
        },
        {
          "output_type": "stream",
          "text": [
            "\n",
            "Epoch 60/100... Loss 0.550284\n"
          ],
          "name": "stdout"
        },
        {
          "output_type": "stream",
          "text": [
            "100%|██████████| 6/6 [00:12<00:00,  2.14s/it]\n"
          ],
          "name": "stderr"
        },
        {
          "output_type": "stream",
          "text": [
            "\n"
          ],
          "name": "stdout"
        },
        {
          "output_type": "stream",
          "text": [
            "\r  0%|          | 0/34 [00:00<?, ?it/s]"
          ],
          "name": "stderr"
        },
        {
          "output_type": "stream",
          "text": [
            "Loss -29217681.000000\n",
            "Model saved!\n",
            "--------------- Epoch 61 ---------------\n"
          ],
          "name": "stdout"
        },
        {
          "output_type": "stream",
          "text": [
            "100%|██████████| 34/34 [01:57<00:00,  3.44s/it]\n",
            "  0%|          | 0/34 [00:00<?, ?it/s]"
          ],
          "name": "stderr"
        },
        {
          "output_type": "stream",
          "text": [
            "\n",
            "Epoch 61/100... Loss 0.555771\n",
            "Train loss did not improved from 0.5502841966226697\n",
            "--------------- Epoch 62 ---------------\n"
          ],
          "name": "stdout"
        },
        {
          "output_type": "stream",
          "text": [
            "100%|██████████| 34/34 [01:58<00:00,  3.48s/it]\n",
            "  0%|          | 0/6 [00:00<?, ?it/s]"
          ],
          "name": "stderr"
        },
        {
          "output_type": "stream",
          "text": [
            "\n",
            "Epoch 62/100... Loss 0.586127\n"
          ],
          "name": "stdout"
        },
        {
          "output_type": "stream",
          "text": [
            "100%|██████████| 6/6 [00:13<00:00,  2.25s/it]\n"
          ],
          "name": "stderr"
        },
        {
          "output_type": "stream",
          "text": [
            "\n"
          ],
          "name": "stdout"
        },
        {
          "output_type": "stream",
          "text": [
            "\r  0%|          | 0/34 [00:00<?, ?it/s]"
          ],
          "name": "stderr"
        },
        {
          "output_type": "stream",
          "text": [
            "Loss -18413609.000000\n",
            "Train loss did not improved from 0.5502841966226697\n",
            "--------------- Epoch 63 ---------------\n"
          ],
          "name": "stdout"
        },
        {
          "output_type": "stream",
          "text": [
            "100%|██████████| 34/34 [01:56<00:00,  3.42s/it]\n",
            "  0%|          | 0/34 [00:00<?, ?it/s]"
          ],
          "name": "stderr"
        },
        {
          "output_type": "stream",
          "text": [
            "\n",
            "Epoch 63/100... Loss 0.571688\n",
            "Train loss did not improved from 0.5502841966226697\n",
            "--------------- Epoch 64 ---------------\n"
          ],
          "name": "stdout"
        },
        {
          "output_type": "stream",
          "text": [
            "100%|██████████| 34/34 [01:57<00:00,  3.45s/it]\n",
            "  0%|          | 0/6 [00:00<?, ?it/s]"
          ],
          "name": "stderr"
        },
        {
          "output_type": "stream",
          "text": [
            "\n",
            "Epoch 64/100... Loss 0.587775\n"
          ],
          "name": "stdout"
        },
        {
          "output_type": "stream",
          "text": [
            "100%|██████████| 6/6 [00:13<00:00,  2.23s/it]\n"
          ],
          "name": "stderr"
        },
        {
          "output_type": "stream",
          "text": [
            "\n"
          ],
          "name": "stdout"
        },
        {
          "output_type": "stream",
          "text": [
            "\r  0%|          | 0/34 [00:00<?, ?it/s]"
          ],
          "name": "stderr"
        },
        {
          "output_type": "stream",
          "text": [
            "Loss -22384230.000000\n",
            "Train loss did not improved from 0.5502841966226697\n",
            "--------------- Epoch 65 ---------------\n"
          ],
          "name": "stdout"
        },
        {
          "output_type": "stream",
          "text": [
            "100%|██████████| 34/34 [01:59<00:00,  3.51s/it]\n",
            "  0%|          | 0/34 [00:00<?, ?it/s]"
          ],
          "name": "stderr"
        },
        {
          "output_type": "stream",
          "text": [
            "\n",
            "Epoch 65/100... Loss 0.601444\n",
            "Train loss did not improved from 0.5502841966226697\n",
            "--------------- Epoch 66 ---------------\n"
          ],
          "name": "stdout"
        },
        {
          "output_type": "stream",
          "text": [
            "100%|██████████| 34/34 [01:59<00:00,  3.52s/it]\n",
            "  0%|          | 0/6 [00:00<?, ?it/s]"
          ],
          "name": "stderr"
        },
        {
          "output_type": "stream",
          "text": [
            "\n",
            "Epoch 66/100... Loss 1.034501\n"
          ],
          "name": "stdout"
        },
        {
          "output_type": "stream",
          "text": [
            "100%|██████████| 6/6 [00:13<00:00,  2.25s/it]\n"
          ],
          "name": "stderr"
        },
        {
          "output_type": "stream",
          "text": [
            "\n"
          ],
          "name": "stdout"
        },
        {
          "output_type": "stream",
          "text": [
            "\r  0%|          | 0/34 [00:00<?, ?it/s]"
          ],
          "name": "stderr"
        },
        {
          "output_type": "stream",
          "text": [
            "Loss -18236002.000000\n",
            "Train loss did not improved from 0.5502841966226697\n",
            "--------------- Epoch 67 ---------------\n"
          ],
          "name": "stdout"
        },
        {
          "output_type": "stream",
          "text": [
            "100%|██████████| 34/34 [01:58<00:00,  3.50s/it]\n",
            "  0%|          | 0/34 [00:00<?, ?it/s]"
          ],
          "name": "stderr"
        },
        {
          "output_type": "stream",
          "text": [
            "\n",
            "Epoch 67/100... Loss 1.145923\n",
            "Train loss did not improved from 0.5502841966226697\n",
            "--------------- Epoch 68 ---------------\n"
          ],
          "name": "stdout"
        },
        {
          "output_type": "stream",
          "text": [
            "100%|██████████| 34/34 [01:58<00:00,  3.49s/it]\n",
            "  0%|          | 0/6 [00:00<?, ?it/s]"
          ],
          "name": "stderr"
        },
        {
          "output_type": "stream",
          "text": [
            "\n",
            "Epoch 68/100... Loss 0.824313\n"
          ],
          "name": "stdout"
        },
        {
          "output_type": "stream",
          "text": [
            "100%|██████████| 6/6 [00:13<00:00,  2.23s/it]\n"
          ],
          "name": "stderr"
        },
        {
          "output_type": "stream",
          "text": [
            "\n"
          ],
          "name": "stdout"
        },
        {
          "output_type": "stream",
          "text": [
            "\r  0%|          | 0/34 [00:00<?, ?it/s]"
          ],
          "name": "stderr"
        },
        {
          "output_type": "stream",
          "text": [
            "Loss -26644260.000000\n",
            "Train loss did not improved from 0.5502841966226697\n",
            "--------------- Epoch 69 ---------------\n"
          ],
          "name": "stdout"
        },
        {
          "output_type": "stream",
          "text": [
            "100%|██████████| 34/34 [01:58<00:00,  3.49s/it]\n",
            "  0%|          | 0/34 [00:00<?, ?it/s]"
          ],
          "name": "stderr"
        },
        {
          "output_type": "stream",
          "text": [
            "\n",
            "Epoch 69/100... Loss 0.724922\n",
            "Train loss did not improved from 0.5502841966226697\n",
            "--------------- Epoch 70 ---------------\n"
          ],
          "name": "stdout"
        },
        {
          "output_type": "stream",
          "text": [
            "100%|██████████| 34/34 [01:59<00:00,  3.50s/it]\n",
            "  0%|          | 0/6 [00:00<?, ?it/s]"
          ],
          "name": "stderr"
        },
        {
          "output_type": "stream",
          "text": [
            "\n",
            "Epoch 70/100... Loss 0.667579\n"
          ],
          "name": "stdout"
        },
        {
          "output_type": "stream",
          "text": [
            "100%|██████████| 6/6 [00:13<00:00,  2.24s/it]\n"
          ],
          "name": "stderr"
        },
        {
          "output_type": "stream",
          "text": [
            "\n"
          ],
          "name": "stdout"
        },
        {
          "output_type": "stream",
          "text": [
            "\r  0%|          | 0/34 [00:00<?, ?it/s]"
          ],
          "name": "stderr"
        },
        {
          "output_type": "stream",
          "text": [
            "Loss -33397971.000000\n",
            "Train loss did not improved from 0.5502841966226697\n",
            "--------------- Epoch 71 ---------------\n"
          ],
          "name": "stdout"
        },
        {
          "output_type": "stream",
          "text": [
            "100%|██████████| 34/34 [01:58<00:00,  3.48s/it]\n",
            "  0%|          | 0/34 [00:00<?, ?it/s]"
          ],
          "name": "stderr"
        },
        {
          "output_type": "stream",
          "text": [
            "\n",
            "Epoch 71/100... Loss 0.624778\n",
            "Train loss did not improved from 0.5502841966226697\n",
            "--------------- Epoch 72 ---------------\n"
          ],
          "name": "stdout"
        },
        {
          "output_type": "stream",
          "text": [
            "100%|██████████| 34/34 [01:59<00:00,  3.52s/it]\n",
            "  0%|          | 0/6 [00:00<?, ?it/s]"
          ],
          "name": "stderr"
        },
        {
          "output_type": "stream",
          "text": [
            "\n",
            "Epoch 72/100... Loss 0.577806\n"
          ],
          "name": "stdout"
        },
        {
          "output_type": "stream",
          "text": [
            "100%|██████████| 6/6 [00:13<00:00,  2.25s/it]\n"
          ],
          "name": "stderr"
        },
        {
          "output_type": "stream",
          "text": [
            "\n"
          ],
          "name": "stdout"
        },
        {
          "output_type": "stream",
          "text": [
            "\r  0%|          | 0/34 [00:00<?, ?it/s]"
          ],
          "name": "stderr"
        },
        {
          "output_type": "stream",
          "text": [
            "Loss -34213713.000000\n",
            "Train loss did not improved from 0.5502841966226697\n",
            "--------------- Epoch 73 ---------------\n"
          ],
          "name": "stdout"
        },
        {
          "output_type": "stream",
          "text": [
            "100%|██████████| 34/34 [02:00<00:00,  3.54s/it]\n",
            "  0%|          | 0/34 [00:00<?, ?it/s]"
          ],
          "name": "stderr"
        },
        {
          "output_type": "stream",
          "text": [
            "\n",
            "Epoch 73/100... Loss 0.569910\n",
            "Train loss did not improved from 0.5502841966226697\n",
            "--------------- Epoch 74 ---------------\n"
          ],
          "name": "stdout"
        },
        {
          "output_type": "stream",
          "text": [
            "100%|██████████| 34/34 [02:00<00:00,  3.53s/it]\n",
            "  0%|          | 0/6 [00:00<?, ?it/s]"
          ],
          "name": "stderr"
        },
        {
          "output_type": "stream",
          "text": [
            "\n",
            "Epoch 74/100... Loss 0.621515\n"
          ],
          "name": "stdout"
        },
        {
          "output_type": "stream",
          "text": [
            "100%|██████████| 6/6 [00:13<00:00,  2.22s/it]\n"
          ],
          "name": "stderr"
        },
        {
          "output_type": "stream",
          "text": [
            "\n"
          ],
          "name": "stdout"
        },
        {
          "output_type": "stream",
          "text": [
            "\r  0%|          | 0/34 [00:00<?, ?it/s]"
          ],
          "name": "stderr"
        },
        {
          "output_type": "stream",
          "text": [
            "Loss -33998180.000000\n",
            "Train loss did not improved from 0.5502841966226697\n",
            "--------------- Epoch 75 ---------------\n"
          ],
          "name": "stdout"
        },
        {
          "output_type": "stream",
          "text": [
            "100%|██████████| 34/34 [01:59<00:00,  3.53s/it]\n",
            "  0%|          | 0/34 [00:00<?, ?it/s]"
          ],
          "name": "stderr"
        },
        {
          "output_type": "stream",
          "text": [
            "\n",
            "Epoch 75/100... Loss 0.706858\n",
            "Train loss did not improved from 0.5502841966226697\n",
            "--------------- Epoch 76 ---------------\n"
          ],
          "name": "stdout"
        },
        {
          "output_type": "stream",
          "text": [
            "100%|██████████| 34/34 [01:59<00:00,  3.52s/it]\n",
            "  0%|          | 0/6 [00:00<?, ?it/s]"
          ],
          "name": "stderr"
        },
        {
          "output_type": "stream",
          "text": [
            "\n",
            "Epoch 76/100... Loss 0.598895\n"
          ],
          "name": "stdout"
        },
        {
          "output_type": "stream",
          "text": [
            "100%|██████████| 6/6 [00:13<00:00,  2.24s/it]\n"
          ],
          "name": "stderr"
        },
        {
          "output_type": "stream",
          "text": [
            "\n"
          ],
          "name": "stdout"
        },
        {
          "output_type": "stream",
          "text": [
            "\r  0%|          | 0/34 [00:00<?, ?it/s]"
          ],
          "name": "stderr"
        },
        {
          "output_type": "stream",
          "text": [
            "Loss -34495777.000000\n",
            "Train loss did not improved from 0.5502841966226697\n",
            "--------------- Epoch 77 ---------------\n"
          ],
          "name": "stdout"
        },
        {
          "output_type": "stream",
          "text": [
            "100%|██████████| 34/34 [01:59<00:00,  3.52s/it]\n",
            "  0%|          | 0/34 [00:00<?, ?it/s]"
          ],
          "name": "stderr"
        },
        {
          "output_type": "stream",
          "text": [
            "\n",
            "Epoch 77/100... Loss 0.547425\n",
            "Model saved!\n",
            "--------------- Epoch 78 ---------------\n"
          ],
          "name": "stdout"
        },
        {
          "output_type": "stream",
          "text": [
            "100%|██████████| 34/34 [01:59<00:00,  3.51s/it]\n",
            "  0%|          | 0/6 [00:00<?, ?it/s]"
          ],
          "name": "stderr"
        },
        {
          "output_type": "stream",
          "text": [
            "\n",
            "Epoch 78/100... Loss 0.520836\n"
          ],
          "name": "stdout"
        },
        {
          "output_type": "stream",
          "text": [
            "100%|██████████| 6/6 [00:13<00:00,  2.24s/it]\n"
          ],
          "name": "stderr"
        },
        {
          "output_type": "stream",
          "text": [
            "\n"
          ],
          "name": "stdout"
        },
        {
          "output_type": "stream",
          "text": [
            "\r  0%|          | 0/34 [00:00<?, ?it/s]"
          ],
          "name": "stderr"
        },
        {
          "output_type": "stream",
          "text": [
            "Loss -34523723.000000\n",
            "Model saved!\n",
            "--------------- Epoch 79 ---------------\n"
          ],
          "name": "stdout"
        },
        {
          "output_type": "stream",
          "text": [
            "100%|██████████| 34/34 [01:59<00:00,  3.51s/it]\n",
            "  0%|          | 0/34 [00:00<?, ?it/s]"
          ],
          "name": "stderr"
        },
        {
          "output_type": "stream",
          "text": [
            "\n",
            "Epoch 79/100... Loss 0.511921\n",
            "Model saved!\n",
            "--------------- Epoch 80 ---------------\n"
          ],
          "name": "stdout"
        },
        {
          "output_type": "stream",
          "text": [
            "100%|██████████| 34/34 [01:59<00:00,  3.51s/it]\n",
            "  0%|          | 0/6 [00:00<?, ?it/s]"
          ],
          "name": "stderr"
        },
        {
          "output_type": "stream",
          "text": [
            "\n",
            "Epoch 80/100... Loss 0.528090\n"
          ],
          "name": "stdout"
        },
        {
          "output_type": "stream",
          "text": [
            "100%|██████████| 6/6 [00:13<00:00,  2.22s/it]\n"
          ],
          "name": "stderr"
        },
        {
          "output_type": "stream",
          "text": [
            "\n"
          ],
          "name": "stdout"
        },
        {
          "output_type": "stream",
          "text": [
            "\r  0%|          | 0/34 [00:00<?, ?it/s]"
          ],
          "name": "stderr"
        },
        {
          "output_type": "stream",
          "text": [
            "Loss -34588152.000000\n",
            "Train loss did not improved from 0.5119207808747888\n",
            "--------------- Epoch 81 ---------------\n"
          ],
          "name": "stdout"
        },
        {
          "output_type": "stream",
          "text": [
            "100%|██████████| 34/34 [01:59<00:00,  3.51s/it]\n",
            "  0%|          | 0/34 [00:00<?, ?it/s]"
          ],
          "name": "stderr"
        },
        {
          "output_type": "stream",
          "text": [
            "\n",
            "Epoch 81/100... Loss 0.552541\n",
            "Train loss did not improved from 0.5119207808747888\n",
            "--------------- Epoch 82 ---------------\n"
          ],
          "name": "stdout"
        },
        {
          "output_type": "stream",
          "text": [
            "100%|██████████| 34/34 [01:58<00:00,  3.49s/it]\n",
            "  0%|          | 0/6 [00:00<?, ?it/s]"
          ],
          "name": "stderr"
        },
        {
          "output_type": "stream",
          "text": [
            "\n",
            "Epoch 82/100... Loss 0.536851\n"
          ],
          "name": "stdout"
        },
        {
          "output_type": "stream",
          "text": [
            "100%|██████████| 6/6 [00:13<00:00,  2.19s/it]\n"
          ],
          "name": "stderr"
        },
        {
          "output_type": "stream",
          "text": [
            "\n"
          ],
          "name": "stdout"
        },
        {
          "output_type": "stream",
          "text": [
            "\r  0%|          | 0/34 [00:00<?, ?it/s]"
          ],
          "name": "stderr"
        },
        {
          "output_type": "stream",
          "text": [
            "Loss -34554645.000000\n",
            "Train loss did not improved from 0.5119207808747888\n",
            "--------------- Epoch 83 ---------------\n"
          ],
          "name": "stdout"
        },
        {
          "output_type": "stream",
          "text": [
            "100%|██████████| 34/34 [01:58<00:00,  3.49s/it]\n",
            "  0%|          | 0/34 [00:00<?, ?it/s]"
          ],
          "name": "stderr"
        },
        {
          "output_type": "stream",
          "text": [
            "\n",
            "Epoch 83/100... Loss 0.555994\n",
            "Train loss did not improved from 0.5119207808747888\n",
            "--------------- Epoch 84 ---------------\n"
          ],
          "name": "stdout"
        },
        {
          "output_type": "stream",
          "text": [
            "100%|██████████| 34/34 [01:58<00:00,  3.49s/it]\n",
            "  0%|          | 0/6 [00:00<?, ?it/s]"
          ],
          "name": "stderr"
        },
        {
          "output_type": "stream",
          "text": [
            "\n",
            "Epoch 84/100... Loss 0.521775\n"
          ],
          "name": "stdout"
        },
        {
          "output_type": "stream",
          "text": [
            "100%|██████████| 6/6 [00:13<00:00,  2.23s/it]\n"
          ],
          "name": "stderr"
        },
        {
          "output_type": "stream",
          "text": [
            "\n"
          ],
          "name": "stdout"
        },
        {
          "output_type": "stream",
          "text": [
            "\r  0%|          | 0/34 [00:00<?, ?it/s]"
          ],
          "name": "stderr"
        },
        {
          "output_type": "stream",
          "text": [
            "Loss -34473312.000000\n",
            "Train loss did not improved from 0.5119207808747888\n",
            "--------------- Epoch 85 ---------------\n"
          ],
          "name": "stdout"
        },
        {
          "output_type": "stream",
          "text": [
            "100%|██████████| 34/34 [01:59<00:00,  3.50s/it]\n",
            "  0%|          | 0/34 [00:00<?, ?it/s]"
          ],
          "name": "stderr"
        },
        {
          "output_type": "stream",
          "text": [
            "\n",
            "Epoch 85/100... Loss 0.503668\n",
            "Model saved!\n",
            "--------------- Epoch 86 ---------------\n"
          ],
          "name": "stdout"
        },
        {
          "output_type": "stream",
          "text": [
            "100%|██████████| 34/34 [01:59<00:00,  3.51s/it]\n",
            "  0%|          | 0/6 [00:00<?, ?it/s]"
          ],
          "name": "stderr"
        },
        {
          "output_type": "stream",
          "text": [
            "\n",
            "Epoch 86/100... Loss 0.522204\n"
          ],
          "name": "stdout"
        },
        {
          "output_type": "stream",
          "text": [
            "100%|██████████| 6/6 [00:13<00:00,  2.22s/it]\n"
          ],
          "name": "stderr"
        },
        {
          "output_type": "stream",
          "text": [
            "\n"
          ],
          "name": "stdout"
        },
        {
          "output_type": "stream",
          "text": [
            "\r  0%|          | 0/34 [00:00<?, ?it/s]"
          ],
          "name": "stderr"
        },
        {
          "output_type": "stream",
          "text": [
            "Loss -34611557.000000\n",
            "Train loss did not improved from 0.503667545504868\n",
            "--------------- Epoch 87 ---------------\n"
          ],
          "name": "stdout"
        },
        {
          "output_type": "stream",
          "text": [
            "100%|██████████| 34/34 [01:58<00:00,  3.49s/it]\n",
            "  0%|          | 0/34 [00:00<?, ?it/s]"
          ],
          "name": "stderr"
        },
        {
          "output_type": "stream",
          "text": [
            "\n",
            "Epoch 87/100... Loss 0.604617\n",
            "Train loss did not improved from 0.503667545504868\n",
            "--------------- Epoch 88 ---------------\n"
          ],
          "name": "stdout"
        },
        {
          "output_type": "stream",
          "text": [
            "100%|██████████| 34/34 [02:00<00:00,  3.54s/it]\n",
            "  0%|          | 0/6 [00:00<?, ?it/s]"
          ],
          "name": "stderr"
        },
        {
          "output_type": "stream",
          "text": [
            "\n",
            "Epoch 88/100... Loss 1.006206\n"
          ],
          "name": "stdout"
        },
        {
          "output_type": "stream",
          "text": [
            "100%|██████████| 6/6 [00:13<00:00,  2.21s/it]\n"
          ],
          "name": "stderr"
        },
        {
          "output_type": "stream",
          "text": [
            "\n"
          ],
          "name": "stdout"
        },
        {
          "output_type": "stream",
          "text": [
            "\r  0%|          | 0/34 [00:00<?, ?it/s]"
          ],
          "name": "stderr"
        },
        {
          "output_type": "stream",
          "text": [
            "Loss -34770472.000000\n",
            "Train loss did not improved from 0.503667545504868\n",
            "--------------- Epoch 89 ---------------\n"
          ],
          "name": "stdout"
        },
        {
          "output_type": "stream",
          "text": [
            "100%|██████████| 34/34 [02:00<00:00,  3.55s/it]\n",
            "  0%|          | 0/34 [00:00<?, ?it/s]"
          ],
          "name": "stderr"
        },
        {
          "output_type": "stream",
          "text": [
            "\n",
            "Epoch 89/100... Loss 0.770550\n",
            "Train loss did not improved from 0.503667545504868\n",
            "--------------- Epoch 90 ---------------\n"
          ],
          "name": "stdout"
        },
        {
          "output_type": "stream",
          "text": [
            "100%|██████████| 34/34 [02:00<00:00,  3.54s/it]\n",
            "  0%|          | 0/6 [00:00<?, ?it/s]"
          ],
          "name": "stderr"
        },
        {
          "output_type": "stream",
          "text": [
            "\n",
            "Epoch 90/100... Loss 0.693575\n"
          ],
          "name": "stdout"
        },
        {
          "output_type": "stream",
          "text": [
            "100%|██████████| 6/6 [00:13<00:00,  2.23s/it]\n"
          ],
          "name": "stderr"
        },
        {
          "output_type": "stream",
          "text": [
            "\n"
          ],
          "name": "stdout"
        },
        {
          "output_type": "stream",
          "text": [
            "\r  0%|          | 0/34 [00:00<?, ?it/s]"
          ],
          "name": "stderr"
        },
        {
          "output_type": "stream",
          "text": [
            "Loss -34582256.000000\n",
            "Train loss did not improved from 0.503667545504868\n",
            "--------------- Epoch 91 ---------------\n"
          ],
          "name": "stdout"
        },
        {
          "output_type": "stream",
          "text": [
            "100%|██████████| 34/34 [01:59<00:00,  3.52s/it]\n",
            "  0%|          | 0/34 [00:00<?, ?it/s]"
          ],
          "name": "stderr"
        },
        {
          "output_type": "stream",
          "text": [
            "\n",
            "Epoch 91/100... Loss 0.646810\n",
            "Train loss did not improved from 0.503667545504868\n",
            "--------------- Epoch 92 ---------------\n"
          ],
          "name": "stdout"
        },
        {
          "output_type": "stream",
          "text": [
            "100%|██████████| 34/34 [02:00<00:00,  3.53s/it]\n",
            "  0%|          | 0/6 [00:00<?, ?it/s]"
          ],
          "name": "stderr"
        },
        {
          "output_type": "stream",
          "text": [
            "\n",
            "Epoch 92/100... Loss 0.564700\n"
          ],
          "name": "stdout"
        },
        {
          "output_type": "stream",
          "text": [
            "100%|██████████| 6/6 [00:13<00:00,  2.22s/it]\n"
          ],
          "name": "stderr"
        },
        {
          "output_type": "stream",
          "text": [
            "\n"
          ],
          "name": "stdout"
        },
        {
          "output_type": "stream",
          "text": [
            "\r  0%|          | 0/34 [00:00<?, ?it/s]"
          ],
          "name": "stderr"
        },
        {
          "output_type": "stream",
          "text": [
            "Loss -34631094.000000\n",
            "Train loss did not improved from 0.503667545504868\n",
            "--------------- Epoch 93 ---------------\n"
          ],
          "name": "stdout"
        },
        {
          "output_type": "stream",
          "text": [
            "100%|██████████| 34/34 [01:59<00:00,  3.52s/it]\n",
            "  0%|          | 0/34 [00:00<?, ?it/s]"
          ],
          "name": "stderr"
        },
        {
          "output_type": "stream",
          "text": [
            "\n",
            "Epoch 93/100... Loss 0.531201\n",
            "Train loss did not improved from 0.503667545504868\n",
            "--------------- Epoch 94 ---------------\n"
          ],
          "name": "stdout"
        },
        {
          "output_type": "stream",
          "text": [
            "100%|██████████| 34/34 [01:59<00:00,  3.52s/it]\n",
            "  0%|          | 0/6 [00:00<?, ?it/s]"
          ],
          "name": "stderr"
        },
        {
          "output_type": "stream",
          "text": [
            "\n",
            "Epoch 94/100... Loss 0.538062\n"
          ],
          "name": "stdout"
        },
        {
          "output_type": "stream",
          "text": [
            "100%|██████████| 6/6 [00:13<00:00,  2.28s/it]\n"
          ],
          "name": "stderr"
        },
        {
          "output_type": "stream",
          "text": [
            "\n"
          ],
          "name": "stdout"
        },
        {
          "output_type": "stream",
          "text": [
            "\r  0%|          | 0/34 [00:00<?, ?it/s]"
          ],
          "name": "stderr"
        },
        {
          "output_type": "stream",
          "text": [
            "Loss -34656591.000000\n",
            "Train loss did not improved from 0.503667545504868\n",
            "--------------- Epoch 95 ---------------\n"
          ],
          "name": "stdout"
        },
        {
          "output_type": "stream",
          "text": [
            "100%|██████████| 34/34 [01:58<00:00,  3.49s/it]\n",
            "  0%|          | 0/34 [00:00<?, ?it/s]"
          ],
          "name": "stderr"
        },
        {
          "output_type": "stream",
          "text": [
            "\n",
            "Epoch 95/100... Loss 0.629656\n",
            "Train loss did not improved from 0.503667545504868\n",
            "--------------- Epoch 96 ---------------\n"
          ],
          "name": "stdout"
        },
        {
          "output_type": "stream",
          "text": [
            "100%|██████████| 34/34 [01:58<00:00,  3.49s/it]\n",
            "  0%|          | 0/6 [00:00<?, ?it/s]"
          ],
          "name": "stderr"
        },
        {
          "output_type": "stream",
          "text": [
            "\n",
            "Epoch 96/100... Loss 0.576818\n"
          ],
          "name": "stdout"
        },
        {
          "output_type": "stream",
          "text": [
            "100%|██████████| 6/6 [00:13<00:00,  2.17s/it]\n"
          ],
          "name": "stderr"
        },
        {
          "output_type": "stream",
          "text": [
            "\n"
          ],
          "name": "stdout"
        },
        {
          "output_type": "stream",
          "text": [
            "\r  0%|          | 0/34 [00:00<?, ?it/s]"
          ],
          "name": "stderr"
        },
        {
          "output_type": "stream",
          "text": [
            "Loss -34629375.000000\n",
            "Train loss did not improved from 0.503667545504868\n",
            "--------------- Epoch 97 ---------------\n"
          ],
          "name": "stdout"
        },
        {
          "output_type": "stream",
          "text": [
            "100%|██████████| 34/34 [01:58<00:00,  3.50s/it]\n",
            "  0%|          | 0/34 [00:00<?, ?it/s]"
          ],
          "name": "stderr"
        },
        {
          "output_type": "stream",
          "text": [
            "\n",
            "Epoch 97/100... Loss 0.519601\n",
            "Train loss did not improved from 0.503667545504868\n",
            "--------------- Epoch 98 ---------------\n"
          ],
          "name": "stdout"
        },
        {
          "output_type": "stream",
          "text": [
            "100%|██████████| 34/34 [01:59<00:00,  3.51s/it]\n",
            "  0%|          | 0/6 [00:00<?, ?it/s]"
          ],
          "name": "stderr"
        },
        {
          "output_type": "stream",
          "text": [
            "\n",
            "Epoch 98/100... Loss 0.506426\n"
          ],
          "name": "stdout"
        },
        {
          "output_type": "stream",
          "text": [
            "100%|██████████| 6/6 [00:13<00:00,  2.24s/it]\n"
          ],
          "name": "stderr"
        },
        {
          "output_type": "stream",
          "text": [
            "\n"
          ],
          "name": "stdout"
        },
        {
          "output_type": "stream",
          "text": [
            "\r  0%|          | 0/34 [00:00<?, ?it/s]"
          ],
          "name": "stderr"
        },
        {
          "output_type": "stream",
          "text": [
            "Loss -34683124.000000\n",
            "Train loss did not improved from 0.503667545504868\n",
            "--------------- Epoch 99 ---------------\n"
          ],
          "name": "stdout"
        },
        {
          "output_type": "stream",
          "text": [
            "100%|██████████| 34/34 [01:58<00:00,  3.50s/it]\n",
            "  0%|          | 0/34 [00:00<?, ?it/s]"
          ],
          "name": "stderr"
        },
        {
          "output_type": "stream",
          "text": [
            "\n",
            "Epoch 99/100... Loss 0.492667\n",
            "Model saved!\n",
            "--------------- Epoch 100 ---------------\n"
          ],
          "name": "stdout"
        },
        {
          "output_type": "stream",
          "text": [
            "100%|██████████| 34/34 [01:59<00:00,  3.51s/it]\n",
            "  0%|          | 0/6 [00:00<?, ?it/s]"
          ],
          "name": "stderr"
        },
        {
          "output_type": "stream",
          "text": [
            "\n",
            "Epoch 100/100... Loss 0.472528\n"
          ],
          "name": "stdout"
        },
        {
          "output_type": "stream",
          "text": [
            "100%|██████████| 6/6 [00:13<00:00,  2.23s/it]\n"
          ],
          "name": "stderr"
        },
        {
          "output_type": "stream",
          "text": [
            "\n",
            "Loss -34628220.000000\n",
            "Model saved!\n",
            "Epoch 100/100... Total Mean Loss: 1.297340\n"
          ],
          "name": "stdout"
        }
      ]
    },
    {
      "cell_type": "code",
      "metadata": {
        "colab": {
          "base_uri": "https://localhost:8080/"
        },
        "id": "p-xnK3TWuMiL",
        "outputId": "fe183568-a684-448d-d42b-a0dba8ec8213"
      },
      "source": [
        "#train_losses = []\n",
        "#eval_losses = []\n",
        "#min_loss=10000\n",
        "\n",
        "#!mkdir /content/drive/MyDrive/DataSimulateITCar/Enet2\n",
        "\n",
        "#bc_train = 1099  // batch_size # mini_batch train\n",
        "#bc_eval = 200 // batch_size  # mini_batch validation\n",
        "#print(bc_train)\n",
        "#print(bc_eval)\n",
        "\n",
        "# Define pipeline objects\n",
        "#pipe = loader(X_train, y_train,dir, batch_size)\n",
        "#eval_pipe = loader(X_val, y_val,dir, batch_size)\n",
        "\n",
        "epochs = 100\n",
        "ex =100\n",
        "# Train loop\n",
        "\n",
        "for e in range(1+ex,ex+ epochs+1):\n",
        "    \n",
        "    \n",
        "    train_loss = 0\n",
        "    print ('-'*15,'Epoch %d' % e, '-'*15)\n",
        "    \n",
        "    enet.train()\n",
        "    \n",
        "    for _ in tqdm(range(bc_train)):\n",
        "        X_batch, mask_batch = next(pipe)\n",
        "        \n",
        "        # assign data to cpu/gpu\n",
        "        X_batch, mask_batch = X_batch.to(device), mask_batch.to(device)\n",
        "\n",
        "        optimizer.zero_grad()\n",
        "\n",
        "        out = enet(X_batch.float())\n",
        "        \n",
        "        # loss calculation\n",
        "        loss = criterion(out, mask_batch.long())\n",
        "        # update weights\n",
        "        loss.backward()\n",
        "        optimizer.step()\n",
        "\n",
        "        train_loss += loss.item()\n",
        "    print ()    \n",
        "        \n",
        "\n",
        "    train_losses.append(train_loss)\n",
        "    \n",
        "    if (e+1) % print_every == 0:\n",
        "        print ('Epoch {}/{}...'.format(e, epochs),\n",
        "                'Loss {:6f}'.format(train_loss))\n",
        "    \n",
        "    if e % eval_every == 0:\n",
        "        with torch.no_grad():\n",
        "            enet.eval()\n",
        "            \n",
        "            eval_loss = 0\n",
        "\n",
        "            # Validation loop\n",
        "            for _ in tqdm(range(bc_eval)):\n",
        "                inputs, labels = next(eval_pipe)\n",
        "\n",
        "                \n",
        "                inputs, labels = inputs.to(device), labels.to(device)\n",
        "                    \n",
        "                \n",
        "                out = enet(inputs.float())\n",
        "                \n",
        "                out = out.data.max(1)[1]\n",
        "                \n",
        "                eval_loss += (labels.long() - out.long()).sum()\n",
        "                \n",
        "            \n",
        "            print ()\n",
        "            print ('Loss {:6f}'.format(eval_loss))\n",
        "            \n",
        "            eval_losses.append(eval_loss)\n",
        "        \n",
        "    if e % print_every == 0:\n",
        "        if min_loss >train_loss:\n",
        "            min_loss= train_loss\n",
        "            checkpoint = {\n",
        "                'epochs' : e,\n",
        "                'state_dict' : enet.state_dict()\n",
        "            }\n",
        "            \n",
        "\n",
        "            torch.save(checkpoint, '/content/drive/MyDrive/Model_/ckpt-enet2class_midcam-{}-{:2f}.pth'.format(e, train_loss))\n",
        "            print ('Model saved!')\n",
        "        else:\n",
        "            print(\"Train loss did not improved from {}\".format(min_loss))\n",
        "\n",
        "print ('Epoch {}/{}...'.format(e, epochs),\n",
        "       'Total Mean Loss: {:6f}'.format(sum(train_losses) / epochs))"
      ],
      "execution_count": null,
      "outputs": [
        {
          "output_type": "stream",
          "text": [
            "\r  0%|          | 0/34 [00:00<?, ?it/s]"
          ],
          "name": "stderr"
        },
        {
          "output_type": "stream",
          "text": [
            "--------------- Epoch 101 ---------------\n"
          ],
          "name": "stdout"
        },
        {
          "output_type": "stream",
          "text": [
            "100%|██████████| 34/34 [01:58<00:00,  3.50s/it]\n",
            "  0%|          | 0/34 [00:00<?, ?it/s]"
          ],
          "name": "stderr"
        },
        {
          "output_type": "stream",
          "text": [
            "\n",
            "Epoch 101/100... Loss 0.471429\n",
            "Model saved!\n",
            "--------------- Epoch 102 ---------------\n"
          ],
          "name": "stdout"
        },
        {
          "output_type": "stream",
          "text": [
            "100%|██████████| 34/34 [01:58<00:00,  3.48s/it]\n",
            "  0%|          | 0/6 [00:00<?, ?it/s]"
          ],
          "name": "stderr"
        },
        {
          "output_type": "stream",
          "text": [
            "\n",
            "Epoch 102/100... Loss 0.463667\n"
          ],
          "name": "stdout"
        },
        {
          "output_type": "stream",
          "text": [
            "100%|██████████| 6/6 [00:13<00:00,  2.21s/it]\n"
          ],
          "name": "stderr"
        },
        {
          "output_type": "stream",
          "text": [
            "\n"
          ],
          "name": "stdout"
        },
        {
          "output_type": "stream",
          "text": [
            "\r  0%|          | 0/34 [00:00<?, ?it/s]"
          ],
          "name": "stderr"
        },
        {
          "output_type": "stream",
          "text": [
            "Loss -34756959.000000\n",
            "Model saved!\n",
            "--------------- Epoch 103 ---------------\n"
          ],
          "name": "stdout"
        },
        {
          "output_type": "stream",
          "text": [
            "100%|██████████| 34/34 [01:57<00:00,  3.46s/it]\n",
            "  0%|          | 0/34 [00:00<?, ?it/s]"
          ],
          "name": "stderr"
        },
        {
          "output_type": "stream",
          "text": [
            "\n",
            "Epoch 103/100... Loss 0.475501\n",
            "Train loss did not improved from 0.4636671459302306\n",
            "--------------- Epoch 104 ---------------\n"
          ],
          "name": "stdout"
        },
        {
          "output_type": "stream",
          "text": [
            "100%|██████████| 34/34 [01:58<00:00,  3.49s/it]\n",
            "  0%|          | 0/6 [00:00<?, ?it/s]"
          ],
          "name": "stderr"
        },
        {
          "output_type": "stream",
          "text": [
            "\n",
            "Epoch 104/100... Loss 0.493863\n"
          ],
          "name": "stdout"
        },
        {
          "output_type": "stream",
          "text": [
            "100%|██████████| 6/6 [00:13<00:00,  2.17s/it]\n"
          ],
          "name": "stderr"
        },
        {
          "output_type": "stream",
          "text": [
            "\n"
          ],
          "name": "stdout"
        },
        {
          "output_type": "stream",
          "text": [
            "\r  0%|          | 0/34 [00:00<?, ?it/s]"
          ],
          "name": "stderr"
        },
        {
          "output_type": "stream",
          "text": [
            "Loss -34766610.000000\n",
            "Train loss did not improved from 0.4636671459302306\n",
            "--------------- Epoch 105 ---------------\n"
          ],
          "name": "stdout"
        },
        {
          "output_type": "stream",
          "text": [
            "100%|██████████| 34/34 [01:57<00:00,  3.45s/it]\n",
            "  0%|          | 0/34 [00:00<?, ?it/s]"
          ],
          "name": "stderr"
        },
        {
          "output_type": "stream",
          "text": [
            "\n",
            "Epoch 105/100... Loss 0.488805\n",
            "Train loss did not improved from 0.4636671459302306\n",
            "--------------- Epoch 106 ---------------\n"
          ],
          "name": "stdout"
        },
        {
          "output_type": "stream",
          "text": [
            "100%|██████████| 34/34 [01:57<00:00,  3.45s/it]\n",
            "  0%|          | 0/6 [00:00<?, ?it/s]"
          ],
          "name": "stderr"
        },
        {
          "output_type": "stream",
          "text": [
            "\n",
            "Epoch 106/100... Loss 0.649965\n"
          ],
          "name": "stdout"
        },
        {
          "output_type": "stream",
          "text": [
            "100%|██████████| 6/6 [00:12<00:00,  2.14s/it]\n"
          ],
          "name": "stderr"
        },
        {
          "output_type": "stream",
          "text": [
            "\n"
          ],
          "name": "stdout"
        },
        {
          "output_type": "stream",
          "text": [
            "\r  0%|          | 0/34 [00:00<?, ?it/s]"
          ],
          "name": "stderr"
        },
        {
          "output_type": "stream",
          "text": [
            "Loss -34835765.000000\n",
            "Train loss did not improved from 0.4636671459302306\n",
            "--------------- Epoch 107 ---------------\n"
          ],
          "name": "stdout"
        }
      ]
    },
    {
      "cell_type": "markdown",
      "metadata": {
        "id": "9dzHWNSlgk4f"
      },
      "source": [
        "#load, predict, plot"
      ]
    },
    {
      "cell_type": "code",
      "metadata": {
        "colab": {
          "base_uri": "https://localhost:8080/"
        },
        "id": "CXIF5d-SwE4c",
        "outputId": "98cbbd2b-03f2-445a-837f-3957667918a3"
      },
      "source": [
        "#load Model\n",
        "enet = ENet(2)\n",
        "device= \"cuda\"\n",
        "state_dict = torch.load('/content/drive/MyDrive/Model_/ckpt-enet2class_midcam-99-0.492667.pth',  map_location= torch.device('cuda'))['state_dict']\n",
        "enet.load_state_dict(state_dict)\n",
        "#enet.eval()\n"
      ],
      "execution_count": null,
      "outputs": [
        {
          "output_type": "execute_result",
          "data": {
            "text/plain": [
              "<All keys matched successfully>"
            ]
          },
          "metadata": {
            "tags": []
          },
          "execution_count": 43
        }
      ]
    },
    {
      "cell_type": "code",
      "metadata": {
        "id": "GYrRr1cApWD9"
      },
      "source": [
        "#get 1 batch from val_train\n",
        "eval_pipe = loader(X_val, y_val,dir, 16)\n",
        "X_batch, mask_batch = next(eval_pipe)\n",
        "X_batch, mask_batch = X_batch.to(device), mask_batch.to(device)\n"
      ],
      "execution_count": null,
      "outputs": []
    },
    {
      "cell_type": "code",
      "metadata": {
        "colab": {
          "base_uri": "https://localhost:8080/"
        },
        "id": "IQgloR3mqYwn",
        "outputId": "90151d06-c895-449b-af29-eac74ad03efb"
      },
      "source": [
        "#predict\n",
        "import time \n",
        "enet.to(device)\n",
        "\n",
        "with torch.no_grad():\n",
        "    nw= time.time()\n",
        "    out1 = enet(X_batch.float())\n",
        "    print(\"execute in: \", time.time()-nw)\n",
        "print(out1.shape)\n",
        "\n",
        "\n",
        "b_ = out1.data.max(1)[1].cpu().numpy()"
      ],
      "execution_count": null,
      "outputs": [
        {
          "output_type": "stream",
          "text": [
            "execute in:  0.06223726272583008\n",
            "torch.Size([16, 2, 320, 640])\n"
          ],
          "name": "stdout"
        }
      ]
    },
    {
      "cell_type": "code",
      "metadata": {
        "id": "6GPZ6869Naj0"
      },
      "source": [
        "#create data to plot\n",
        "batch=[]\n",
        "for i in range(8):\n",
        "    batch.append(    [np.array(X_batch.transpose(1,2).transpose(2,3).data[i].cpu()) ,  np.array(b_[i])  ,  np.array( mask_batch.data[i].cpu())   ]  )"
      ],
      "execution_count": null,
      "outputs": []
    },
    {
      "cell_type": "code",
      "metadata": {
        "colab": {
          "base_uri": "https://localhost:8080/",
          "height": 1000
        },
        "id": "Ab05pvGtLdN5",
        "outputId": "5c70d000-2caa-416f-f9d6-a80ba23ae35d"
      },
      "source": [
        "#main code to plot\n",
        "\n",
        "fig, axes = plt.subplots(len(batch), 4, figsize=(4*5, len(batch) * 5))\n",
        "\n",
        "for i in range(len(batch)):\n",
        "    \n",
        "         \n",
        "    \n",
        "    image = batch[i][0]\n",
        "\n",
        "    binary_predicted_mask  =  batch[i][1] \n",
        "\n",
        "    true_mask =  batch[i][2]\n",
        "\n",
        "    #image=  loader_min(image=image)[\"image\"]\n",
        "    #predicted_mask = loader_min(image=predicted_mask)[\"image\"]\n",
        "    #true_mask = loader_min(image=true_mask)[\"image\"]\n",
        "\n",
        "    \n",
        "    fg= binary_predicted_mask.copy().astype(np.int8)\n",
        "    \n",
        "\n",
        "\n",
        "    fg = cv2.bitwise_or(image, image, mask=fg)\n",
        "    \n",
        "    image_ax, predicted_mask_ax ,fg_ax ,t_mask_ax = axes[i, 0], axes[i, 1], axes[i, 2] ,axes[i,3]\n",
        "    \n",
        "    image_ax.imshow(image)\n",
        "    \n",
        "    predicted_mask_ax.imshow(binary_predicted_mask)\n",
        "\n",
        "    t_mask_ax.imshow(true_mask)\n",
        "\n",
        "    fg_ax.imshow(fg)\n",
        "    \n",
        "    \n",
        "    if i == 0:\n",
        "        image_ax.set_title(\"Image\", fontsize=15, fontweight=\"bold\", fontfamily=\"serif\", y=1.05)\n",
        "        \n",
        "        predicted_mask_ax.set_title(\"Predicted Mask\", fontsize=15, fontweight=\"bold\", fontfamily=\"serif\", y=1.05)\n",
        "        fg_ax.set_title(\"Crop Mask\", fontsize=15, fontweight=\"bold\", fontfamily=\"serif\", y=1.05)\n",
        "\n",
        "        t_mask_ax.set_title(\"True Mask\", fontsize=15, fontweight=\"bold\", fontfamily=\"serif\", y=1.05)\n",
        "        \n",
        "fig.savefig(\"Plot_Unet.png\")\n",
        "fig.show()"
      ],
      "execution_count": null,
      "outputs": [
        {
          "output_type": "display_data",
          "data": {
            "image/png": "[encoded data removed]",
            "text/plain": [
              "<Figure size 1440x2880 with 32 Axes>"
            ]
          },
          "metadata": {
            "tags": [],
            "needs_background": "light"
          }
        }
      ]
    },
    {
      "cell_type": "code",
      "metadata": {
        "colab": {
          "base_uri": "https://localhost:8080/",
          "height": 422
        },
        "id": "HqplcXv-2xxA",
        "outputId": "94147892-0fd1-4084-b406-24bca233cbde"
      },
      "source": [
        "import matplotlib.pyplot as plt\n",
        "plt.figure(figsize = (12,6))\n",
        "plt.title(\"Enet_midcam Loss\")\n",
        "plt.xlabel(\"Epoch\")\n",
        "plt.ylabel(\"Loss\")\n",
        "plt.plot(loss)"
      ],
      "execution_count": null,
      "outputs": [
        {
          "output_type": "execute_result",
          "data": {
            "text/plain": [
              "[<matplotlib.lines.Line2D at 0x7ff34312f350>]"
            ]
          },
          "metadata": {
            "tags": []
          },
          "execution_count": 7
        },
        {
          "output_type": "display_data",
          "data": {
            "image/png": "[encoded data removed]",
            "text/plain": [
              "<Figure size 864x432 with 1 Axes>"
            ]
          },
          "metadata": {
            "tags": [],
            "needs_background": "light"
          }
        }
      ]
    }
  ]
}
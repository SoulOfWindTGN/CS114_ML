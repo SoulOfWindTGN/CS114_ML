{
  "nbformat": 4,
  "nbformat_minor": 0,
  "metadata": {
    "colab": {
      "name": "Bai_Tap_Colab_So_3.ipynb",
      "provenance": [],
      "collapsed_sections": [],
      "toc_visible": true,
      "mount_file_id": "1H1b9RHcNwokY1gpofgCckO3Szlagg8Lg",
      "authorship_tag": "ABX9TyPIFP8b9NvIsmD5oWO69qdu",
      "include_colab_link": true
    },
    "kernelspec": {
      "display_name": "Python 3",
      "name": "python3"
    },
    "language_info": {
      "name": "python"
    }
  },
  "cells": [
    {
      "cell_type": "markdown",
      "metadata": {
        "id": "view-in-github",
        "colab_type": "text"
      },
      "source": [
        "<a href=\"https://colab.research.google.com/github/trankha1655/CS114_ML/blob/main/Colab_Research/Bai_Tap_Colab_So_3.ipynb\" target=\"_parent\"><img src=\"https://colab.research.google.com/assets/colab-badge.svg\" alt=\"Open In Colab\"/></a>"
      ]
    },
    {
      "cell_type": "markdown",
      "metadata": {
        "id": "rHiJmb5hoOXQ"
      },
      "source": [
        "# BÀI TẬP COLAB SỐ 03 - Dự đoán điểm thi cuối kì môn IT001\n",
        "**Lớp CS114.L21**\n",
        "\n",
        "Nhóm:\n",
        "\n",
        "\n",
        "1.   Trần Phan Nhật Kha - 19521655\n",
        "2.   Trần Gia Nghĩa - 19521901\n",
        "3.   Võ Tá Lâm - 1952174419521744\n",
        "\n"
      ]
    },
    {
      "cell_type": "markdown",
      "metadata": {
        "id": "21LmaHEhjGAP"
      },
      "source": [
        "# IMPORT AND DISCOVERY DATA"
      ]
    },
    {
      "cell_type": "markdown",
      "metadata": {
        "id": "9ghJq4Poip0A"
      },
      "source": [
        "Kết nối với google drivedrive"
      ]
    },
    {
      "cell_type": "code",
      "metadata": {
        "colab": {
          "base_uri": "https://localhost:8080/"
        },
        "id": "XeovgietL8r-",
        "outputId": "d4d7212d-d32c-4583-fbda-022a812a231a"
      },
      "source": [
        "from google.colab import drive\n",
        "drive.mount('/content/gdrive')"
      ],
      "execution_count": null,
      "outputs": [
        {
          "output_type": "stream",
          "text": [
            "Drive already mounted at /content/gdrive; to attempt to forcibly remount, call drive.mount(\"/content/gdrive\", force_remount=True).\n"
          ],
          "name": "stdout"
        }
      ]
    },
    {
      "cell_type": "markdown",
      "metadata": {
        "id": "Ex6ZnyD-iull"
      },
      "source": [
        "Import các thư viện cần thiết cho quá trình đánh giá và tiền xử lý dữ liệu"
      ]
    },
    {
      "cell_type": "code",
      "metadata": {
        "id": "yCM6qiBzAvoF"
      },
      "source": [
        "import pandas as pd\n",
        "import numpy as np\n",
        "import matplotlib.pyplot as plt"
      ],
      "execution_count": null,
      "outputs": []
    },
    {
      "cell_type": "markdown",
      "metadata": {
        "id": "mcEkgaHFi4Uw"
      },
      "source": [
        "Đọc dữ liệu từ đường dẫn đến thư mục chứa dữ liệu trong google drive"
      ]
    },
    {
      "cell_type": "code",
      "metadata": {
        "id": "A2cB5DaZMwHk"
      },
      "source": [
        "data_wecode = pd.read_csv('/content/gdrive/MyDrive/NMLT/wecode.csv')\n",
        "data_score = pd.read_csv('/content/gdrive/MyDrive/NMLT/score_training.csv')"
      ],
      "execution_count": null,
      "outputs": []
    },
    {
      "cell_type": "code",
      "metadata": {
        "colab": {
          "base_uri": "https://localhost:8080/"
        },
        "id": "gVfGVYMINLjt",
        "outputId": "292eb71a-c1db-4543-c7eb-d4042796cd92"
      },
      "source": [
        "data_wecode.info()"
      ],
      "execution_count": null,
      "outputs": [
        {
          "output_type": "stream",
          "text": [
            "<class 'pandas.core.frame.DataFrame'>\n",
            "RangeIndex: 264606 entries, 0 to 264605\n",
            "Data columns (total 12 columns):\n",
            " #   Column         Non-Null Count   Dtype \n",
            "---  ------         --------------   ----- \n",
            " 0   id             264606 non-null  int64 \n",
            " 1   assignment_id  264606 non-null  int64 \n",
            " 2   problem_id     264606 non-null  int64 \n",
            " 3   user_id        264606 non-null  int64 \n",
            " 4   is_final       264606 non-null  int64 \n",
            " 5   status         264605 non-null  object\n",
            " 6   pre_score      264606 non-null  int64 \n",
            " 7   coefficient    264606 non-null  object\n",
            " 8   file_name      264606 non-null  object\n",
            " 9   language_id    264606 non-null  int64 \n",
            " 10  created_at     264606 non-null  object\n",
            " 11  updated_at     264606 non-null  object\n",
            "dtypes: int64(7), object(5)\n",
            "memory usage: 24.2+ MB\n"
          ],
          "name": "stdout"
        }
      ]
    },
    {
      "cell_type": "code",
      "metadata": {
        "colab": {
          "base_uri": "https://localhost:8080/",
          "height": 511
        },
        "id": "9P7q0S71NgYE",
        "outputId": "47ce6af5-3bbf-4ffd-ff97-8d63cf1fdb20"
      },
      "source": [
        "data_wecode.head(10)"
      ],
      "execution_count": null,
      "outputs": [
        {
          "output_type": "execute_result",
          "data": {
            "text/html": [
              "<div>\n",
              "<style scoped>\n",
              "    .dataframe tbody tr th:only-of-type {\n",
              "        vertical-align: middle;\n",
              "    }\n",
              "\n",
              "    .dataframe tbody tr th {\n",
              "        vertical-align: top;\n",
              "    }\n",
              "\n",
              "    .dataframe thead th {\n",
              "        text-align: right;\n",
              "    }\n",
              "</style>\n",
              "<table border=\"1\" class=\"dataframe\">\n",
              "  <thead>\n",
              "    <tr style=\"text-align: right;\">\n",
              "      <th></th>\n",
              "      <th>id</th>\n",
              "      <th>assignment_id</th>\n",
              "      <th>problem_id</th>\n",
              "      <th>user_id</th>\n",
              "      <th>is_final</th>\n",
              "      <th>status</th>\n",
              "      <th>pre_score</th>\n",
              "      <th>coefficient</th>\n",
              "      <th>file_name</th>\n",
              "      <th>language_id</th>\n",
              "      <th>created_at</th>\n",
              "      <th>updated_at</th>\n",
              "    </tr>\n",
              "  </thead>\n",
              "  <tbody>\n",
              "    <tr>\n",
              "      <th>0</th>\n",
              "      <td>4</td>\n",
              "      <td>0</td>\n",
              "      <td>3</td>\n",
              "      <td>4</td>\n",
              "      <td>1</td>\n",
              "      <td>SCORE</td>\n",
              "      <td>10000</td>\n",
              "      <td>100</td>\n",
              "      <td>solution-0</td>\n",
              "      <td>2</td>\n",
              "      <td>2020-10-30 10:58:11</td>\n",
              "      <td>2020-10-30 10:58:19</td>\n",
              "    </tr>\n",
              "    <tr>\n",
              "      <th>1</th>\n",
              "      <td>5</td>\n",
              "      <td>0</td>\n",
              "      <td>4</td>\n",
              "      <td>4</td>\n",
              "      <td>1</td>\n",
              "      <td>SCORE</td>\n",
              "      <td>10000</td>\n",
              "      <td>100</td>\n",
              "      <td>solution-1</td>\n",
              "      <td>2</td>\n",
              "      <td>2020-10-30 11:07:09</td>\n",
              "      <td>2020-10-30 11:07:17</td>\n",
              "    </tr>\n",
              "    <tr>\n",
              "      <th>2</th>\n",
              "      <td>6</td>\n",
              "      <td>0</td>\n",
              "      <td>5</td>\n",
              "      <td>4</td>\n",
              "      <td>0</td>\n",
              "      <td>Compilation Error</td>\n",
              "      <td>0</td>\n",
              "      <td>100</td>\n",
              "      <td>solution-2</td>\n",
              "      <td>2</td>\n",
              "      <td>2020-10-30 11:08:01</td>\n",
              "      <td>2020-10-30 11:23:36</td>\n",
              "    </tr>\n",
              "    <tr>\n",
              "      <th>3</th>\n",
              "      <td>7</td>\n",
              "      <td>0</td>\n",
              "      <td>5</td>\n",
              "      <td>4</td>\n",
              "      <td>0</td>\n",
              "      <td>Compilation Error</td>\n",
              "      <td>0</td>\n",
              "      <td>100</td>\n",
              "      <td>solution-3</td>\n",
              "      <td>2</td>\n",
              "      <td>2020-10-30 11:11:41</td>\n",
              "      <td>2020-10-30 11:11:42</td>\n",
              "    </tr>\n",
              "    <tr>\n",
              "      <th>4</th>\n",
              "      <td>8</td>\n",
              "      <td>0</td>\n",
              "      <td>5</td>\n",
              "      <td>4</td>\n",
              "      <td>0</td>\n",
              "      <td>Compilation Error</td>\n",
              "      <td>0</td>\n",
              "      <td>100</td>\n",
              "      <td>solution-4</td>\n",
              "      <td>2</td>\n",
              "      <td>2020-10-30 11:15:06</td>\n",
              "      <td>2020-10-30 11:15:07</td>\n",
              "    </tr>\n",
              "    <tr>\n",
              "      <th>5</th>\n",
              "      <td>9</td>\n",
              "      <td>0</td>\n",
              "      <td>5</td>\n",
              "      <td>4</td>\n",
              "      <td>0</td>\n",
              "      <td>Compilation Error</td>\n",
              "      <td>0</td>\n",
              "      <td>100</td>\n",
              "      <td>solution-5</td>\n",
              "      <td>2</td>\n",
              "      <td>2020-10-30 11:16:57</td>\n",
              "      <td>2020-10-30 11:16:58</td>\n",
              "    </tr>\n",
              "    <tr>\n",
              "      <th>6</th>\n",
              "      <td>10</td>\n",
              "      <td>0</td>\n",
              "      <td>6</td>\n",
              "      <td>4</td>\n",
              "      <td>1</td>\n",
              "      <td>SCORE</td>\n",
              "      <td>10000</td>\n",
              "      <td>100</td>\n",
              "      <td>solution-6</td>\n",
              "      <td>2</td>\n",
              "      <td>2020-10-30 11:18:47</td>\n",
              "      <td>2020-10-30 11:18:55</td>\n",
              "    </tr>\n",
              "    <tr>\n",
              "      <th>7</th>\n",
              "      <td>11</td>\n",
              "      <td>0</td>\n",
              "      <td>7</td>\n",
              "      <td>4</td>\n",
              "      <td>1</td>\n",
              "      <td>SCORE</td>\n",
              "      <td>10000</td>\n",
              "      <td>100</td>\n",
              "      <td>solution-7</td>\n",
              "      <td>2</td>\n",
              "      <td>2020-10-30 11:20:07</td>\n",
              "      <td>2020-10-30 11:20:15</td>\n",
              "    </tr>\n",
              "    <tr>\n",
              "      <th>8</th>\n",
              "      <td>12</td>\n",
              "      <td>0</td>\n",
              "      <td>8</td>\n",
              "      <td>4</td>\n",
              "      <td>1</td>\n",
              "      <td>SCORE</td>\n",
              "      <td>10000</td>\n",
              "      <td>100</td>\n",
              "      <td>solution-8</td>\n",
              "      <td>2</td>\n",
              "      <td>2020-10-30 11:21:02</td>\n",
              "      <td>2020-10-30 11:21:10</td>\n",
              "    </tr>\n",
              "    <tr>\n",
              "      <th>9</th>\n",
              "      <td>13</td>\n",
              "      <td>0</td>\n",
              "      <td>9</td>\n",
              "      <td>4</td>\n",
              "      <td>1</td>\n",
              "      <td>SCORE</td>\n",
              "      <td>10000</td>\n",
              "      <td>100</td>\n",
              "      <td>solution-9</td>\n",
              "      <td>2</td>\n",
              "      <td>2020-10-30 11:21:36</td>\n",
              "      <td>2020-10-30 11:21:44</td>\n",
              "    </tr>\n",
              "  </tbody>\n",
              "</table>\n",
              "</div>"
            ],
            "text/plain": [
              "   id  assignment_id  ...           created_at           updated_at\n",
              "0   4              0  ...  2020-10-30 10:58:11  2020-10-30 10:58:19\n",
              "1   5              0  ...  2020-10-30 11:07:09  2020-10-30 11:07:17\n",
              "2   6              0  ...  2020-10-30 11:08:01  2020-10-30 11:23:36\n",
              "3   7              0  ...  2020-10-30 11:11:41  2020-10-30 11:11:42\n",
              "4   8              0  ...  2020-10-30 11:15:06  2020-10-30 11:15:07\n",
              "5   9              0  ...  2020-10-30 11:16:57  2020-10-30 11:16:58\n",
              "6  10              0  ...  2020-10-30 11:18:47  2020-10-30 11:18:55\n",
              "7  11              0  ...  2020-10-30 11:20:07  2020-10-30 11:20:15\n",
              "8  12              0  ...  2020-10-30 11:21:02  2020-10-30 11:21:10\n",
              "9  13              0  ...  2020-10-30 11:21:36  2020-10-30 11:21:44\n",
              "\n",
              "[10 rows x 12 columns]"
            ]
          },
          "metadata": {
            "tags": []
          },
          "execution_count": 623
        }
      ]
    },
    {
      "cell_type": "code",
      "metadata": {
        "colab": {
          "base_uri": "https://localhost:8080/"
        },
        "id": "tyR3hx3_jp2I",
        "outputId": "ae6f9949-15d7-49dc-9807-2c38d6ba0cec"
      },
      "source": [
        "data_score.info()"
      ],
      "execution_count": null,
      "outputs": [
        {
          "output_type": "stream",
          "text": [
            "<class 'pandas.core.frame.DataFrame'>\n",
            "RangeIndex: 975 entries, 0 to 974\n",
            "Data columns (total 7 columns):\n",
            " #   Column  Non-Null Count  Dtype \n",
            "---  ------  --------------  ----- \n",
            " 0   id      975 non-null    int64 \n",
            " 1   QT      973 non-null    object\n",
            " 2   GK      974 non-null    object\n",
            " 3   TH      974 non-null    object\n",
            " 4   CK      974 non-null    object\n",
            " 5   TBM     974 non-null    object\n",
            " 6   TBTL    974 non-null    object\n",
            "dtypes: int64(1), object(6)\n",
            "memory usage: 53.4+ KB\n"
          ],
          "name": "stdout"
        }
      ]
    },
    {
      "cell_type": "code",
      "metadata": {
        "colab": {
          "base_uri": "https://localhost:8080/",
          "height": 195
        },
        "id": "IKoOYzZPRtce",
        "outputId": "63ea8c56-6191-4abc-9f78-f63a4f2ea31d"
      },
      "source": [
        "data_score.head()"
      ],
      "execution_count": null,
      "outputs": [
        {
          "output_type": "execute_result",
          "data": {
            "text/html": [
              "<div>\n",
              "<style scoped>\n",
              "    .dataframe tbody tr th:only-of-type {\n",
              "        vertical-align: middle;\n",
              "    }\n",
              "\n",
              "    .dataframe tbody tr th {\n",
              "        vertical-align: top;\n",
              "    }\n",
              "\n",
              "    .dataframe thead th {\n",
              "        text-align: right;\n",
              "    }\n",
              "</style>\n",
              "<table border=\"1\" class=\"dataframe\">\n",
              "  <thead>\n",
              "    <tr style=\"text-align: right;\">\n",
              "      <th></th>\n",
              "      <th>id</th>\n",
              "      <th>QT</th>\n",
              "      <th>GK</th>\n",
              "      <th>TH</th>\n",
              "      <th>CK</th>\n",
              "      <th>TBM</th>\n",
              "      <th>TBTL</th>\n",
              "    </tr>\n",
              "  </thead>\n",
              "  <tbody>\n",
              "    <tr>\n",
              "      <th>0</th>\n",
              "      <td>22</td>\n",
              "      <td>10</td>\n",
              "      <td>9</td>\n",
              "      <td>8.5</td>\n",
              "      <td>8.5</td>\n",
              "      <td>8.8</td>\n",
              "      <td>8.52</td>\n",
              "    </tr>\n",
              "    <tr>\n",
              "      <th>1</th>\n",
              "      <td>24</td>\n",
              "      <td>10</td>\n",
              "      <td>8</td>\n",
              "      <td>10</td>\n",
              "      <td>9.5</td>\n",
              "      <td>9.4</td>\n",
              "      <td>8.41</td>\n",
              "    </tr>\n",
              "    <tr>\n",
              "      <th>2</th>\n",
              "      <td>27</td>\n",
              "      <td>10</td>\n",
              "      <td>10</td>\n",
              "      <td>10</td>\n",
              "      <td>10</td>\n",
              "      <td>10</td>\n",
              "      <td>8.67</td>\n",
              "    </tr>\n",
              "    <tr>\n",
              "      <th>3</th>\n",
              "      <td>28</td>\n",
              "      <td>10</td>\n",
              "      <td>9.5</td>\n",
              "      <td>7.5</td>\n",
              "      <td>9.5</td>\n",
              "      <td>9.2</td>\n",
              "      <td>7.39</td>\n",
              "    </tr>\n",
              "    <tr>\n",
              "      <th>4</th>\n",
              "      <td>29</td>\n",
              "      <td>10</td>\n",
              "      <td>9.5</td>\n",
              "      <td>5</td>\n",
              "      <td>8.5</td>\n",
              "      <td>8.2</td>\n",
              "      <td>8.05</td>\n",
              "    </tr>\n",
              "  </tbody>\n",
              "</table>\n",
              "</div>"
            ],
            "text/plain": [
              "   id  QT   GK   TH   CK  TBM  TBTL\n",
              "0  22  10    9  8.5  8.5  8.8  8.52\n",
              "1  24  10    8   10  9.5  9.4  8.41\n",
              "2  27  10   10   10   10   10  8.67\n",
              "3  28  10  9.5  7.5  9.5  9.2  7.39\n",
              "4  29  10  9.5    5  8.5  8.2  8.05"
            ]
          },
          "metadata": {
            "tags": []
          },
          "execution_count": 625
        }
      ]
    },
    {
      "cell_type": "markdown",
      "metadata": {
        "id": "muE6JtlYjS1p"
      },
      "source": [
        "# PRE-PROCESSING AND VISUALIZE DATA"
      ]
    },
    {
      "cell_type": "markdown",
      "metadata": {
        "id": "mOS7XHFPt0bh"
      },
      "source": [
        "# PRE-PROCESSING DATA"
      ]
    },
    {
      "cell_type": "markdown",
      "metadata": {
        "id": "9dEhgkqYVIef"
      },
      "source": [
        "Xét các trường hợp sau để đánh giá mối tương quan với điểm thi cuối kì:\n",
        "1. Tổng số problem đã solved (is_final = 1 && pre_score=10000) / Tổng số problem có submit\n",
        "2. Tổng số problem đã sumbit / Tổng số submissions \n",
        "3. Số lần submit đúng (pre_score=10000) / tổng số submissions \n",
        "4. Tổng pre_score của các submssion có is_final = 1 \n",
        "5. Tổng của max pre_score của mỗi problem_id và tổng số submission"
      ]
    },
    {
      "cell_type": "markdown",
      "metadata": {
        "id": "IJ1qUimIkuRf"
      },
      "source": [
        "Trường hợp 1: Tổng số problem đã solved (is_final = 1 && pre_score=10000) / Tổng số problem có submit"
      ]
    },
    {
      "cell_type": "code",
      "metadata": {
        "id": "dIPdghfNShB2"
      },
      "source": [
        "#Lấy các cột sử dụng cho bài toán\n",
        "visualize_data = data_wecode[['user_id', 'assignment_id', 'problem_id', 'is_final', 'status', 'pre_score', 'coefficient']]\n",
        "\n",
        "#Tổng số problem đã solved(is_final = 1 và pre_score = 100000)\n",
        "case_1 = visualize_data[(visualize_data['is_final'] == 1) & (visualize_data['pre_score'] == 10000)].groupby(by = 'user_id').sum()\n",
        "case_1 = case_1.drop(['pre_score','problem_id','assignment_id'],axis = 1) #Bỏ các cột không cần thiết\n",
        "\n",
        "#Tổng số problem đã submitted\n",
        "total_problem_submitted = visualize_data[['user_id','assignment_id','problem_id']].drop_duplicates() \n",
        "total_problem_submitted = total_problem_submitted[['user_id', 'problem_id']].groupby('user_id', as_index = False).count()\n",
        "\n",
        "case_1 = case_1.merge(total_problem_submitted,on='user_id',how = 'right').fillna(0) #Kết phải để lấy cả trường hợp sinh viên không có problem nào solved\n",
        "case_1['prob_solved/prob_tried'] = case_1['is_final']/case_1['problem_id']\n",
        "case_1.rename(columns={'is_final':'prob_solved','problem_id':'prob_tried'},inplace = True)\n",
        "case_1.set_index('user_id',inplace = True)"
      ],
      "execution_count": null,
      "outputs": []
    },
    {
      "cell_type": "code",
      "metadata": {
        "colab": {
          "base_uri": "https://localhost:8080/",
          "height": 431
        },
        "id": "YUCvimq9Fr5a",
        "outputId": "d97b5e87-12b4-4a8f-fd8a-1d664b5100da"
      },
      "source": [
        "case_1"
      ],
      "execution_count": null,
      "outputs": [
        {
          "output_type": "execute_result",
          "data": {
            "text/html": [
              "<div>\n",
              "<style scoped>\n",
              "    .dataframe tbody tr th:only-of-type {\n",
              "        vertical-align: middle;\n",
              "    }\n",
              "\n",
              "    .dataframe tbody tr th {\n",
              "        vertical-align: top;\n",
              "    }\n",
              "\n",
              "    .dataframe thead th {\n",
              "        text-align: right;\n",
              "    }\n",
              "</style>\n",
              "<table border=\"1\" class=\"dataframe\">\n",
              "  <thead>\n",
              "    <tr style=\"text-align: right;\">\n",
              "      <th></th>\n",
              "      <th>prob_solved</th>\n",
              "      <th>prob_tried</th>\n",
              "      <th>prob_solved/prob_tried</th>\n",
              "    </tr>\n",
              "    <tr>\n",
              "      <th>user_id</th>\n",
              "      <th></th>\n",
              "      <th></th>\n",
              "      <th></th>\n",
              "    </tr>\n",
              "  </thead>\n",
              "  <tbody>\n",
              "    <tr>\n",
              "      <th>1</th>\n",
              "      <td>1.0</td>\n",
              "      <td>2</td>\n",
              "      <td>0.500000</td>\n",
              "    </tr>\n",
              "    <tr>\n",
              "      <th>4</th>\n",
              "      <td>37.0</td>\n",
              "      <td>41</td>\n",
              "      <td>0.902439</td>\n",
              "    </tr>\n",
              "    <tr>\n",
              "      <th>5</th>\n",
              "      <td>3.0</td>\n",
              "      <td>5</td>\n",
              "      <td>0.600000</td>\n",
              "    </tr>\n",
              "    <tr>\n",
              "      <th>6</th>\n",
              "      <td>85.0</td>\n",
              "      <td>89</td>\n",
              "      <td>0.955056</td>\n",
              "    </tr>\n",
              "    <tr>\n",
              "      <th>7</th>\n",
              "      <td>0.0</td>\n",
              "      <td>2</td>\n",
              "      <td>0.000000</td>\n",
              "    </tr>\n",
              "    <tr>\n",
              "      <th>...</th>\n",
              "      <td>...</td>\n",
              "      <td>...</td>\n",
              "      <td>...</td>\n",
              "    </tr>\n",
              "    <tr>\n",
              "      <th>1860</th>\n",
              "      <td>28.0</td>\n",
              "      <td>48</td>\n",
              "      <td>0.583333</td>\n",
              "    </tr>\n",
              "    <tr>\n",
              "      <th>1862</th>\n",
              "      <td>4.0</td>\n",
              "      <td>6</td>\n",
              "      <td>0.666667</td>\n",
              "    </tr>\n",
              "    <tr>\n",
              "      <th>1864</th>\n",
              "      <td>28.0</td>\n",
              "      <td>63</td>\n",
              "      <td>0.444444</td>\n",
              "    </tr>\n",
              "    <tr>\n",
              "      <th>1865</th>\n",
              "      <td>10.0</td>\n",
              "      <td>17</td>\n",
              "      <td>0.588235</td>\n",
              "    </tr>\n",
              "    <tr>\n",
              "      <th>1868</th>\n",
              "      <td>27.0</td>\n",
              "      <td>28</td>\n",
              "      <td>0.964286</td>\n",
              "    </tr>\n",
              "  </tbody>\n",
              "</table>\n",
              "<p>1159 rows × 3 columns</p>\n",
              "</div>"
            ],
            "text/plain": [
              "         prob_solved  prob_tried  prob_solved/prob_tried\n",
              "user_id                                                 \n",
              "1                1.0           2                0.500000\n",
              "4               37.0          41                0.902439\n",
              "5                3.0           5                0.600000\n",
              "6               85.0          89                0.955056\n",
              "7                0.0           2                0.000000\n",
              "...              ...         ...                     ...\n",
              "1860            28.0          48                0.583333\n",
              "1862             4.0           6                0.666667\n",
              "1864            28.0          63                0.444444\n",
              "1865            10.0          17                0.588235\n",
              "1868            27.0          28                0.964286\n",
              "\n",
              "[1159 rows x 3 columns]"
            ]
          },
          "metadata": {
            "tags": []
          },
          "execution_count": 627
        }
      ]
    },
    {
      "cell_type": "markdown",
      "metadata": {
        "id": "BRafs4s9loZm"
      },
      "source": [
        "Trường hợp 2: Tổng số problem đã sumbit / Tổng số submissions"
      ]
    },
    {
      "cell_type": "code",
      "metadata": {
        "id": "4MHh7PO1gq-w"
      },
      "source": [
        "#Tổng số problem đã submit\n",
        "case_2 = visualize_data[['user_id', 'assignment_id', 'problem_id']].drop_duplicates()\n",
        "case_2 = case_2[['user_id', 'problem_id']].groupby('user_id', as_index = False).count()\n",
        "\n",
        "#Tổng số subbmissions\n",
        "total_problem_submissions = data_wecode[['user_id', 'id']].groupby('user_id', as_index = False).count()\n",
        "\n",
        "case_2 = case_2.merge(total_problem_submissions,on = 'user_id')\n",
        "case_2['problem_submitted_rate'] = case_2['problem_id']/case_2['id']\n",
        "case_2.rename(columns={'problem_id':'total_submissions','id':'total_submitted'},inplace = True)"
      ],
      "execution_count": null,
      "outputs": []
    },
    {
      "cell_type": "code",
      "metadata": {
        "colab": {
          "base_uri": "https://localhost:8080/",
          "height": 402
        },
        "id": "IOnHXqlnFt6B",
        "outputId": "23da0acd-d9d8-4a1e-d703-5d185110b73f"
      },
      "source": [
        "case_2"
      ],
      "execution_count": null,
      "outputs": [
        {
          "output_type": "execute_result",
          "data": {
            "text/html": [
              "<div>\n",
              "<style scoped>\n",
              "    .dataframe tbody tr th:only-of-type {\n",
              "        vertical-align: middle;\n",
              "    }\n",
              "\n",
              "    .dataframe tbody tr th {\n",
              "        vertical-align: top;\n",
              "    }\n",
              "\n",
              "    .dataframe thead th {\n",
              "        text-align: right;\n",
              "    }\n",
              "</style>\n",
              "<table border=\"1\" class=\"dataframe\">\n",
              "  <thead>\n",
              "    <tr style=\"text-align: right;\">\n",
              "      <th></th>\n",
              "      <th>user_id</th>\n",
              "      <th>total_submissions</th>\n",
              "      <th>total_submitted</th>\n",
              "      <th>problem_submitted_rate</th>\n",
              "    </tr>\n",
              "  </thead>\n",
              "  <tbody>\n",
              "    <tr>\n",
              "      <th>0</th>\n",
              "      <td>1</td>\n",
              "      <td>2</td>\n",
              "      <td>2</td>\n",
              "      <td>1.000000</td>\n",
              "    </tr>\n",
              "    <tr>\n",
              "      <th>1</th>\n",
              "      <td>4</td>\n",
              "      <td>41</td>\n",
              "      <td>54</td>\n",
              "      <td>0.759259</td>\n",
              "    </tr>\n",
              "    <tr>\n",
              "      <th>2</th>\n",
              "      <td>5</td>\n",
              "      <td>5</td>\n",
              "      <td>6</td>\n",
              "      <td>0.833333</td>\n",
              "    </tr>\n",
              "    <tr>\n",
              "      <th>3</th>\n",
              "      <td>6</td>\n",
              "      <td>89</td>\n",
              "      <td>130</td>\n",
              "      <td>0.684615</td>\n",
              "    </tr>\n",
              "    <tr>\n",
              "      <th>4</th>\n",
              "      <td>7</td>\n",
              "      <td>2</td>\n",
              "      <td>5</td>\n",
              "      <td>0.400000</td>\n",
              "    </tr>\n",
              "    <tr>\n",
              "      <th>...</th>\n",
              "      <td>...</td>\n",
              "      <td>...</td>\n",
              "      <td>...</td>\n",
              "      <td>...</td>\n",
              "    </tr>\n",
              "    <tr>\n",
              "      <th>1154</th>\n",
              "      <td>1860</td>\n",
              "      <td>48</td>\n",
              "      <td>76</td>\n",
              "      <td>0.631579</td>\n",
              "    </tr>\n",
              "    <tr>\n",
              "      <th>1155</th>\n",
              "      <td>1862</td>\n",
              "      <td>6</td>\n",
              "      <td>12</td>\n",
              "      <td>0.500000</td>\n",
              "    </tr>\n",
              "    <tr>\n",
              "      <th>1156</th>\n",
              "      <td>1864</td>\n",
              "      <td>63</td>\n",
              "      <td>187</td>\n",
              "      <td>0.336898</td>\n",
              "    </tr>\n",
              "    <tr>\n",
              "      <th>1157</th>\n",
              "      <td>1865</td>\n",
              "      <td>17</td>\n",
              "      <td>99</td>\n",
              "      <td>0.171717</td>\n",
              "    </tr>\n",
              "    <tr>\n",
              "      <th>1158</th>\n",
              "      <td>1868</td>\n",
              "      <td>28</td>\n",
              "      <td>47</td>\n",
              "      <td>0.595745</td>\n",
              "    </tr>\n",
              "  </tbody>\n",
              "</table>\n",
              "<p>1159 rows × 4 columns</p>\n",
              "</div>"
            ],
            "text/plain": [
              "      user_id  total_submissions  total_submitted  problem_submitted_rate\n",
              "0           1                  2                2                1.000000\n",
              "1           4                 41               54                0.759259\n",
              "2           5                  5                6                0.833333\n",
              "3           6                 89              130                0.684615\n",
              "4           7                  2                5                0.400000\n",
              "...       ...                ...              ...                     ...\n",
              "1154     1860                 48               76                0.631579\n",
              "1155     1862                  6               12                0.500000\n",
              "1156     1864                 63              187                0.336898\n",
              "1157     1865                 17               99                0.171717\n",
              "1158     1868                 28               47                0.595745\n",
              "\n",
              "[1159 rows x 4 columns]"
            ]
          },
          "metadata": {
            "tags": []
          },
          "execution_count": 629
        }
      ]
    },
    {
      "cell_type": "markdown",
      "metadata": {
        "id": "eeWotAIEl0jp"
      },
      "source": [
        "Trường hợp 3: Số lần submit đúng (pre_score=10000) / tổng số submissions"
      ]
    },
    {
      "cell_type": "code",
      "metadata": {
        "id": "cGNZcjsAoihI"
      },
      "source": [
        "#Tổng số submissionsubmission\n",
        "case_3 = visualize_data[['user_id']]\n",
        "case_3 = case_3['user_id'].value_counts().sort_index()\n",
        "\n",
        "#Số lần submit đúng\n",
        "accepted_submit = visualize_data[visualize_data['pre_score']==10000].groupby(by = 'user_id').count()\n",
        "\n",
        "case_3 = pd.concat([case_3,accepted_submit],keys = 'user_id',axis = 1)\n",
        "case_3.columns = case_3.columns.droplevel()\n",
        "case_3 = case_3.reset_index()\n",
        "case_3.rename(columns={'user_id':'total_submissions','index':'user_id','pre_score':'total_accepted'},inplace = True)\n",
        "case_3 = case_3.drop(['assignment_id','problem_id','is_final','status','coefficient'],axis = 1).fillna(0)\n",
        "case_3['accepted/submissions'] = case_3['total_accepted']/case_3['total_submissions']\n",
        "case_3 = case_3.set_index('user_id')"
      ],
      "execution_count": null,
      "outputs": []
    },
    {
      "cell_type": "code",
      "metadata": {
        "id": "W29N9RkyFvai",
        "colab": {
          "base_uri": "https://localhost:8080/",
          "height": 431
        },
        "outputId": "b11fcb8e-3e7f-4878-db8e-7673cd7b8d6d"
      },
      "source": [
        "case_3"
      ],
      "execution_count": null,
      "outputs": [
        {
          "output_type": "execute_result",
          "data": {
            "text/html": [
              "<div>\n",
              "<style scoped>\n",
              "    .dataframe tbody tr th:only-of-type {\n",
              "        vertical-align: middle;\n",
              "    }\n",
              "\n",
              "    .dataframe tbody tr th {\n",
              "        vertical-align: top;\n",
              "    }\n",
              "\n",
              "    .dataframe thead th {\n",
              "        text-align: right;\n",
              "    }\n",
              "</style>\n",
              "<table border=\"1\" class=\"dataframe\">\n",
              "  <thead>\n",
              "    <tr style=\"text-align: right;\">\n",
              "      <th></th>\n",
              "      <th>total_submissions</th>\n",
              "      <th>total_accepted</th>\n",
              "      <th>accepted/submissions</th>\n",
              "    </tr>\n",
              "    <tr>\n",
              "      <th>user_id</th>\n",
              "      <th></th>\n",
              "      <th></th>\n",
              "      <th></th>\n",
              "    </tr>\n",
              "  </thead>\n",
              "  <tbody>\n",
              "    <tr>\n",
              "      <th>1</th>\n",
              "      <td>2</td>\n",
              "      <td>1.0</td>\n",
              "      <td>0.500000</td>\n",
              "    </tr>\n",
              "    <tr>\n",
              "      <th>4</th>\n",
              "      <td>54</td>\n",
              "      <td>44.0</td>\n",
              "      <td>0.814815</td>\n",
              "    </tr>\n",
              "    <tr>\n",
              "      <th>5</th>\n",
              "      <td>6</td>\n",
              "      <td>3.0</td>\n",
              "      <td>0.500000</td>\n",
              "    </tr>\n",
              "    <tr>\n",
              "      <th>6</th>\n",
              "      <td>130</td>\n",
              "      <td>89.0</td>\n",
              "      <td>0.684615</td>\n",
              "    </tr>\n",
              "    <tr>\n",
              "      <th>7</th>\n",
              "      <td>5</td>\n",
              "      <td>0.0</td>\n",
              "      <td>0.000000</td>\n",
              "    </tr>\n",
              "    <tr>\n",
              "      <th>...</th>\n",
              "      <td>...</td>\n",
              "      <td>...</td>\n",
              "      <td>...</td>\n",
              "    </tr>\n",
              "    <tr>\n",
              "      <th>1860</th>\n",
              "      <td>76</td>\n",
              "      <td>29.0</td>\n",
              "      <td>0.381579</td>\n",
              "    </tr>\n",
              "    <tr>\n",
              "      <th>1862</th>\n",
              "      <td>12</td>\n",
              "      <td>4.0</td>\n",
              "      <td>0.333333</td>\n",
              "    </tr>\n",
              "    <tr>\n",
              "      <th>1864</th>\n",
              "      <td>187</td>\n",
              "      <td>30.0</td>\n",
              "      <td>0.160428</td>\n",
              "    </tr>\n",
              "    <tr>\n",
              "      <th>1865</th>\n",
              "      <td>99</td>\n",
              "      <td>10.0</td>\n",
              "      <td>0.101010</td>\n",
              "    </tr>\n",
              "    <tr>\n",
              "      <th>1868</th>\n",
              "      <td>47</td>\n",
              "      <td>38.0</td>\n",
              "      <td>0.808511</td>\n",
              "    </tr>\n",
              "  </tbody>\n",
              "</table>\n",
              "<p>1159 rows × 3 columns</p>\n",
              "</div>"
            ],
            "text/plain": [
              "         total_submissions  total_accepted  accepted/submissions\n",
              "user_id                                                         \n",
              "1                        2             1.0              0.500000\n",
              "4                       54            44.0              0.814815\n",
              "5                        6             3.0              0.500000\n",
              "6                      130            89.0              0.684615\n",
              "7                        5             0.0              0.000000\n",
              "...                    ...             ...                   ...\n",
              "1860                    76            29.0              0.381579\n",
              "1862                    12             4.0              0.333333\n",
              "1864                   187            30.0              0.160428\n",
              "1865                    99            10.0              0.101010\n",
              "1868                    47            38.0              0.808511\n",
              "\n",
              "[1159 rows x 3 columns]"
            ]
          },
          "metadata": {
            "tags": []
          },
          "execution_count": 631
        }
      ]
    },
    {
      "cell_type": "markdown",
      "metadata": {
        "id": "ELeKAonHmKNW"
      },
      "source": [
        "Trường hợp 4: Tổng pre_score của các submssion có is_final = 1"
      ]
    },
    {
      "cell_type": "code",
      "metadata": {
        "id": "EJVwpZmEts85"
      },
      "source": [
        "case_4 = visualize_data[(visualize_data['is_final'] == 1)].groupby(by = 'user_id').sum()\n",
        "case_4 = case_4.drop(['assignment_id','problem_id','is_final'],axis = 1)\n",
        "case_4.rename(columns={'pre_score' : 'total_score'},inplace = True)"
      ],
      "execution_count": null,
      "outputs": []
    },
    {
      "cell_type": "code",
      "metadata": {
        "id": "H0jRTHYBFw3x",
        "colab": {
          "base_uri": "https://localhost:8080/",
          "height": 431
        },
        "outputId": "21f77cf2-f11d-4884-8ad1-34997f5abdd3"
      },
      "source": [
        "case_4"
      ],
      "execution_count": null,
      "outputs": [
        {
          "output_type": "execute_result",
          "data": {
            "text/html": [
              "<div>\n",
              "<style scoped>\n",
              "    .dataframe tbody tr th:only-of-type {\n",
              "        vertical-align: middle;\n",
              "    }\n",
              "\n",
              "    .dataframe tbody tr th {\n",
              "        vertical-align: top;\n",
              "    }\n",
              "\n",
              "    .dataframe thead th {\n",
              "        text-align: right;\n",
              "    }\n",
              "</style>\n",
              "<table border=\"1\" class=\"dataframe\">\n",
              "  <thead>\n",
              "    <tr style=\"text-align: right;\">\n",
              "      <th></th>\n",
              "      <th>total_score</th>\n",
              "    </tr>\n",
              "    <tr>\n",
              "      <th>user_id</th>\n",
              "      <th></th>\n",
              "    </tr>\n",
              "  </thead>\n",
              "  <tbody>\n",
              "    <tr>\n",
              "      <th>1</th>\n",
              "      <td>10000</td>\n",
              "    </tr>\n",
              "    <tr>\n",
              "      <th>4</th>\n",
              "      <td>370000</td>\n",
              "    </tr>\n",
              "    <tr>\n",
              "      <th>5</th>\n",
              "      <td>30000</td>\n",
              "    </tr>\n",
              "    <tr>\n",
              "      <th>6</th>\n",
              "      <td>850000</td>\n",
              "    </tr>\n",
              "    <tr>\n",
              "      <th>7</th>\n",
              "      <td>9209</td>\n",
              "    </tr>\n",
              "    <tr>\n",
              "      <th>...</th>\n",
              "      <td>...</td>\n",
              "    </tr>\n",
              "    <tr>\n",
              "      <th>1860</th>\n",
              "      <td>329665</td>\n",
              "    </tr>\n",
              "    <tr>\n",
              "      <th>1862</th>\n",
              "      <td>40000</td>\n",
              "    </tr>\n",
              "    <tr>\n",
              "      <th>1864</th>\n",
              "      <td>439741</td>\n",
              "    </tr>\n",
              "    <tr>\n",
              "      <th>1865</th>\n",
              "      <td>116428</td>\n",
              "    </tr>\n",
              "    <tr>\n",
              "      <th>1868</th>\n",
              "      <td>270000</td>\n",
              "    </tr>\n",
              "  </tbody>\n",
              "</table>\n",
              "<p>1157 rows × 1 columns</p>\n",
              "</div>"
            ],
            "text/plain": [
              "         total_score\n",
              "user_id             \n",
              "1              10000\n",
              "4             370000\n",
              "5              30000\n",
              "6             850000\n",
              "7               9209\n",
              "...              ...\n",
              "1860          329665\n",
              "1862           40000\n",
              "1864          439741\n",
              "1865          116428\n",
              "1868          270000\n",
              "\n",
              "[1157 rows x 1 columns]"
            ]
          },
          "metadata": {
            "tags": []
          },
          "execution_count": 633
        }
      ]
    },
    {
      "cell_type": "markdown",
      "metadata": {
        "id": "744a2eHDmR5O"
      },
      "source": [
        "Trường hợp 5: Tổng của max pre_score của mỗi problem_id và tổng số submission\n",
        "\n"
      ]
    },
    {
      "cell_type": "code",
      "metadata": {
        "id": "eYjXyU53xkRb"
      },
      "source": [
        "case_5 = visualize_data[['user_id','problem_id','pre_score']]\n",
        "case_5 = case_5.groupby(['user_id', 'problem_id'], as_index=False).max()\n",
        "case_5 = case_5[['user_id','pre_score']].groupby('user_id', as_index=False).sum()\n",
        "case_5.rename(columns={\"pre_score\":\"total_max_score_per_problem\"}, inplace=True)"
      ],
      "execution_count": null,
      "outputs": []
    },
    {
      "cell_type": "code",
      "metadata": {
        "id": "5kIstZZ4FyM7",
        "colab": {
          "base_uri": "https://localhost:8080/",
          "height": 402
        },
        "outputId": "64747e86-3ab4-4240-91ff-700e9872e2e3"
      },
      "source": [
        "case_5"
      ],
      "execution_count": null,
      "outputs": [
        {
          "output_type": "execute_result",
          "data": {
            "text/html": [
              "<div>\n",
              "<style scoped>\n",
              "    .dataframe tbody tr th:only-of-type {\n",
              "        vertical-align: middle;\n",
              "    }\n",
              "\n",
              "    .dataframe tbody tr th {\n",
              "        vertical-align: top;\n",
              "    }\n",
              "\n",
              "    .dataframe thead th {\n",
              "        text-align: right;\n",
              "    }\n",
              "</style>\n",
              "<table border=\"1\" class=\"dataframe\">\n",
              "  <thead>\n",
              "    <tr style=\"text-align: right;\">\n",
              "      <th></th>\n",
              "      <th>user_id</th>\n",
              "      <th>total_max_score_per_problem</th>\n",
              "    </tr>\n",
              "  </thead>\n",
              "  <tbody>\n",
              "    <tr>\n",
              "      <th>0</th>\n",
              "      <td>1</td>\n",
              "      <td>10000</td>\n",
              "    </tr>\n",
              "    <tr>\n",
              "      <th>1</th>\n",
              "      <td>4</td>\n",
              "      <td>400000</td>\n",
              "    </tr>\n",
              "    <tr>\n",
              "      <th>2</th>\n",
              "      <td>5</td>\n",
              "      <td>30000</td>\n",
              "    </tr>\n",
              "    <tr>\n",
              "      <th>3</th>\n",
              "      <td>6</td>\n",
              "      <td>850000</td>\n",
              "    </tr>\n",
              "    <tr>\n",
              "      <th>4</th>\n",
              "      <td>7</td>\n",
              "      <td>9209</td>\n",
              "    </tr>\n",
              "    <tr>\n",
              "      <th>...</th>\n",
              "      <td>...</td>\n",
              "      <td>...</td>\n",
              "    </tr>\n",
              "    <tr>\n",
              "      <th>1154</th>\n",
              "      <td>1860</td>\n",
              "      <td>300221</td>\n",
              "    </tr>\n",
              "    <tr>\n",
              "      <th>1155</th>\n",
              "      <td>1862</td>\n",
              "      <td>40000</td>\n",
              "    </tr>\n",
              "    <tr>\n",
              "      <th>1156</th>\n",
              "      <td>1864</td>\n",
              "      <td>439741</td>\n",
              "    </tr>\n",
              "    <tr>\n",
              "      <th>1157</th>\n",
              "      <td>1865</td>\n",
              "      <td>116428</td>\n",
              "    </tr>\n",
              "    <tr>\n",
              "      <th>1158</th>\n",
              "      <td>1868</td>\n",
              "      <td>200000</td>\n",
              "    </tr>\n",
              "  </tbody>\n",
              "</table>\n",
              "<p>1159 rows × 2 columns</p>\n",
              "</div>"
            ],
            "text/plain": [
              "      user_id  total_max_score_per_problem\n",
              "0           1                        10000\n",
              "1           4                       400000\n",
              "2           5                        30000\n",
              "3           6                       850000\n",
              "4           7                         9209\n",
              "...       ...                          ...\n",
              "1154     1860                       300221\n",
              "1155     1862                        40000\n",
              "1156     1864                       439741\n",
              "1157     1865                       116428\n",
              "1158     1868                       200000\n",
              "\n",
              "[1159 rows x 2 columns]"
            ]
          },
          "metadata": {
            "tags": []
          },
          "execution_count": 635
        }
      ]
    },
    {
      "cell_type": "code",
      "metadata": {
        "id": "AF1-USJq3Jzb"
      },
      "source": [
        "visualize_score = data_score[['id','CK']]\n",
        "visualize_score = visualize_score.replace(r'^\\s*$', np.nan, regex=True) #Chuyển các ô trống sang NaN\n",
        "visualize_score = visualize_score.dropna()\n",
        "visualize_score.rename(columns={'id':'user_id'},inplace = True)\n",
        "visualize_score.set_index('user_id',inplace= True)\n",
        "visualize_score['CK'] = visualize_score['CK'].astype(float)"
      ],
      "execution_count": null,
      "outputs": []
    },
    {
      "cell_type": "code",
      "metadata": {
        "id": "dP2iHNWo3ZTi",
        "colab": {
          "base_uri": "https://localhost:8080/",
          "height": 431
        },
        "outputId": "19a84167-e9c5-4164-d47c-11d1d80a7ec5"
      },
      "source": [
        "visualize_score"
      ],
      "execution_count": null,
      "outputs": [
        {
          "output_type": "execute_result",
          "data": {
            "text/html": [
              "<div>\n",
              "<style scoped>\n",
              "    .dataframe tbody tr th:only-of-type {\n",
              "        vertical-align: middle;\n",
              "    }\n",
              "\n",
              "    .dataframe tbody tr th {\n",
              "        vertical-align: top;\n",
              "    }\n",
              "\n",
              "    .dataframe thead th {\n",
              "        text-align: right;\n",
              "    }\n",
              "</style>\n",
              "<table border=\"1\" class=\"dataframe\">\n",
              "  <thead>\n",
              "    <tr style=\"text-align: right;\">\n",
              "      <th></th>\n",
              "      <th>CK</th>\n",
              "    </tr>\n",
              "    <tr>\n",
              "      <th>user_id</th>\n",
              "      <th></th>\n",
              "    </tr>\n",
              "  </thead>\n",
              "  <tbody>\n",
              "    <tr>\n",
              "      <th>22</th>\n",
              "      <td>8.5</td>\n",
              "    </tr>\n",
              "    <tr>\n",
              "      <th>24</th>\n",
              "      <td>9.5</td>\n",
              "    </tr>\n",
              "    <tr>\n",
              "      <th>27</th>\n",
              "      <td>10.0</td>\n",
              "    </tr>\n",
              "    <tr>\n",
              "      <th>28</th>\n",
              "      <td>9.5</td>\n",
              "    </tr>\n",
              "    <tr>\n",
              "      <th>29</th>\n",
              "      <td>8.5</td>\n",
              "    </tr>\n",
              "    <tr>\n",
              "      <th>...</th>\n",
              "      <td>...</td>\n",
              "    </tr>\n",
              "    <tr>\n",
              "      <th>1857</th>\n",
              "      <td>4.0</td>\n",
              "    </tr>\n",
              "    <tr>\n",
              "      <th>1859</th>\n",
              "      <td>1.5</td>\n",
              "    </tr>\n",
              "    <tr>\n",
              "      <th>1862</th>\n",
              "      <td>7.5</td>\n",
              "    </tr>\n",
              "    <tr>\n",
              "      <th>1865</th>\n",
              "      <td>7.5</td>\n",
              "    </tr>\n",
              "    <tr>\n",
              "      <th>1866</th>\n",
              "      <td>5.0</td>\n",
              "    </tr>\n",
              "  </tbody>\n",
              "</table>\n",
              "<p>920 rows × 1 columns</p>\n",
              "</div>"
            ],
            "text/plain": [
              "           CK\n",
              "user_id      \n",
              "22        8.5\n",
              "24        9.5\n",
              "27       10.0\n",
              "28        9.5\n",
              "29        8.5\n",
              "...       ...\n",
              "1857      4.0\n",
              "1859      1.5\n",
              "1862      7.5\n",
              "1865      7.5\n",
              "1866      5.0\n",
              "\n",
              "[920 rows x 1 columns]"
            ]
          },
          "metadata": {
            "tags": []
          },
          "execution_count": 637
        }
      ]
    },
    {
      "cell_type": "code",
      "metadata": {
        "id": "m2Qst87ZEyGp"
      },
      "source": [
        "summery = case_1.merge(case_2,on = 'user_id')\n",
        "summery = summery.merge(case_3,on = 'user_id')\n",
        "summery = summery.merge(case_4,on = 'user_id',how = 'left').fillna(0)\n",
        "summery = summery.merge(case_5,on = 'user_id')\n",
        "summery.drop(['prob_solved','prob_tried','total_submissions_x','total_submitted','total_submissions_y','total_accepted'],axis = 1, inplace = True)"
      ],
      "execution_count": null,
      "outputs": []
    },
    {
      "cell_type": "code",
      "metadata": {
        "id": "aweHl6J6FJ6i",
        "colab": {
          "base_uri": "https://localhost:8080/",
          "height": 402
        },
        "outputId": "97f7c098-0492-4eab-d96c-37bf6e0e5d37"
      },
      "source": [
        "summery"
      ],
      "execution_count": null,
      "outputs": [
        {
          "output_type": "execute_result",
          "data": {
            "text/html": [
              "<div>\n",
              "<style scoped>\n",
              "    .dataframe tbody tr th:only-of-type {\n",
              "        vertical-align: middle;\n",
              "    }\n",
              "\n",
              "    .dataframe tbody tr th {\n",
              "        vertical-align: top;\n",
              "    }\n",
              "\n",
              "    .dataframe thead th {\n",
              "        text-align: right;\n",
              "    }\n",
              "</style>\n",
              "<table border=\"1\" class=\"dataframe\">\n",
              "  <thead>\n",
              "    <tr style=\"text-align: right;\">\n",
              "      <th></th>\n",
              "      <th>user_id</th>\n",
              "      <th>prob_solved/prob_tried</th>\n",
              "      <th>problem_submitted_rate</th>\n",
              "      <th>accepted/submissions</th>\n",
              "      <th>total_score</th>\n",
              "      <th>total_max_score_per_problem</th>\n",
              "    </tr>\n",
              "  </thead>\n",
              "  <tbody>\n",
              "    <tr>\n",
              "      <th>0</th>\n",
              "      <td>1</td>\n",
              "      <td>0.500000</td>\n",
              "      <td>1.000000</td>\n",
              "      <td>0.500000</td>\n",
              "      <td>10000.0</td>\n",
              "      <td>10000</td>\n",
              "    </tr>\n",
              "    <tr>\n",
              "      <th>1</th>\n",
              "      <td>4</td>\n",
              "      <td>0.902439</td>\n",
              "      <td>0.759259</td>\n",
              "      <td>0.814815</td>\n",
              "      <td>370000.0</td>\n",
              "      <td>400000</td>\n",
              "    </tr>\n",
              "    <tr>\n",
              "      <th>2</th>\n",
              "      <td>5</td>\n",
              "      <td>0.600000</td>\n",
              "      <td>0.833333</td>\n",
              "      <td>0.500000</td>\n",
              "      <td>30000.0</td>\n",
              "      <td>30000</td>\n",
              "    </tr>\n",
              "    <tr>\n",
              "      <th>3</th>\n",
              "      <td>6</td>\n",
              "      <td>0.955056</td>\n",
              "      <td>0.684615</td>\n",
              "      <td>0.684615</td>\n",
              "      <td>850000.0</td>\n",
              "      <td>850000</td>\n",
              "    </tr>\n",
              "    <tr>\n",
              "      <th>4</th>\n",
              "      <td>7</td>\n",
              "      <td>0.000000</td>\n",
              "      <td>0.400000</td>\n",
              "      <td>0.000000</td>\n",
              "      <td>9209.0</td>\n",
              "      <td>9209</td>\n",
              "    </tr>\n",
              "    <tr>\n",
              "      <th>...</th>\n",
              "      <td>...</td>\n",
              "      <td>...</td>\n",
              "      <td>...</td>\n",
              "      <td>...</td>\n",
              "      <td>...</td>\n",
              "      <td>...</td>\n",
              "    </tr>\n",
              "    <tr>\n",
              "      <th>1154</th>\n",
              "      <td>1860</td>\n",
              "      <td>0.583333</td>\n",
              "      <td>0.631579</td>\n",
              "      <td>0.381579</td>\n",
              "      <td>329665.0</td>\n",
              "      <td>300221</td>\n",
              "    </tr>\n",
              "    <tr>\n",
              "      <th>1155</th>\n",
              "      <td>1862</td>\n",
              "      <td>0.666667</td>\n",
              "      <td>0.500000</td>\n",
              "      <td>0.333333</td>\n",
              "      <td>40000.0</td>\n",
              "      <td>40000</td>\n",
              "    </tr>\n",
              "    <tr>\n",
              "      <th>1156</th>\n",
              "      <td>1864</td>\n",
              "      <td>0.444444</td>\n",
              "      <td>0.336898</td>\n",
              "      <td>0.160428</td>\n",
              "      <td>439741.0</td>\n",
              "      <td>439741</td>\n",
              "    </tr>\n",
              "    <tr>\n",
              "      <th>1157</th>\n",
              "      <td>1865</td>\n",
              "      <td>0.588235</td>\n",
              "      <td>0.171717</td>\n",
              "      <td>0.101010</td>\n",
              "      <td>116428.0</td>\n",
              "      <td>116428</td>\n",
              "    </tr>\n",
              "    <tr>\n",
              "      <th>1158</th>\n",
              "      <td>1868</td>\n",
              "      <td>0.964286</td>\n",
              "      <td>0.595745</td>\n",
              "      <td>0.808511</td>\n",
              "      <td>270000.0</td>\n",
              "      <td>200000</td>\n",
              "    </tr>\n",
              "  </tbody>\n",
              "</table>\n",
              "<p>1159 rows × 6 columns</p>\n",
              "</div>"
            ],
            "text/plain": [
              "      user_id  prob_solved/prob_tried  ...  total_score  total_max_score_per_problem\n",
              "0           1                0.500000  ...      10000.0                        10000\n",
              "1           4                0.902439  ...     370000.0                       400000\n",
              "2           5                0.600000  ...      30000.0                        30000\n",
              "3           6                0.955056  ...     850000.0                       850000\n",
              "4           7                0.000000  ...       9209.0                         9209\n",
              "...       ...                     ...  ...          ...                          ...\n",
              "1154     1860                0.583333  ...     329665.0                       300221\n",
              "1155     1862                0.666667  ...      40000.0                        40000\n",
              "1156     1864                0.444444  ...     439741.0                       439741\n",
              "1157     1865                0.588235  ...     116428.0                       116428\n",
              "1158     1868                0.964286  ...     270000.0                       200000\n",
              "\n",
              "[1159 rows x 6 columns]"
            ]
          },
          "metadata": {
            "tags": []
          },
          "execution_count": 639
        }
      ]
    },
    {
      "cell_type": "code",
      "metadata": {
        "colab": {
          "base_uri": "https://localhost:8080/",
          "height": 402
        },
        "id": "0NVkI1jtdAEe",
        "outputId": "f11b6061-8dd9-41cc-ae53-bdd7747d79a0"
      },
      "source": [
        "visualize = summery.merge(visualize_score,on = 'user_id')\n",
        "visualize"
      ],
      "execution_count": null,
      "outputs": [
        {
          "output_type": "execute_result",
          "data": {
            "text/html": [
              "<div>\n",
              "<style scoped>\n",
              "    .dataframe tbody tr th:only-of-type {\n",
              "        vertical-align: middle;\n",
              "    }\n",
              "\n",
              "    .dataframe tbody tr th {\n",
              "        vertical-align: top;\n",
              "    }\n",
              "\n",
              "    .dataframe thead th {\n",
              "        text-align: right;\n",
              "    }\n",
              "</style>\n",
              "<table border=\"1\" class=\"dataframe\">\n",
              "  <thead>\n",
              "    <tr style=\"text-align: right;\">\n",
              "      <th></th>\n",
              "      <th>user_id</th>\n",
              "      <th>prob_solved/prob_tried</th>\n",
              "      <th>problem_submitted_rate</th>\n",
              "      <th>accepted/submissions</th>\n",
              "      <th>total_score</th>\n",
              "      <th>total_max_score_per_problem</th>\n",
              "      <th>CK</th>\n",
              "    </tr>\n",
              "  </thead>\n",
              "  <tbody>\n",
              "    <tr>\n",
              "      <th>0</th>\n",
              "      <td>24</td>\n",
              "      <td>0.923077</td>\n",
              "      <td>0.475610</td>\n",
              "      <td>0.487805</td>\n",
              "      <td>750299.0</td>\n",
              "      <td>760299</td>\n",
              "      <td>9.5</td>\n",
              "    </tr>\n",
              "    <tr>\n",
              "      <th>1</th>\n",
              "      <td>27</td>\n",
              "      <td>0.600000</td>\n",
              "      <td>0.384615</td>\n",
              "      <td>0.307692</td>\n",
              "      <td>39000.0</td>\n",
              "      <td>39000</td>\n",
              "      <td>10.0</td>\n",
              "    </tr>\n",
              "    <tr>\n",
              "      <th>2</th>\n",
              "      <td>29</td>\n",
              "      <td>0.900000</td>\n",
              "      <td>0.402010</td>\n",
              "      <td>0.376884</td>\n",
              "      <td>762760.0</td>\n",
              "      <td>762760</td>\n",
              "      <td>8.5</td>\n",
              "    </tr>\n",
              "    <tr>\n",
              "      <th>3</th>\n",
              "      <td>34</td>\n",
              "      <td>0.964286</td>\n",
              "      <td>0.385321</td>\n",
              "      <td>0.371560</td>\n",
              "      <td>822888.0</td>\n",
              "      <td>822888</td>\n",
              "      <td>6.5</td>\n",
              "    </tr>\n",
              "    <tr>\n",
              "      <th>4</th>\n",
              "      <td>35</td>\n",
              "      <td>0.953947</td>\n",
              "      <td>0.511785</td>\n",
              "      <td>0.511785</td>\n",
              "      <td>1477000.0</td>\n",
              "      <td>1437000</td>\n",
              "      <td>4.5</td>\n",
              "    </tr>\n",
              "    <tr>\n",
              "      <th>...</th>\n",
              "      <td>...</td>\n",
              "      <td>...</td>\n",
              "      <td>...</td>\n",
              "      <td>...</td>\n",
              "      <td>...</td>\n",
              "      <td>...</td>\n",
              "      <td>...</td>\n",
              "    </tr>\n",
              "    <tr>\n",
              "      <th>801</th>\n",
              "      <td>1856</td>\n",
              "      <td>0.741935</td>\n",
              "      <td>0.484375</td>\n",
              "      <td>0.359375</td>\n",
              "      <td>270790.0</td>\n",
              "      <td>270790</td>\n",
              "      <td>7.5</td>\n",
              "    </tr>\n",
              "    <tr>\n",
              "      <th>802</th>\n",
              "      <td>1857</td>\n",
              "      <td>0.925000</td>\n",
              "      <td>0.727273</td>\n",
              "      <td>0.672727</td>\n",
              "      <td>386000.0</td>\n",
              "      <td>337000</td>\n",
              "      <td>4.0</td>\n",
              "    </tr>\n",
              "    <tr>\n",
              "      <th>803</th>\n",
              "      <td>1859</td>\n",
              "      <td>0.100000</td>\n",
              "      <td>0.967742</td>\n",
              "      <td>0.096774</td>\n",
              "      <td>39000.0</td>\n",
              "      <td>39000</td>\n",
              "      <td>1.5</td>\n",
              "    </tr>\n",
              "    <tr>\n",
              "      <th>804</th>\n",
              "      <td>1862</td>\n",
              "      <td>0.666667</td>\n",
              "      <td>0.500000</td>\n",
              "      <td>0.333333</td>\n",
              "      <td>40000.0</td>\n",
              "      <td>40000</td>\n",
              "      <td>7.5</td>\n",
              "    </tr>\n",
              "    <tr>\n",
              "      <th>805</th>\n",
              "      <td>1865</td>\n",
              "      <td>0.588235</td>\n",
              "      <td>0.171717</td>\n",
              "      <td>0.101010</td>\n",
              "      <td>116428.0</td>\n",
              "      <td>116428</td>\n",
              "      <td>7.5</td>\n",
              "    </tr>\n",
              "  </tbody>\n",
              "</table>\n",
              "<p>806 rows × 7 columns</p>\n",
              "</div>"
            ],
            "text/plain": [
              "     user_id  prob_solved/prob_tried  ...  total_max_score_per_problem    CK\n",
              "0         24                0.923077  ...                       760299   9.5\n",
              "1         27                0.600000  ...                        39000  10.0\n",
              "2         29                0.900000  ...                       762760   8.5\n",
              "3         34                0.964286  ...                       822888   6.5\n",
              "4         35                0.953947  ...                      1437000   4.5\n",
              "..       ...                     ...  ...                          ...   ...\n",
              "801     1856                0.741935  ...                       270790   7.5\n",
              "802     1857                0.925000  ...                       337000   4.0\n",
              "803     1859                0.100000  ...                        39000   1.5\n",
              "804     1862                0.666667  ...                        40000   7.5\n",
              "805     1865                0.588235  ...                       116428   7.5\n",
              "\n",
              "[806 rows x 7 columns]"
            ]
          },
          "metadata": {
            "tags": []
          },
          "execution_count": 640
        }
      ]
    },
    {
      "cell_type": "markdown",
      "metadata": {
        "id": "eirWVmTt2xiE"
      },
      "source": [
        "# VISUALIZE DATA"
      ]
    },
    {
      "cell_type": "code",
      "metadata": {
        "id": "PW2I504UPBYy",
        "colab": {
          "base_uri": "https://localhost:8080/",
          "height": 594
        },
        "outputId": "68f6cd77-1881-41d1-ceae-d251b87937de"
      },
      "source": [
        "fig, ((axs1, axs2, axs3), (axs4, axs5, axs6), ) = plt.subplots(2,3, figsize = (20,10))\n",
        "\n",
        "axs1.scatter(x = visualize['prob_solved/prob_tried'],y = visualize['CK'])\n",
        "axs1.set_title(\"Solved problems/tried problems - Grade\")\n",
        "axs1.set(xlabel='Rate', ylabel= 'Grade')\n",
        "\n",
        "axs2.scatter(x = visualize['problem_submitted_rate'],y = visualize['CK'])\n",
        "axs2.set_title(\"Submitted Problems Rate - Grade\")\n",
        "axs2.set(xlabel = 'Rate', ylabel = 'Grade')\n",
        "\n",
        "axs3.scatter(x = visualize['accepted/submissions'], y = visualize['CK'])\n",
        "axs3.set_title(\"Accepted/submissions - Grade\")\n",
        "axs3.set(xlabel = 'Rate', ylabel = 'Grade')\n",
        "\n",
        "axs4.scatter(x = visualize['total_score'], y = visualize['CK'])\n",
        "axs4.set_title(\"Total score - Grade\")\n",
        "axs4.set(xlabel = 'Total score', ylabel = 'Grade')\n",
        "\n",
        "axs5.scatter(x = visualize['total_max_score_per_problem'], y = visualize['CK'])\n",
        "axs5.set_title(\"Total max score per problem - Grade\")\n",
        "axs5.set(xlabel = 'Score', ylabel = 'Grade')\n",
        "\n",
        "fig.delaxes(axs6)\n",
        "plt.show()"
      ],
      "execution_count": null,
      "outputs": [
        {
          "output_type": "display_data",
          "data": {
            "image/png": "[encoded data removed]",
            "text/plain": [
              "<Figure size 1440x720 with 5 Axes>"
            ]
          },
          "metadata": {
            "tags": [],
            "needs_background": "light"
          }
        }
      ]
    },
    {
      "cell_type": "markdown",
      "metadata": {
        "id": "y1ITgBw7hYem"
      },
      "source": [
        "# TRAINING AND EVALUATING MODEL\n"
      ]
    },
    {
      "cell_type": "markdown",
      "metadata": {
        "id": "fPmkPlN9mk7F"
      },
      "source": [
        "Import các thư viện cần thiết"
      ]
    },
    {
      "cell_type": "code",
      "metadata": {
        "id": "Mf35lo1_hnE2"
      },
      "source": [
        "from sklearn.metrics import mean_squared_error\n",
        "from sklearn.linear_model import LinearRegression\n",
        "from sklearn.model_selection import train_test_split"
      ],
      "execution_count": null,
      "outputs": []
    },
    {
      "cell_type": "code",
      "metadata": {
        "colab": {
          "base_uri": "https://localhost:8080/"
        },
        "id": "Pc36uSs_h_We",
        "outputId": "00fbdf5a-c5a5-44b6-eeab-64f40f1930be"
      },
      "source": [
        "column_title_train = ['prob_solved/prob_tried','problem_submitted_rate','accepted/submissions','total_score','total_max_score_per_problem']\n",
        "\n",
        "x = np.array(visualize[column_title_train])\n",
        "y = np.array(visualize[['CK']])\n",
        "\n",
        "x_train, x_test, y_train, y_test = train_test_split(x,y,test_size = 0.3,random_state = 20)\n",
        "\n",
        "model = LinearRegression()\n",
        "model.fit(x_train,y_train)\n",
        "\n",
        "y_pre = model.predict(x_test)\n",
        "y_pre = np.round((y_pre*2))/2 #Làm tròn điểm \n",
        "mse = mean_squared_error(y_test, y_pre) #Tính Mean Square Error\n",
        "print('MSE =',mse)"
      ],
      "execution_count": null,
      "outputs": [
        {
          "output_type": "stream",
          "text": [
            "MSE = 4.386363636363637\n"
          ],
          "name": "stdout"
        }
      ]
    },
    {
      "cell_type": "markdown",
      "metadata": {
        "id": "MIGakQl8HHq2"
      },
      "source": [
        "# NHẬN XÉT"
      ]
    },
    {
      "cell_type": "markdown",
      "metadata": {
        "id": "4GCS5uCyHL3l"
      },
      "source": [
        "\n",
        "\n",
        "Sau khi train theo mô hình Linear Regression và MSE ra khá cao -> Mô hình hiện tại vẫn chưa tốt.\n",
        "#   Nguyên nhân:\n",
        "\n",
        "\n",
        "Chủ quan:\n",
        "\n",
        "\n",
        "> * Do quá trình xử lý dữ liệu chưa tốt\n",
        "\n",
        "\n",
        "> * Do chưa đánh giá tốt các tham số quan trọng cho bài toán\n",
        "\n",
        "\n",
        "\n",
        "\n",
        "Khách quan: Điểm thi cuối kỳ phụ thuộc vào nhiều yếu tố hơn là kết quả thực hành wecode vì những lý do sau:\n",
        "\n",
        "> * Kết quả wecode không chắc chắn phản ánh đúng khả năng của sinh viên vì: các bạn có thể chép code của người khác, có khả năng lập trình tốt nhưng lười làm bài tập,...\n",
        "> * Tâm lý phòng thi khác hẳn với khi ở nhà làm thực hành\n",
        "> * Kiến thức thi cuối kỳ có nhiều kiến thức về lý thuyết hơn so với bài tập wecode\n",
        "> *v.v\n",
        "\n",
        "\n",
        "\n",
        "\n"
      ]
    }
  ]
}
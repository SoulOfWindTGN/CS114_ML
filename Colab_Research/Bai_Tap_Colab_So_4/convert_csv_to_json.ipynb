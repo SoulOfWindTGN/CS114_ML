{
  "nbformat": 4,
  "nbformat_minor": 0,
  "metadata": {
    "colab": {
      "name": "convert_csv_to_json.ipynb",
      "provenance": [],
      "authorship_tag": "ABX9TyPNE9SK0lnTcRtSnW4Mg2+N",
      "include_colab_link": true
    },
    "kernelspec": {
      "name": "python3",
      "display_name": "Python 3"
    },
    "language_info": {
      "name": "python"
    }
  },
  "cells": [
    {
      "cell_type": "markdown",
      "metadata": {
        "id": "view-in-github",
        "colab_type": "text"
      },
      "source": [
        "<a href=\"https://colab.research.google.com/github/trankha1655/CS114_ML/blob/main/Colab_Research/Bai_Tap_Colab_So_4/convert_csv_to_json.ipynb\" target=\"_parent\"><img src=\"https://colab.research.google.com/assets/colab-badge.svg\" alt=\"Open In Colab\"/></a>"
      ]
    },
    {
      "cell_type": "code",
      "metadata": {
        "colab": {
          "base_uri": "https://localhost:8080/"
        },
        "id": "ozrlPCy6lm68",
        "outputId": "06790606-e91f-4230-dd99-54b012758d24"
      },
      "source": [
        "import pandas as pd\n",
        "\n",
        "!git clone https://github.com/trankha1655/CS114_ML.git\n",
        "\n",
        "data = pd.read_csv('/content/CS114_ML/Colab_Research/Bai_Tap_Colab_So_4/dataset-news-is_sarcastic.csv')\n",
        "data.drop(columns=['Unnamed: 0','date'],inplace=True)\n",
        "data = data[['article_link','headline','is_sarcastic']]"
      ],
      "execution_count": 1,
      "outputs": [
        {
          "output_type": "stream",
          "text": [
            "Cloning into 'CS114_ML'...\n",
            "remote: Enumerating objects: 411, done.\u001b[K\n",
            "remote: Counting objects: 100% (411/411), done.\u001b[K\n",
            "remote: Compressing objects: 100% (350/350), done.\u001b[K\n",
            "remote: Total 411 (delta 205), reused 170 (delta 48), pack-reused 0\u001b[K\n",
            "Receiving objects: 100% (411/411), 28.51 MiB | 14.96 MiB/s, done.\n",
            "Resolving deltas: 100% (205/205), done.\n"
          ],
          "name": "stdout"
        }
      ]
    },
    {
      "cell_type": "code",
      "metadata": {
        "colab": {
          "base_uri": "https://localhost:8080/",
          "height": 417
        },
        "id": "4Zg8Am9blu3v",
        "outputId": "41833120-dbbe-4986-b33a-8970d47e2131"
      },
      "source": [
        "data"
      ],
      "execution_count": 2,
      "outputs": [
        {
          "output_type": "execute_result",
          "data": {
            "text/html": [
              "<div>\n",
              "<style scoped>\n",
              "    .dataframe tbody tr th:only-of-type {\n",
              "        vertical-align: middle;\n",
              "    }\n",
              "\n",
              "    .dataframe tbody tr th {\n",
              "        vertical-align: top;\n",
              "    }\n",
              "\n",
              "    .dataframe thead th {\n",
              "        text-align: right;\n",
              "    }\n",
              "</style>\n",
              "<table border=\"1\" class=\"dataframe\">\n",
              "  <thead>\n",
              "    <tr style=\"text-align: right;\">\n",
              "      <th></th>\n",
              "      <th>article_link</th>\n",
              "      <th>headline</th>\n",
              "      <th>is_sarcastic</th>\n",
              "    </tr>\n",
              "  </thead>\n",
              "  <tbody>\n",
              "    <tr>\n",
              "      <th>0</th>\n",
              "      <td>https://babylonbee.com/news/disney-announces-n...</td>\n",
              "      <td>Disney Announces New Movie Giving Sympathetic ...</td>\n",
              "      <td>1</td>\n",
              "    </tr>\n",
              "    <tr>\n",
              "      <th>1</th>\n",
              "      <td>https://babylonbee.com/news/more-democrat-gove...</td>\n",
              "      <td>More Democrat Governors Moving To Florida To E...</td>\n",
              "      <td>1</td>\n",
              "    </tr>\n",
              "    <tr>\n",
              "      <th>2</th>\n",
              "      <td>https://babylonbee.com/news/concerns-arise-ove...</td>\n",
              "      <td>Concerns Arise Over Jen Psaki's Physical Healt...</td>\n",
              "      <td>1</td>\n",
              "    </tr>\n",
              "    <tr>\n",
              "      <th>3</th>\n",
              "      <td>https://babylonbee.com/news/gavin-newsom-tries...</td>\n",
              "      <td>Gavin Newsom Tries To Woo Californians Back By...</td>\n",
              "      <td>1</td>\n",
              "    </tr>\n",
              "    <tr>\n",
              "      <th>4</th>\n",
              "      <td>https://babylonbee.com/news/guy-cleaning-out-h...</td>\n",
              "      <td>Guy Cleaning Out His Car Pretty Sure This May ...</td>\n",
              "      <td>1</td>\n",
              "    </tr>\n",
              "    <tr>\n",
              "      <th>...</th>\n",
              "      <td>...</td>\n",
              "      <td>...</td>\n",
              "      <td>...</td>\n",
              "    </tr>\n",
              "    <tr>\n",
              "      <th>78229</th>\n",
              "      <td>https://toronto.citynews.ca/2017/12/31/power-s...</td>\n",
              "      <td>Power surge traps 120 on B.C. ski lift; all sa...</td>\n",
              "      <td>0</td>\n",
              "    </tr>\n",
              "    <tr>\n",
              "      <th>78230</th>\n",
              "      <td>https://toronto.citynews.ca/2017/12/31/toronto...</td>\n",
              "      <td>Toronto Polar Bear Club’s New Year’s Day dip c...</td>\n",
              "      <td>0</td>\n",
              "    </tr>\n",
              "    <tr>\n",
              "      <th>78231</th>\n",
              "      <td>https://toronto.citynews.ca/2017/12/31/as-temp...</td>\n",
              "      <td>As temperatures drop and shelters fill up, con...</td>\n",
              "      <td>0</td>\n",
              "    </tr>\n",
              "    <tr>\n",
              "      <th>78232</th>\n",
              "      <td>https://toronto.citynews.ca/2017/12/31/trudeau...</td>\n",
              "      <td>Trudeau calls on Canadians to work together in...</td>\n",
              "      <td>0</td>\n",
              "    </tr>\n",
              "    <tr>\n",
              "      <th>78233</th>\n",
              "      <td>https://toronto.citynews.ca/2017/12/31/rescuer...</td>\n",
              "      <td>Rescuer says snowy owl pulled from SUV grille ...</td>\n",
              "      <td>0</td>\n",
              "    </tr>\n",
              "  </tbody>\n",
              "</table>\n",
              "<p>78234 rows × 3 columns</p>\n",
              "</div>"
            ],
            "text/plain": [
              "                                            article_link  ... is_sarcastic\n",
              "0      https://babylonbee.com/news/disney-announces-n...  ...            1\n",
              "1      https://babylonbee.com/news/more-democrat-gove...  ...            1\n",
              "2      https://babylonbee.com/news/concerns-arise-ove...  ...            1\n",
              "3      https://babylonbee.com/news/gavin-newsom-tries...  ...            1\n",
              "4      https://babylonbee.com/news/guy-cleaning-out-h...  ...            1\n",
              "...                                                  ...  ...          ...\n",
              "78229  https://toronto.citynews.ca/2017/12/31/power-s...  ...            0\n",
              "78230  https://toronto.citynews.ca/2017/12/31/toronto...  ...            0\n",
              "78231  https://toronto.citynews.ca/2017/12/31/as-temp...  ...            0\n",
              "78232  https://toronto.citynews.ca/2017/12/31/trudeau...  ...            0\n",
              "78233  https://toronto.citynews.ca/2017/12/31/rescuer...  ...            0\n",
              "\n",
              "[78234 rows x 3 columns]"
            ]
          },
          "metadata": {
            "tags": []
          },
          "execution_count": 2
        }
      ]
    },
    {
      "cell_type": "code",
      "metadata": {
        "id": "GWoNgSstlwnX"
      },
      "source": [
        "import json\n",
        "\n",
        "json_path = 'dataset-news-is_sarcastic.json'\n",
        "jsonfile = open(json_path, 'w')\n",
        "data = data.to_dict(orient='records')\n",
        "for row in data:\n",
        "  json.dump(row,jsonfile)\n",
        "  jsonfile.write('\\n')"
      ],
      "execution_count": 3,
      "outputs": []
    }
  ]
}
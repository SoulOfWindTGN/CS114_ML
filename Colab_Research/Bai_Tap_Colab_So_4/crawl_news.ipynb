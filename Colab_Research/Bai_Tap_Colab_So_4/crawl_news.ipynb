{
  "nbformat": 4,
  "nbformat_minor": 0,
  "metadata": {
    "colab": {
      "name": "crawl_news.ipynb",
      "provenance": [],
      "collapsed_sections": []
    },
    "kernelspec": {
      "name": "python3",
      "display_name": "Python 3"
    },
    "language_info": {
      "name": "python"
    }
  },
  "cells": [
    {
      "cell_type": "code",
      "metadata": {
        "id": "PrazvXeRrbZI"
      },
      "source": [
        "import requests\n",
        "from bs4 import BeautifulSoup\n",
        "import pandas as pd"
      ],
      "execution_count": 4,
      "outputs": []
    },
    {
      "cell_type": "markdown",
      "metadata": {
        "id": "8Padn7N0z473"
      },
      "source": [
        "# Crawl data from Borowitz Report (The Newyorker)"
      ]
    },
    {
      "cell_type": "code",
      "metadata": {
        "id": "IFLDBTRGt1lI"
      },
      "source": [
        "headline = []\n",
        "article_link = []\n",
        "is_sarcastic = []\n",
        "date = []\n",
        "\n",
        "title_news=[\"news\",\"humor\"]\n",
        "link = 'https://www.newyorker.com/latest/{}/page/{}' #Đường dẫn đến trang web theo page\n",
        "\n",
        "for news in title_news:\n",
        "  for i in range(400):\n",
        "    req = requests.get(link.format(news,i)) #Tạo request\n",
        "    soup = BeautifulSoup(req.text, \"lxml\")\n",
        "    g = soup.find_all('div',class_='River__riverItemContent___2hXMG') #Tìm tất cả thẻ chứa thông tin bài báo\n",
        "\n",
        "    ex= g[0]\n",
        "    year= int(ex.find_all('h6',class_=\"River__publishDate___1fSSK\")[0].get_text().split(', ')[-1])\n",
        "\n",
        "    if year <2018:\n",
        "      break\n",
        "\n",
        "    for i in g:\n",
        "      headline.append(i.find('a',class_='Link__link___3dWao ').get_text()) #Lấy tiêu đề\n",
        "      url = 'https://www.newyorker.com/' + i.find('a',class_='Link__link___3dWao ').get('href') #Lấy URL\n",
        "      article_link.append(url)\n",
        "      date.append(i.find('h6').get_text()) #Lấy ngày phát hành\n",
        "      is_sarcastic.append(1) #Lable"
      ],
      "execution_count": 10,
      "outputs": []
    },
    {
      "cell_type": "code",
      "metadata": {
        "colab": {
          "base_uri": "https://localhost:8080/",
          "height": 402
        },
        "id": "JuV1Ba6swGAW",
        "outputId": "a4a04f64-3e0a-4f65-c17a-11cd8031d9f8"
      },
      "source": [
        "df = pd.DataFrame({'headline':headline,'article_link':article_link,'is_sarcastic':is_sarcastic,'date':date})\n",
        "df"
      ],
      "execution_count": 11,
      "outputs": [
        {
          "output_type": "execute_result",
          "data": {
            "text/html": [
              "<div>\n",
              "<style scoped>\n",
              "    .dataframe tbody tr th:only-of-type {\n",
              "        vertical-align: middle;\n",
              "    }\n",
              "\n",
              "    .dataframe tbody tr th {\n",
              "        vertical-align: top;\n",
              "    }\n",
              "\n",
              "    .dataframe thead th {\n",
              "        text-align: right;\n",
              "    }\n",
              "</style>\n",
              "<table border=\"1\" class=\"dataframe\">\n",
              "  <thead>\n",
              "    <tr style=\"text-align: right;\">\n",
              "      <th></th>\n",
              "      <th>headline</th>\n",
              "      <th>article_link</th>\n",
              "      <th>is_sarcastic</th>\n",
              "      <th>date</th>\n",
              "    </tr>\n",
              "  </thead>\n",
              "  <tbody>\n",
              "    <tr>\n",
              "      <th>0</th>\n",
              "      <td>The New Yorker Wins Six National Magazine Awards</td>\n",
              "      <td>https://www.newyorker.com//news/news-desk/the-...</td>\n",
              "      <td>1</td>\n",
              "      <td>June 10, 2021</td>\n",
              "    </tr>\n",
              "    <tr>\n",
              "      <th>1</th>\n",
              "      <td>An Ode to the No-Hitter</td>\n",
              "      <td>https://www.newyorker.com//sports/sporting-sce...</td>\n",
              "      <td>1</td>\n",
              "      <td>June 7, 2021</td>\n",
              "    </tr>\n",
              "    <tr>\n",
              "      <th>2</th>\n",
              "      <td>The Ridiculous, Not-So-Ridiculous Spectacle of...</td>\n",
              "      <td>https://www.newyorker.com//sports/sporting-sce...</td>\n",
              "      <td>1</td>\n",
              "      <td>June 5, 2021</td>\n",
              "    </tr>\n",
              "    <tr>\n",
              "      <th>3</th>\n",
              "      <td>What if Pro Sports Leagues Were Controlled by ...</td>\n",
              "      <td>https://www.newyorker.com//sports/sporting-sce...</td>\n",
              "      <td>1</td>\n",
              "      <td>June 3, 2021</td>\n",
              "    </tr>\n",
              "    <tr>\n",
              "      <th>4</th>\n",
              "      <td>Knicks Fans Are Together Again, for Better and...</td>\n",
              "      <td>https://www.newyorker.com//culture/dept-of-ret...</td>\n",
              "      <td>1</td>\n",
              "      <td>June 2, 2021</td>\n",
              "    </tr>\n",
              "    <tr>\n",
              "      <th>...</th>\n",
              "      <td>...</td>\n",
              "      <td>...</td>\n",
              "      <td>...</td>\n",
              "      <td>...</td>\n",
              "    </tr>\n",
              "    <tr>\n",
              "      <th>4415</th>\n",
              "      <td>Paul Ryan Says He Will Retire Once He Has Wrec...</td>\n",
              "      <td>https://www.newyorker.com//humor/borowitz-repo...</td>\n",
              "      <td>1</td>\n",
              "      <td>January 2, 2018</td>\n",
              "    </tr>\n",
              "    <tr>\n",
              "      <th>4416</th>\n",
              "      <td>Daily Cartoon: Tuesday, January 2nd</td>\n",
              "      <td>https://www.newyorker.com//cartoons/daily-cart...</td>\n",
              "      <td>1</td>\n",
              "      <td>January 2, 2018</td>\n",
              "    </tr>\n",
              "    <tr>\n",
              "      <th>4417</th>\n",
              "      <td>Retirement Planning vs. Quest for the Amulet o...</td>\n",
              "      <td>https://www.newyorker.com//humor/daily-shouts/...</td>\n",
              "      <td>1</td>\n",
              "      <td>January 2, 2018</td>\n",
              "    </tr>\n",
              "    <tr>\n",
              "      <th>4418</th>\n",
              "      <td>Mistakes You’re Going to Keep Making Forever</td>\n",
              "      <td>https://www.newyorker.com//humor/daily-shouts/...</td>\n",
              "      <td>1</td>\n",
              "      <td>January 1, 2018</td>\n",
              "    </tr>\n",
              "    <tr>\n",
              "      <th>4419</th>\n",
              "      <td>Romantic-Comedy Endings Reimagined for 2018</td>\n",
              "      <td>https://www.newyorker.com//humor/daily-shouts/...</td>\n",
              "      <td>1</td>\n",
              "      <td>December 31, 2017</td>\n",
              "    </tr>\n",
              "  </tbody>\n",
              "</table>\n",
              "<p>4420 rows × 4 columns</p>\n",
              "</div>"
            ],
            "text/plain": [
              "                                               headline  ...               date\n",
              "0      The New Yorker Wins Six National Magazine Awards  ...      June 10, 2021\n",
              "1                               An Ode to the No-Hitter  ...       June 7, 2021\n",
              "2     The Ridiculous, Not-So-Ridiculous Spectacle of...  ...       June 5, 2021\n",
              "3     What if Pro Sports Leagues Were Controlled by ...  ...       June 3, 2021\n",
              "4     Knicks Fans Are Together Again, for Better and...  ...       June 2, 2021\n",
              "...                                                 ...  ...                ...\n",
              "4415  Paul Ryan Says He Will Retire Once He Has Wrec...  ...    January 2, 2018\n",
              "4416                Daily Cartoon: Tuesday, January 2nd  ...    January 2, 2018\n",
              "4417  Retirement Planning vs. Quest for the Amulet o...  ...    January 2, 2018\n",
              "4418       Mistakes You’re Going to Keep Making Forever  ...    January 1, 2018\n",
              "4419        Romantic-Comedy Endings Reimagined for 2018  ...  December 31, 2017\n",
              "\n",
              "[4420 rows x 4 columns]"
            ]
          },
          "metadata": {
            "tags": []
          },
          "execution_count": 11
        }
      ]
    },
    {
      "cell_type": "code",
      "metadata": {
        "id": "_OQI5gtmyOsJ"
      },
      "source": [
        "df.to_csv('newyorker.csv',index=False)"
      ],
      "execution_count": 12,
      "outputs": []
    },
    {
      "cell_type": "markdown",
      "metadata": {
        "id": "biSIbN1x0Dp_"
      },
      "source": [
        "# Crawl data from Euronews"
      ]
    },
    {
      "cell_type": "markdown",
      "metadata": {
        "id": "QtyB4hfr_h2H"
      },
      "source": [
        "Trang báo Euronews cho phép xem các báo phát hành theo ngày (ví dụ với đường dẫn https://www.euronews.com/2021/06/05 ta có thể xem tất cả các bài báo đã phát hành vào ngày 05/06/2021)nên ta có thể dễ dàng crawl tiêu đề bài báo ở một ngày cụ thể với url dạng https://www.euronews.com/yyyy/mm/dd)"
      ]
    },
    {
      "cell_type": "code",
      "metadata": {
        "colab": {
          "base_uri": "https://localhost:8080/",
          "height": 35
        },
        "id": "7--2q2MhBQVC",
        "outputId": "80c66e6c-5cae-4b92-9710-17844ea47ab3"
      },
      "source": [
        "from datetime import date,timedelta\n",
        "today = date.today()\n",
        "d = today.strftime(\"%Y/%m/%d\")\n",
        "d"
      ],
      "execution_count": 4,
      "outputs": [
        {
          "output_type": "execute_result",
          "data": {
            "application/vnd.google.colaboratory.intrinsic+json": {
              "type": "string"
            },
            "text/plain": [
              "'2021/06/11'"
            ]
          },
          "metadata": {
            "tags": []
          },
          "execution_count": 4
        }
      ]
    },
    {
      "cell_type": "code",
      "metadata": {
        "id": "IdCrfr1L-bz_"
      },
      "source": [
        "headline = []\n",
        "article_link = []\n",
        "is_sarcastic = []\n",
        "date = []\n",
        "link = 'https://www.euronews.com/' # Đường dẫn đến trang web\n",
        "while(today.year>=2019):\n",
        "  req = requests.get(link+d) # d là yyyy/mm/dd\n",
        "  print(req)\n",
        "  if(req.status_code==200): # Kiểm tra request thành công hay không?\n",
        "    soup = BeautifulSoup(req.text, \"lxml\")\n",
        "\n",
        "    for i in soup.find_all('a',class_ = 'm-object__title__link '):\n",
        "      headline.append(i.get('title')) #Lấy tiêu đề \n",
        "      article_link.append('https://www.euronews.com/'+i.get('href')) #Lấy URL\n",
        "      is_sarcastic.append(0)\n",
        "      date.append(d)\n",
        "  \n",
        "  today -= timedelta(1)\n",
        "  d = today.strftime(\"%Y/%m/%d\")\n"
      ],
      "execution_count": null,
      "outputs": []
    },
    {
      "cell_type": "code",
      "metadata": {
        "colab": {
          "base_uri": "https://localhost:8080/",
          "height": 402
        },
        "id": "2H7nLcTXyRSD",
        "outputId": "2ad2b230-1a41-4979-86e0-e871e433a46a"
      },
      "source": [
        "df = pd.DataFrame({'headline':headline,'article_link':article_link,'is_sarcastic':is_sarcastic,'date':date})\n",
        "df"
      ],
      "execution_count": 6,
      "outputs": [
        {
          "output_type": "execute_result",
          "data": {
            "text/html": [
              "<div>\n",
              "<style scoped>\n",
              "    .dataframe tbody tr th:only-of-type {\n",
              "        vertical-align: middle;\n",
              "    }\n",
              "\n",
              "    .dataframe tbody tr th {\n",
              "        vertical-align: top;\n",
              "    }\n",
              "\n",
              "    .dataframe thead th {\n",
              "        text-align: right;\n",
              "    }\n",
              "</style>\n",
              "<table border=\"1\" class=\"dataframe\">\n",
              "  <thead>\n",
              "    <tr style=\"text-align: right;\">\n",
              "      <th></th>\n",
              "      <th>headline</th>\n",
              "      <th>article_link</th>\n",
              "      <th>is_sarcastic</th>\n",
              "      <th>date</th>\n",
              "    </tr>\n",
              "  </thead>\n",
              "  <tbody>\n",
              "    <tr>\n",
              "      <th>0</th>\n",
              "      <td>China passes law to counter foreign sanctions</td>\n",
              "      <td>https://www.euronews.com//2021/06/11/china-pas...</td>\n",
              "      <td>0</td>\n",
              "      <td>2021/06/11</td>\n",
              "    </tr>\n",
              "    <tr>\n",
              "      <th>1</th>\n",
              "      <td>Jill Biden offers 'love' from America on her j...</td>\n",
              "      <td>https://www.euronews.com//2021/06/11/jill-bide...</td>\n",
              "      <td>0</td>\n",
              "      <td>2021/06/11</td>\n",
              "    </tr>\n",
              "    <tr>\n",
              "      <th>2</th>\n",
              "      <td>Joe Biden will be the 13th US president Queen ...</td>\n",
              "      <td>https://www.euronews.com//2021/06/11/joe-biden...</td>\n",
              "      <td>0</td>\n",
              "      <td>2021/06/11</td>\n",
              "    </tr>\n",
              "    <tr>\n",
              "      <th>3</th>\n",
              "      <td>China releases images taken by its space rover...</td>\n",
              "      <td>https://www.euronews.com//2021/06/11/china-rel...</td>\n",
              "      <td>0</td>\n",
              "      <td>2021/06/11</td>\n",
              "    </tr>\n",
              "    <tr>\n",
              "      <th>4</th>\n",
              "      <td>Matic delivers Croatia a first ever World Cham...</td>\n",
              "      <td>https://www.euronews.com//2021/06/10/matic-del...</td>\n",
              "      <td>0</td>\n",
              "      <td>2021/06/10</td>\n",
              "    </tr>\n",
              "    <tr>\n",
              "      <th>...</th>\n",
              "      <td>...</td>\n",
              "      <td>...</td>\n",
              "      <td>...</td>\n",
              "      <td>...</td>\n",
              "    </tr>\n",
              "    <tr>\n",
              "      <th>23999</th>\n",
              "      <td>Parched Jordan to drill a half-mile undergroun...</td>\n",
              "      <td>https://www.euronews.com//2019/01/01/jordan-dr...</td>\n",
              "      <td>0</td>\n",
              "      <td>2019/01/01</td>\n",
              "    </tr>\n",
              "    <tr>\n",
              "      <th>24000</th>\n",
              "      <td>In 2019, the nuclear deal is hanging by a thre...</td>\n",
              "      <td>https://www.euronews.com//2019/01/01/the-iran-...</td>\n",
              "      <td>0</td>\n",
              "      <td>2019/01/01</td>\n",
              "    </tr>\n",
              "    <tr>\n",
              "      <th>24001</th>\n",
              "      <td>Feeling lonely? You're not alone. How to find ...</td>\n",
              "      <td>https://www.euronews.com//2019/01/01/lonely-yo...</td>\n",
              "      <td>0</td>\n",
              "      <td>2019/01/01</td>\n",
              "    </tr>\n",
              "    <tr>\n",
              "      <th>24002</th>\n",
              "      <td>France: Eight people spend New Year's Eve stuc...</td>\n",
              "      <td>https://www.euronews.com//2019/01/01/france-ei...</td>\n",
              "      <td>0</td>\n",
              "      <td>2019/01/01</td>\n",
              "    </tr>\n",
              "    <tr>\n",
              "      <th>24003</th>\n",
              "      <td>North Korea warns US it may ‘seek new path’ if...</td>\n",
              "      <td>https://www.euronews.com//2019/01/01/north-kor...</td>\n",
              "      <td>0</td>\n",
              "      <td>2019/01/01</td>\n",
              "    </tr>\n",
              "  </tbody>\n",
              "</table>\n",
              "<p>24004 rows × 4 columns</p>\n",
              "</div>"
            ],
            "text/plain": [
              "                                                headline  ...        date\n",
              "0          China passes law to counter foreign sanctions  ...  2021/06/11\n",
              "1      Jill Biden offers 'love' from America on her j...  ...  2021/06/11\n",
              "2      Joe Biden will be the 13th US president Queen ...  ...  2021/06/11\n",
              "3      China releases images taken by its space rover...  ...  2021/06/11\n",
              "4      Matic delivers Croatia a first ever World Cham...  ...  2021/06/10\n",
              "...                                                  ...  ...         ...\n",
              "23999  Parched Jordan to drill a half-mile undergroun...  ...  2019/01/01\n",
              "24000  In 2019, the nuclear deal is hanging by a thre...  ...  2019/01/01\n",
              "24001  Feeling lonely? You're not alone. How to find ...  ...  2019/01/01\n",
              "24002  France: Eight people spend New Year's Eve stuc...  ...  2019/01/01\n",
              "24003  North Korea warns US it may ‘seek new path’ if...  ...  2019/01/01\n",
              "\n",
              "[24004 rows x 4 columns]"
            ]
          },
          "metadata": {
            "tags": []
          },
          "execution_count": 6
        }
      ]
    },
    {
      "cell_type": "code",
      "metadata": {
        "id": "O02KiHg79Tga"
      },
      "source": [
        "df.to_csv('euronews.csv')"
      ],
      "execution_count": 7,
      "outputs": []
    },
    {
      "cell_type": "code",
      "metadata": {
        "id": "wkGp3srnzfL4"
      },
      "source": [
        ""
      ],
      "execution_count": 8,
      "outputs": []
    },
    {
      "cell_type": "markdown",
      "metadata": {
        "id": "nADy0z-jduIP"
      },
      "source": [
        "#crawl data from National Post"
      ]
    },
    {
      "cell_type": "code",
      "metadata": {
        "id": "2vZEhkNWc2Tq"
      },
      "source": [
        "import requests\n",
        "from bs4 import BeautifulSoup\n",
        "from datetime import date , timedelta\n",
        "from tqdm import tqdm\n",
        "import time\n",
        "import pandas as pd"
      ],
      "execution_count": 17,
      "outputs": []
    },
    {
      "cell_type": "markdown",
      "metadata": {
        "id": "kntnZJL5dAaZ"
      },
      "source": [
        "Trang báo National Post cho phép xem các bài báo theo nội dung tìm kiếm\n",
        "\n",
        "Mỗi lần tìm kiếm sẽ được một list 10 bài báo và ta sẽ duyệt qua các list bài báo tìm kiếm được để thu thập các tiêu đề và đường link bài báo"
      ]
    },
    {
      "cell_type": "code",
      "metadata": {
        "id": "Es_mgIjKdCMb"
      },
      "source": [
        "link5 = \"https://nationalpost.com/search/?search_text=news&date_range=-7300d&sort=desc&from=\""
      ],
      "execution_count": 18,
      "outputs": []
    },
    {
      "cell_type": "code",
      "metadata": {
        "id": "ZxqJSJt5dEa2"
      },
      "source": [
        "def get_data5(link5):\n",
        "  response = requests.get(link5)\n",
        "  lst = []\n",
        "  soup = BeautifulSoup(response.content, \"html.parser\")\n",
        "  table  = soup.findAll('div', class_=\"article-card__content\") #Tìm list bài báo\n",
        "  times = []\n",
        "  for i in table: #tìm thẻ span chứa ngày tháng năm phát hành bài báo\n",
        "    time = []\n",
        "    z = i.find('div') \n",
        "    for j in z:\n",
        "      k = j.find('span')\n",
        "      time.append(k)\n",
        "    year = time[3].text[-5:]\n",
        "    try :\n",
        "      if (year == ' ago '):\n",
        "        times.append(2021)\n",
        "      else:\n",
        "        times.append(int(year))\n",
        "    except:\n",
        "      times.append(2018)\n",
        "  links = [link.find('a').attrs[\"href\"] for link in table] #tìm các đường link bài báo\n",
        "  headline = []    #find headline\n",
        "  for link in table: #Tìm tiêu đề bài báo\n",
        "    text = link.find('a').text.split('   ') \n",
        "    headline.append(text[0])\n",
        "  for i in range(len(links)):\n",
        "    dic = dict()\n",
        "    dic[\"article_link\"] = \"https://nationalpost.com/\"+ links[i]\n",
        "    dic[\"headline\"] = headline[i]\n",
        "    dic[\"is_sarcastic\"] = 0\n",
        "    print(dic)\n",
        "    if (int(times[i])> 2018): #thêm nhưng bài báo phát hành sau năm 2018\n",
        "      lst.append(dic)\n",
        "  return lst  "
      ],
      "execution_count": 19,
      "outputs": []
    },
    {
      "cell_type": "code",
      "metadata": {
        "id": "ZCx0hzAkdGq9"
      },
      "source": [
        "lst = []\n",
        "for index in tqdm(range(0, 10000,10)): #tìm kiếm 10000 bài báo\n",
        "  link = link5 + str(index)\n",
        "  lst += get_data5(link)"
      ],
      "execution_count": null,
      "outputs": []
    },
    {
      "cell_type": "code",
      "metadata": {
        "id": "q26rAw6QdL38"
      },
      "source": [
        "def extra_csv(lst):\n",
        "  headline = []\n",
        "  article_link = []\n",
        "  is_sarcastic = []\n",
        "  for i in lst:\n",
        "    article_link.append(i['article_link'])\n",
        "    headline.append(i['headline'])\n",
        "    is_sarcastic.append(i['is_sarcastic'])\n",
        "  df = pd.DataFrame({'headline':headline,'article_link':article_link,'is_sarcastic':is_sarcastic})\n",
        "  return df\n",
        "df =extra_csv(lst)"
      ],
      "execution_count": 21,
      "outputs": []
    },
    {
      "cell_type": "code",
      "metadata": {
        "colab": {
          "base_uri": "https://localhost:8080/",
          "height": 195
        },
        "id": "RlqMpM36dOGl",
        "outputId": "167de858-6765-4c89-e292-5384d3b179ab"
      },
      "source": [
        "df.head()"
      ],
      "execution_count": 22,
      "outputs": [
        {
          "output_type": "execute_result",
          "data": {
            "text/html": [
              "<div>\n",
              "<style scoped>\n",
              "    .dataframe tbody tr th:only-of-type {\n",
              "        vertical-align: middle;\n",
              "    }\n",
              "\n",
              "    .dataframe tbody tr th {\n",
              "        vertical-align: top;\n",
              "    }\n",
              "\n",
              "    .dataframe thead th {\n",
              "        text-align: right;\n",
              "    }\n",
              "</style>\n",
              "<table border=\"1\" class=\"dataframe\">\n",
              "  <thead>\n",
              "    <tr style=\"text-align: right;\">\n",
              "      <th></th>\n",
              "      <th>headline</th>\n",
              "      <th>article_link</th>\n",
              "      <th>is_sarcastic</th>\n",
              "    </tr>\n",
              "  </thead>\n",
              "  <tbody>\n",
              "    <tr>\n",
              "      <th>0</th>\n",
              "      <td>Red Sox host Vladimir Guerrero Jr., Blue Jays</td>\n",
              "      <td>https://nationalpost.com//pmn/sports-pmn/red-s...</td>\n",
              "      <td>0</td>\n",
              "    </tr>\n",
              "    <tr>\n",
              "      <th>1</th>\n",
              "      <td>Philippines to give vaccinated elderly more ...</td>\n",
              "      <td>https://nationalpost.com//pmn/health-pmn/phili...</td>\n",
              "      <td>0</td>\n",
              "    </tr>\n",
              "    <tr>\n",
              "      <th>2</th>\n",
              "      <td>MLB roundup: Twins overtake Yanks with 4-run...</td>\n",
              "      <td>https://nationalpost.com//pmn/sports-pmn/mlb-r...</td>\n",
              "      <td>0</td>\n",
              "    </tr>\n",
              "    <tr>\n",
              "      <th>3</th>\n",
              "      <td>Daily horoscope for Friday, June 11, 2021</td>\n",
              "      <td>https://nationalpost.com//life/horoscopes/dail...</td>\n",
              "      <td>0</td>\n",
              "    </tr>\n",
              "    <tr>\n",
              "      <th>4</th>\n",
              "      <td>Lucas Giolito, White Sox aim to keep Tigers ...</td>\n",
              "      <td>https://nationalpost.com//pmn/sports-pmn/lucas...</td>\n",
              "      <td>0</td>\n",
              "    </tr>\n",
              "  </tbody>\n",
              "</table>\n",
              "</div>"
            ],
            "text/plain": [
              "                                            headline  ... is_sarcastic\n",
              "0      Red Sox host Vladimir Guerrero Jr., Blue Jays  ...            0\n",
              "1    Philippines to give vaccinated elderly more ...  ...            0\n",
              "2    MLB roundup: Twins overtake Yanks with 4-run...  ...            0\n",
              "3          Daily horoscope for Friday, June 11, 2021  ...            0\n",
              "4    Lucas Giolito, White Sox aim to keep Tigers ...  ...            0\n",
              "\n",
              "[5 rows x 3 columns]"
            ]
          },
          "metadata": {
            "tags": []
          },
          "execution_count": 22
        }
      ]
    },
    {
      "cell_type": "code",
      "metadata": {
        "id": "GrkM596ndQL-"
      },
      "source": [
        "df.to_csv('TheTrueNorthTime.csv') # lưu thành file csv"
      ],
      "execution_count": 23,
      "outputs": []
    },
    {
      "cell_type": "code",
      "metadata": {
        "id": "rTWtYsxJ7_lV",
        "outputId": "c195fdb3-c6f2-460e-aed9-8b4a25f1512f",
        "colab": {
          "base_uri": "https://localhost:8080/",
          "height": 402
        }
      },
      "source": [
        "df"
      ],
      "execution_count": 24,
      "outputs": [
        {
          "output_type": "execute_result",
          "data": {
            "text/html": [
              "<div>\n",
              "<style scoped>\n",
              "    .dataframe tbody tr th:only-of-type {\n",
              "        vertical-align: middle;\n",
              "    }\n",
              "\n",
              "    .dataframe tbody tr th {\n",
              "        vertical-align: top;\n",
              "    }\n",
              "\n",
              "    .dataframe thead th {\n",
              "        text-align: right;\n",
              "    }\n",
              "</style>\n",
              "<table border=\"1\" class=\"dataframe\">\n",
              "  <thead>\n",
              "    <tr style=\"text-align: right;\">\n",
              "      <th></th>\n",
              "      <th>headline</th>\n",
              "      <th>article_link</th>\n",
              "      <th>is_sarcastic</th>\n",
              "    </tr>\n",
              "  </thead>\n",
              "  <tbody>\n",
              "    <tr>\n",
              "      <th>0</th>\n",
              "      <td>Red Sox host Vladimir Guerrero Jr., Blue Jays</td>\n",
              "      <td>https://nationalpost.com//pmn/sports-pmn/red-s...</td>\n",
              "      <td>0</td>\n",
              "    </tr>\n",
              "    <tr>\n",
              "      <th>1</th>\n",
              "      <td>Philippines to give vaccinated elderly more ...</td>\n",
              "      <td>https://nationalpost.com//pmn/health-pmn/phili...</td>\n",
              "      <td>0</td>\n",
              "    </tr>\n",
              "    <tr>\n",
              "      <th>2</th>\n",
              "      <td>MLB roundup: Twins overtake Yanks with 4-run...</td>\n",
              "      <td>https://nationalpost.com//pmn/sports-pmn/mlb-r...</td>\n",
              "      <td>0</td>\n",
              "    </tr>\n",
              "    <tr>\n",
              "      <th>3</th>\n",
              "      <td>Daily horoscope for Friday, June 11, 2021</td>\n",
              "      <td>https://nationalpost.com//life/horoscopes/dail...</td>\n",
              "      <td>0</td>\n",
              "    </tr>\n",
              "    <tr>\n",
              "      <th>4</th>\n",
              "      <td>Lucas Giolito, White Sox aim to keep Tigers ...</td>\n",
              "      <td>https://nationalpost.com//pmn/sports-pmn/lucas...</td>\n",
              "      <td>0</td>\n",
              "    </tr>\n",
              "    <tr>\n",
              "      <th>...</th>\n",
              "      <td>...</td>\n",
              "      <td>...</td>\n",
              "      <td>...</td>\n",
              "    </tr>\n",
              "    <tr>\n",
              "      <th>9995</th>\n",
              "      <td>Haiti government denounces plot to oust pres...</td>\n",
              "      <td>https://nationalpost.com//pmn/news-pmn/crime-p...</td>\n",
              "      <td>0</td>\n",
              "    </tr>\n",
              "    <tr>\n",
              "      <th>9996</th>\n",
              "      <td>Biden says challenging for U.S. to reach her...</td>\n",
              "      <td>https://nationalpost.com//pmn/health-pmn/biden...</td>\n",
              "      <td>0</td>\n",
              "    </tr>\n",
              "    <tr>\n",
              "      <th>9997</th>\n",
              "      <td>Quebec passes 10,000 COVID-19 deaths as Onta...</td>\n",
              "      <td>https://nationalpost.com//pmn/news-pmn/canada-...</td>\n",
              "      <td>0</td>\n",
              "    </tr>\n",
              "    <tr>\n",
              "      <th>9998</th>\n",
              "      <td>Haiti prime minister says about 20 people de...</td>\n",
              "      <td>https://nationalpost.com//pmn/news-pmn/crime-p...</td>\n",
              "      <td>0</td>\n",
              "    </tr>\n",
              "    <tr>\n",
              "      <th>9999</th>\n",
              "      <td>Haiti prime minister says about 20 people de...</td>\n",
              "      <td>https://nationalpost.com//pmn/news-pmn/crime-p...</td>\n",
              "      <td>0</td>\n",
              "    </tr>\n",
              "  </tbody>\n",
              "</table>\n",
              "<p>10000 rows × 3 columns</p>\n",
              "</div>"
            ],
            "text/plain": [
              "                                               headline  ... is_sarcastic\n",
              "0         Red Sox host Vladimir Guerrero Jr., Blue Jays  ...            0\n",
              "1       Philippines to give vaccinated elderly more ...  ...            0\n",
              "2       MLB roundup: Twins overtake Yanks with 4-run...  ...            0\n",
              "3             Daily horoscope for Friday, June 11, 2021  ...            0\n",
              "4       Lucas Giolito, White Sox aim to keep Tigers ...  ...            0\n",
              "...                                                 ...  ...          ...\n",
              "9995    Haiti government denounces plot to oust pres...  ...            0\n",
              "9996    Biden says challenging for U.S. to reach her...  ...            0\n",
              "9997    Quebec passes 10,000 COVID-19 deaths as Onta...  ...            0\n",
              "9998    Haiti prime minister says about 20 people de...  ...            0\n",
              "9999    Haiti prime minister says about 20 people de...  ...            0\n",
              "\n",
              "[10000 rows x 3 columns]"
            ]
          },
          "metadata": {
            "tags": []
          },
          "execution_count": 24
        }
      ]
    },
    {
      "cell_type": "markdown",
      "metadata": {
        "id": "i7vqiGdO8dob"
      },
      "source": [
        "# citynews"
      ]
    },
    {
      "cell_type": "code",
      "metadata": {
        "id": "W70d01X7_rIo"
      },
      "source": [
        "def get_info(x):\n",
        "  filter1 =x.find('a',class_='title')\n",
        "  filter2 =x.find('span')\n",
        "\n",
        "  tilte= filter1.get_text()\n",
        "  link=  filter1.get('href')\n",
        "  date=  filter2.get_text()\n",
        "  return [tilte,link,0,date]"
      ],
      "execution_count": null,
      "outputs": []
    },
    {
      "cell_type": "code",
      "metadata": {
        "id": "EVQ5k08c8gyv"
      },
      "source": [
        "url=\"https://toronto.citynews.ca/category/national/page/{}/\"\n",
        "\n",
        "data=[]\n",
        "for i in range(2500):\n",
        "  page= requests.request('GET',url.format(i))\n",
        "  soup= bs(page.text)\n",
        "  list_news=soup.find_all('div',class_='post_row col-lg-16 col-md-16 col-sm-16 col-xs-16')\n",
        "\n",
        "  date= list_news[0].find('span').get_text()\n",
        "  year= date.split(', ')[1].split(' ')[0]\n",
        "  \n",
        "  print(date)\n",
        "  if int(year) <2018:\n",
        "    break\n",
        "  \n",
        "  for x in list_news:\n",
        "    temp= get_info(x)\n",
        "    if temp is not None:\n",
        "      data.append(temp)\n"
      ],
      "execution_count": null,
      "outputs": []
    },
    {
      "cell_type": "code",
      "metadata": {
        "colab": {
          "base_uri": "https://localhost:8080/"
        },
        "id": "Zk7-bVd5NUHe",
        "outputId": "1aeaa314-beba-45d4-b9a3-6efa03d081df"
      },
      "source": [
        "len(data)"
      ],
      "execution_count": null,
      "outputs": [
        {
          "output_type": "execute_result",
          "data": {
            "text/plain": [
              "30780"
            ]
          },
          "metadata": {
            "tags": []
          },
          "execution_count": 29
        }
      ]
    },
    {
      "cell_type": "code",
      "metadata": {
        "colab": {
          "base_uri": "https://localhost:8080/",
          "height": 402
        },
        "id": "Ib7aQkyVXlvp",
        "outputId": "7b58a5dc-a6c8-4459-8d97-86bf98e38213"
      },
      "source": [
        "\n",
        "df_kha3=pd.DataFrame(data=data,columns=['headline','article_link','is_sarcastic','date'])\n",
        "df_kha3"
      ],
      "execution_count": null,
      "outputs": [
        {
          "output_type": "execute_result",
          "data": {
            "text/html": [
              "<div>\n",
              "<style scoped>\n",
              "    .dataframe tbody tr th:only-of-type {\n",
              "        vertical-align: middle;\n",
              "    }\n",
              "\n",
              "    .dataframe tbody tr th {\n",
              "        vertical-align: top;\n",
              "    }\n",
              "\n",
              "    .dataframe thead th {\n",
              "        text-align: right;\n",
              "    }\n",
              "</style>\n",
              "<table border=\"1\" class=\"dataframe\">\n",
              "  <thead>\n",
              "    <tr style=\"text-align: right;\">\n",
              "      <th></th>\n",
              "      <th>headline</th>\n",
              "      <th>article_link</th>\n",
              "      <th>is_sarcastic</th>\n",
              "      <th>date</th>\n",
              "    </tr>\n",
              "  </thead>\n",
              "  <tbody>\n",
              "    <tr>\n",
              "      <th>0</th>\n",
              "      <td>Has TV reached the end of the ‘binge watch’ era?</td>\n",
              "      <td>https://toronto.citynews.ca/2021/06/11/has-tv-...</td>\n",
              "      <td>0</td>\n",
              "      <td>June 11, 2021 5:12 AM</td>\n",
              "    </tr>\n",
              "    <tr>\n",
              "      <th>1</th>\n",
              "      <td>Reopening worries and wake of sorrow: In The N...</td>\n",
              "      <td>https://toronto.citynews.ca/2021/06/11/reopeni...</td>\n",
              "      <td>0</td>\n",
              "      <td>June 11, 2021 4:30 AM</td>\n",
              "    </tr>\n",
              "    <tr>\n",
              "      <th>2</th>\n",
              "      <td>Canada still mum on vaccine-sharing details as...</td>\n",
              "      <td>https://toronto.citynews.ca/2021/06/11/canada-...</td>\n",
              "      <td>0</td>\n",
              "      <td>June 11, 2021 4:00 AM</td>\n",
              "    </tr>\n",
              "    <tr>\n",
              "      <th>3</th>\n",
              "      <td>Indigenous monitor role appointment faces priv...</td>\n",
              "      <td>https://toronto.citynews.ca/2021/06/11/indigen...</td>\n",
              "      <td>0</td>\n",
              "      <td>June 11, 2021 4:00 AM</td>\n",
              "    </tr>\n",
              "    <tr>\n",
              "      <th>4</th>\n",
              "      <td>Feds face calls for inquiry into military’s ha...</td>\n",
              "      <td>https://toronto.citynews.ca/2021/06/11/feds-fa...</td>\n",
              "      <td>0</td>\n",
              "      <td>June 11, 2021 4:00 AM</td>\n",
              "    </tr>\n",
              "    <tr>\n",
              "      <th>...</th>\n",
              "      <td>...</td>\n",
              "      <td>...</td>\n",
              "      <td>...</td>\n",
              "      <td>...</td>\n",
              "    </tr>\n",
              "    <tr>\n",
              "      <th>30775</th>\n",
              "      <td>Power surge traps 120 on B.C. ski lift; all sa...</td>\n",
              "      <td>https://toronto.citynews.ca/2017/12/31/power-s...</td>\n",
              "      <td>0</td>\n",
              "      <td>December 31, 2017 10:25 PM</td>\n",
              "    </tr>\n",
              "    <tr>\n",
              "      <th>30776</th>\n",
              "      <td>Toronto Polar Bear Club’s New Year’s Day dip c...</td>\n",
              "      <td>https://toronto.citynews.ca/2017/12/31/toronto...</td>\n",
              "      <td>0</td>\n",
              "      <td>December 31, 2017 9:08 PM</td>\n",
              "    </tr>\n",
              "    <tr>\n",
              "      <th>30777</th>\n",
              "      <td>As temperatures drop and shelters fill up, con...</td>\n",
              "      <td>https://toronto.citynews.ca/2017/12/31/as-temp...</td>\n",
              "      <td>0</td>\n",
              "      <td>December 31, 2017 6:53 PM</td>\n",
              "    </tr>\n",
              "    <tr>\n",
              "      <th>30778</th>\n",
              "      <td>Trudeau calls on Canadians to work together in...</td>\n",
              "      <td>https://toronto.citynews.ca/2017/12/31/trudeau...</td>\n",
              "      <td>0</td>\n",
              "      <td>December 31, 2017 5:17 PM</td>\n",
              "    </tr>\n",
              "    <tr>\n",
              "      <th>30779</th>\n",
              "      <td>Rescuer says snowy owl pulled from SUV grille ...</td>\n",
              "      <td>https://toronto.citynews.ca/2017/12/31/rescuer...</td>\n",
              "      <td>0</td>\n",
              "      <td>December 31, 2017 3:54 PM</td>\n",
              "    </tr>\n",
              "  </tbody>\n",
              "</table>\n",
              "<p>30780 rows × 4 columns</p>\n",
              "</div>"
            ],
            "text/plain": [
              "                                                headline  ...                        date\n",
              "0       Has TV reached the end of the ‘binge watch’ era?  ...       June 11, 2021 5:12 AM\n",
              "1      Reopening worries and wake of sorrow: In The N...  ...       June 11, 2021 4:30 AM\n",
              "2      Canada still mum on vaccine-sharing details as...  ...       June 11, 2021 4:00 AM\n",
              "3      Indigenous monitor role appointment faces priv...  ...       June 11, 2021 4:00 AM\n",
              "4      Feds face calls for inquiry into military’s ha...  ...       June 11, 2021 4:00 AM\n",
              "...                                                  ...  ...                         ...\n",
              "30775  Power surge traps 120 on B.C. ski lift; all sa...  ...  December 31, 2017 10:25 PM\n",
              "30776  Toronto Polar Bear Club’s New Year’s Day dip c...  ...   December 31, 2017 9:08 PM\n",
              "30777  As temperatures drop and shelters fill up, con...  ...   December 31, 2017 6:53 PM\n",
              "30778  Trudeau calls on Canadians to work together in...  ...   December 31, 2017 5:17 PM\n",
              "30779  Rescuer says snowy owl pulled from SUV grille ...  ...   December 31, 2017 3:54 PM\n",
              "\n",
              "[30780 rows x 4 columns]"
            ]
          },
          "metadata": {
            "tags": []
          },
          "execution_count": 31
        }
      ]
    },
    {
      "cell_type": "code",
      "metadata": {
        "id": "XJrezBhMXlP6"
      },
      "source": [
        "df_kha3.to_csv('citynews.csv')"
      ],
      "execution_count": null,
      "outputs": []
    },
    {
      "cell_type": "markdown",
      "metadata": {
        "id": "Gi1l6QtUbfOh"
      },
      "source": [
        "#crawl data from beveaton"
      ]
    },
    {
      "cell_type": "code",
      "metadata": {
        "id": "Z3gAb97Jgi_m"
      },
      "source": [
        "def get_news_from_div1(raw):\n",
        "    \n",
        "    try:\n",
        "        \n",
        "        #get title\n",
        "\n",
        "        title= raw.find_all('h3')[0].a.contents[0]\n",
        "\n",
        "        #get date\n",
        "        date= raw.find_all('time',class_='time')[0]['content'].split('T')[0]\n",
        "\n",
        "        #get link\n",
        "        link= raw.find_all('h3')[0].a.get('href')\n",
        "\n",
        "        return [title,link,1,date]\n",
        "    except :\n",
        "        return None\n"
      ],
      "execution_count": 25,
      "outputs": []
    },
    {
      "cell_type": "code",
      "metadata": {
        "id": "DoUFMzBwfaap"
      },
      "source": [
        "def get_raw_list_news1(url,year_stop):\n",
        "\n",
        "    try:\n",
        "        page= requests.request('GET',url)\n",
        "        soup= bs(page.text)\n",
        "\n",
        "        if page.status_code !=200: \n",
        "          return -2,[]\n",
        "\n",
        "        \n",
        "\n",
        "\n",
        "        #div section\n",
        "        filter1=soup.body.find_all('div')[2].find_all('section')[0] \n",
        "        \n",
        "        #div cf\n",
        "        filter2= filter1.find_all('div',class_=\"cf\")[-10]\n",
        "\n",
        "        #div \"row mb...\" has list div of news\n",
        "        filter1=soup.find_all('div',class_=\"posts border ajaxify-pagination\")[0]\n",
        "\n",
        "        # listing news div\n",
        "        list_news=filter1.find_all('article')\n",
        "\n",
        "        ex= list_news[0]\n",
        "        year=ex.find_all('time',class_='time')[0]['content']\n",
        "\n",
        "        year=int(year.split('-')[0])\n",
        "        print(year)\n",
        "        if year < year_stop:\n",
        "            return -1,[]\n",
        "\n",
        "        return page.status_code,list_news\n",
        "    except ValueError:\n",
        "        return -2,[]"
      ],
      "execution_count": 26,
      "outputs": []
    },
    {
      "cell_type": "code",
      "metadata": {
        "id": "9YyW2nUchOYz"
      },
      "source": [
        "url='https://www.thebeaverton.com/page/{}/'\n",
        "\n",
        "count_failed=0\n",
        "data1=[] \n",
        "for i in range(600):\n",
        "  response , ls_news= get_raw_list_news1(url.format(i),2018)\n",
        "\n",
        "  if response==-1: \n",
        "      print(1)\n",
        "      break\n",
        "  if response==400:\n",
        "      print(2)\n",
        "      count_failed+=1\n",
        "      continue\n",
        "  if len(ls_news)!=0:\n",
        "      #print(3)\n",
        "      for x in ls_news:\n",
        "          temp= get_news_from_div1(x)\n",
        "          if temp is not None:\n",
        "              data1.append(temp)\n",
        "\n"
      ],
      "execution_count": null,
      "outputs": []
    },
    {
      "cell_type": "code",
      "metadata": {
        "id": "fU3RItF5idUa"
      },
      "source": [
        "data1"
      ],
      "execution_count": null,
      "outputs": []
    },
    {
      "cell_type": "code",
      "metadata": {
        "id": "4-G_d9oFkJX-"
      },
      "source": [
        "\n",
        "df=pd.DataFrame(data=data1,columns=['article_link','headline','date','is_sarcastic'])\n",
        "df"
      ],
      "execution_count": null,
      "outputs": []
    },
    {
      "cell_type": "code",
      "metadata": {
        "id": "2Sg-ZJXgvaVE"
      },
      "source": [
        "df.to_csv('beaverton.csv')"
      ],
      "execution_count": null,
      "outputs": []
    },
    {
      "cell_type": "markdown",
      "metadata": {
        "id": "FAMtvRo5j7fQ"
      },
      "source": [
        "#crawl data from babylon"
      ]
    },
    {
      "cell_type": "code",
      "metadata": {
        "id": "hMy4hxI4Pr2S"
      },
      "source": [
        "import requests\n",
        "from bs4 import BeautifulSoup as bs\n",
        "import html\n",
        "import pandas as pd\n"
      ],
      "execution_count": 13,
      "outputs": []
    },
    {
      "cell_type": "code",
      "metadata": {
        "id": "cY2WTqxfPtcB"
      },
      "source": [
        "def get_raw_list_news(url,year_stop):\n",
        "\n",
        "    try:\n",
        "        page= requests.request('GET',url)\n",
        "        text= page.text\n",
        "\n",
        "      \n",
        "\n",
        "        #div body\n",
        "        filter1= text.split('<body class=\"\">')[1]\n",
        "        filter1= filter1.split('</body>')[0]\n",
        "        \n",
        "        #div main\n",
        "        filter2= filter1.split('main class=\"py-4\"')[1]\n",
        "        filter2= filter2.split('</main>')[0]\n",
        "\n",
        "        #div \"row mb...\" has list div of news\n",
        "        filter3= filter2.split('<div class=\"row mb-2 gutter-4\">')[1]\n",
        "        filter3= filter3.split('<ul class=\"pagination\" role=\"navigation\">')[0]\n",
        "\n",
        "        # listing news div\n",
        "        list_news= filter3.split('<div class=\"col-sm-6\">')\n",
        "\n",
        "        year=int(get_news_from_div(list_news[2],url)[-1].split(',')[-1])\n",
        "        print(year)\n",
        "        if year < year_stop:\n",
        "            return -1,[]\n",
        "\n",
        "        return page.status_code,list_news\n",
        "    except ValueError:\n",
        "        return -2,[]"
      ],
      "execution_count": 14,
      "outputs": []
    },
    {
      "cell_type": "code",
      "metadata": {
        "id": "gokLid2sPvP1"
      },
      "source": [
        "def get_news_from_div(raw,url):\n",
        "    \n",
        "    try:\n",
        "        url= url.split('/news')[0]\n",
        "        #get title\n",
        "        title= raw.split(':title=')[1].split(':image')[0]\n",
        "        title= html.unescape(title)[2:-3]\n",
        "\n",
        "        #get date\n",
        "        date=raw.split(':published_on=')[1].split(':primary_category')[0][2:-3]\n",
        "\n",
        "        #get link\n",
        "        link= raw.split(':path=')[1].split(':is_premium=')[0][2:-3]\n",
        "        return [title,url+link,1,date ]\n",
        "    except :\n",
        "        return None\n"
      ],
      "execution_count": 15,
      "outputs": []
    },
    {
      "cell_type": "code",
      "metadata": {
        "id": "3z4gW-8PPzmy"
      },
      "source": [
        "url='https://babylonbee.com/news?page={}'\n",
        "\n",
        "count_failed=0\n",
        "data=[] \n",
        "for i in range(350):\n",
        "  response , ls_news= get_raw_list_news(url.format(i),2018)\n",
        "\n",
        "  if response==-1: \n",
        "      print(1)\n",
        "      break\n",
        "  if response==400:\n",
        "      print(2)\n",
        "      count_failed+=1\n",
        "      continue\n",
        "  if len(ls_news)!=0:\n",
        "      #print(3)\n",
        "      for x in ls_news:\n",
        "          temp= get_news_from_div(x,url)\n",
        "          if temp is not None:\n",
        "              data.append(temp)\n",
        "\n"
      ],
      "execution_count": null,
      "outputs": []
    },
    {
      "cell_type": "code",
      "metadata": {
        "id": "5kHCCkZjQWHb"
      },
      "source": [
        "len(data)"
      ],
      "execution_count": null,
      "outputs": []
    },
    {
      "cell_type": "code",
      "metadata": {
        "id": "nUg3aMgmP94Q"
      },
      "source": [
        "\n",
        "df=pd.DataFrame(data=data,columns=['headline','article_link',,'is_sarcastic','date'])\n",
        "df"
      ],
      "execution_count": null,
      "outputs": []
    },
    {
      "cell_type": "code",
      "metadata": {
        "id": "aWoDhaLdUNIk"
      },
      "source": [
        "df"
      ],
      "execution_count": null,
      "outputs": []
    },
    {
      "cell_type": "code",
      "metadata": {
        "id": "11wszBD0Zn7w"
      },
      "source": [
        "df.to_csv('babylon.csv')"
      ],
      "execution_count": null,
      "outputs": []
    },
    {
      "cell_type": "markdown",
      "metadata": {
        "id": "RYGo-vkMAo05"
      },
      "source": [
        "# Merge csv"
      ]
    },
    {
      "cell_type": "markdown",
      "metadata": {
        "id": "5CdlcwrdscqK"
      },
      "source": [
        "read csv"
      ]
    },
    {
      "cell_type": "code",
      "metadata": {
        "id": "Sh9T6-x7NmGt"
      },
      "source": [
        "df_nghia1= pd.read_csv('euronews.csv',index_col=0)"
      ],
      "execution_count": 65,
      "outputs": []
    },
    {
      "cell_type": "code",
      "metadata": {
        "id": "YNC0pPt1Ny4S"
      },
      "source": [
        "df_nghia2= pd.read_csv('newyorker.csv')"
      ],
      "execution_count": 64,
      "outputs": []
    },
    {
      "cell_type": "code",
      "metadata": {
        "id": "itcRudJGN2Xq"
      },
      "source": [
        "df_kha1= pd.read_csv('beaverton.csv',index_col=0)"
      ],
      "execution_count": 71,
      "outputs": []
    },
    {
      "cell_type": "code",
      "metadata": {
        "id": "3KOuzXHpN6r4"
      },
      "source": [
        "df_kha2= pd.read_csv('babylon.csv',index_col=0)"
      ],
      "execution_count": 14,
      "outputs": []
    },
    {
      "cell_type": "code",
      "metadata": {
        "id": "MAmt8eoxN-dX"
      },
      "source": [
        "df_lam = pd.read_csv('TheTrueNorthTime.csv',index_col=0)"
      ],
      "execution_count": 15,
      "outputs": []
    },
    {
      "cell_type": "code",
      "metadata": {
        "id": "0BRivGKeXT6B"
      },
      "source": [
        "df_kha3= pd.read_csv('citynews.csv',index_col=0)"
      ],
      "execution_count": 83,
      "outputs": []
    },
    {
      "cell_type": "markdown",
      "metadata": {
        "id": "NyEWvm2Isefh"
      },
      "source": [
        "merge and save"
      ]
    },
    {
      "cell_type": "code",
      "metadata": {
        "id": "eqHT8zC_Pd8e"
      },
      "source": [
        "df= pd.DataFrame()"
      ],
      "execution_count": 48,
      "outputs": []
    },
    {
      "cell_type": "code",
      "metadata": {
        "id": "ZBAKiuTHQ9M-"
      },
      "source": [
        "df = df_kha2.append((df_kha3,df_kha1,df_nghia1,df_nghia2,df_lam))"
      ],
      "execution_count": 68,
      "outputs": []
    },
    {
      "cell_type": "code",
      "metadata": {
        "id": "_-mv733gXKft",
        "outputId": "30390e87-16bb-4739-cd63-aa20b5a71471",
        "colab": {
          "base_uri": "https://localhost:8080/"
        }
      },
      "source": [
        "df.info()"
      ],
      "execution_count": 87,
      "outputs": [
        {
          "output_type": "stream",
          "text": [
            "<class 'pandas.core.frame.DataFrame'>\n",
            "Int64Index: 78234 entries, 0 to 30779\n",
            "Data columns (total 4 columns):\n",
            " #   Column        Non-Null Count  Dtype \n",
            "---  ------        --------------  ----- \n",
            " 0   headline      78234 non-null  object\n",
            " 1   article_link  78234 non-null  object\n",
            " 2   is_sarcastic  78234 non-null  int64 \n",
            " 3   date          68234 non-null  object\n",
            "dtypes: int64(1), object(3)\n",
            "memory usage: 3.0+ MB\n"
          ],
          "name": "stdout"
        }
      ]
    },
    {
      "cell_type": "code",
      "metadata": {
        "id": "IdzsWD4vW5vb"
      },
      "source": [
        "df.to_csv('dataset-news-is_sarcastic.csv')"
      ],
      "execution_count": 88,
      "outputs": []
    }
  ]
}
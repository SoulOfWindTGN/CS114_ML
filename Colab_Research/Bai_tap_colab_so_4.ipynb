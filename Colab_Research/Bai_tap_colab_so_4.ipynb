{
  "nbformat": 4,
  "nbformat_minor": 0,
  "metadata": {
    "colab": {
      "name": "Bai_tap_colab_so_4.ipynb",
      "provenance": [],
      "collapsed_sections": [],
      "authorship_tag": "ABX9TyP4AhHxlP+0eYh8la4kIhRu",
      "include_colab_link": true
    },
    "kernelspec": {
      "name": "python3",
      "display_name": "Python 3"
    },
    "language_info": {
      "name": "python"
    }
  },
  "cells": [
    {
      "cell_type": "markdown",
      "metadata": {
        "id": "view-in-github",
        "colab_type": "text"
      },
      "source": [
        "<a href=\"https://colab.research.google.com/github/trankha1655/CS114_ML/blob/main/Colab_Research/Bai_tap_colab_so_4.ipynb\" target=\"_parent\"><img src=\"https://colab.research.google.com/assets/colab-badge.svg\" alt=\"Open In Colab\"/></a>"
      ]
    },
    {
      "cell_type": "markdown",
      "metadata": {
        "id": "0pzn4DVmnNiw"
      },
      "source": [
        "#BÀI TẬP COLAB SỐ 04 - NHẬN DIỆN TRANG BÁO CHÂM BIẾM BẰNG TIÊU ĐỀ BÀI BÁO\n",
        "\n",
        "---\n",
        "\n",
        "\n",
        "**Lớp CS114.L21**\n",
        "\n",
        "Nhóm:\n",
        "\n",
        "\n",
        "1.   Trần Phan Nhật Kha - 19521655\n",
        "2.   Trần Gia Nghĩa - 19521901\n",
        "3.   Võ Tá Lâm - 1952174419521744\n",
        "\n",
        "Tham khảo:\n",
        "\n",
        "1.   [Sarcasm detection with word2vec and glove](https://www.kaggle.com/madz2000/sarcasm-detection-with-glove-word2vec-83-accuracy)\n",
        "2.   [Xử lý ngôn ngữ tự nhiên với Python](https://viblo.asia/s/xu-ly-ngon-ngu-tu-nhien-voi-python-Je5Ejz9wKnL)\n",
        "3.   [Working With Text Data](https://scikit-learn.org/stable/tutorial/text_analytics/working_with_text_data.html#building-a-pipeline)"
      ]
    },
    {
      "cell_type": "markdown",
      "metadata": {
        "id": "HHe9saLqpBXu"
      },
      "source": [
        "#**LOADING THE NECESSARY LIBRARIES**"
      ]
    },
    {
      "cell_type": "code",
      "metadata": {
        "id": "8o4Fv0Tklklq"
      },
      "source": [
        "import pandas as pd\n",
        "import numpy as np\n",
        "import sklearn\n",
        "import seaborn as sns # Hỗ trợ vẽ biểu đồ\n",
        "import nltk #Thư viện xử lý ngôn ngữ tự nhiên\n",
        "import string # Các phép toán chuỗi thông thường\n",
        "import re #Các phép toán biểu thức chính quy cho chuỗi\n",
        "from nltk.corpus import stopwords #Stop words cho các ngôn ngữ phổ biến\n",
        "from nltk.tokenize import word_tokenize #Tách từ từ một chuỗi\n",
        "from nltk.stem import WordNetLemmatizer\n",
        "from nltk.corpus import wordnet #Cơ sở dữ liệu từ vựng cho tiếng Anh\n",
        "from sklearn.feature_extraction.text import CountVectorizer #Tokenizing text\n",
        "from sklearn.feature_extraction.text import TfidfTransformer #Thuật toán tf-idf\n",
        "from sklearn.naive_bayes import MultinomialNB\n",
        "from sklearn.linear_model import SGDClassifier\n",
        "from sklearn import metrics #Report"
      ],
      "execution_count": null,
      "outputs": []
    },
    {
      "cell_type": "code",
      "metadata": {
        "colab": {
          "base_uri": "https://localhost:8080/",
          "height": 221
        },
        "id": "fMo-hN_6mn7Y",
        "outputId": "12ca7ec3-e3d0-45d8-d9f9-4eb691605ed0"
      },
      "source": [
        "!git clone https://github.com/trankha1655/CS114_ML.git #Liên kết đến repository github\n",
        "data_train = pd.read_json(\"/content/CS114_ML/Colab_Research/Bai_Tap_Colab_So_4/dataset-news-is_sarcastic.json\", lines=True)\n",
        "data_train = data_train.sample(frac=1).reset_index(drop=True) #Xáo trộn bộ dữ liệu\n",
        "data_train.head()"
      ],
      "execution_count": null,
      "outputs": [
        {
          "output_type": "stream",
          "text": [
            "fatal: destination path 'CS114_ML' already exists and is not an empty directory.\n"
          ],
          "name": "stdout"
        },
        {
          "output_type": "execute_result",
          "data": {
            "text/html": [
              "<div>\n",
              "<style scoped>\n",
              "    .dataframe tbody tr th:only-of-type {\n",
              "        vertical-align: middle;\n",
              "    }\n",
              "\n",
              "    .dataframe tbody tr th {\n",
              "        vertical-align: top;\n",
              "    }\n",
              "\n",
              "    .dataframe thead th {\n",
              "        text-align: right;\n",
              "    }\n",
              "</style>\n",
              "<table border=\"1\" class=\"dataframe\">\n",
              "  <thead>\n",
              "    <tr style=\"text-align: right;\">\n",
              "      <th></th>\n",
              "      <th>article_link</th>\n",
              "      <th>headline</th>\n",
              "      <th>is_sarcastic</th>\n",
              "    </tr>\n",
              "  </thead>\n",
              "  <tbody>\n",
              "    <tr>\n",
              "      <th>0</th>\n",
              "      <td>https://www.newyorker.com//humor/borowitz-repo...</td>\n",
              "      <td>Trump Says Supreme Court Nominee Will Be Woman...</td>\n",
              "      <td>1</td>\n",
              "    </tr>\n",
              "    <tr>\n",
              "      <th>1</th>\n",
              "      <td>https://toronto.citynews.ca/2018/01/09/n-s-say...</td>\n",
              "      <td>N.S. premier seeks review as former foster chi...</td>\n",
              "      <td>0</td>\n",
              "    </tr>\n",
              "    <tr>\n",
              "      <th>2</th>\n",
              "      <td>https://www.euronews.com//travel/2020/01/28/du...</td>\n",
              "      <td>Dubai Creek: Discover a lost Arabian world</td>\n",
              "      <td>0</td>\n",
              "    </tr>\n",
              "    <tr>\n",
              "      <th>3</th>\n",
              "      <td>https://www.euronews.com//2021/03/19/in-ukrain...</td>\n",
              "      <td>In Ukraine, Stepan Bandera’s legacy becomes a ...</td>\n",
              "      <td>0</td>\n",
              "    </tr>\n",
              "    <tr>\n",
              "      <th>4</th>\n",
              "      <td>https://www.newyorker.com//cartoons/daily-cart...</td>\n",
              "      <td>Bonus Daily Cartoon: Gun Reform</td>\n",
              "      <td>1</td>\n",
              "    </tr>\n",
              "  </tbody>\n",
              "</table>\n",
              "</div>"
            ],
            "text/plain": [
              "                                        article_link  ... is_sarcastic\n",
              "0  https://www.newyorker.com//humor/borowitz-repo...  ...            1\n",
              "1  https://toronto.citynews.ca/2018/01/09/n-s-say...  ...            0\n",
              "2  https://www.euronews.com//travel/2020/01/28/du...  ...            0\n",
              "3  https://www.euronews.com//2021/03/19/in-ukrain...  ...            0\n",
              "4  https://www.newyorker.com//cartoons/daily-cart...  ...            1\n",
              "\n",
              "[5 rows x 3 columns]"
            ]
          },
          "metadata": {
            "tags": []
          },
          "execution_count": 154
        }
      ]
    },
    {
      "cell_type": "code",
      "metadata": {
        "colab": {
          "base_uri": "https://localhost:8080/",
          "height": 204
        },
        "id": "hv4tgoZ3GoLT",
        "outputId": "43432841-7f5b-4285-def4-c763baaadb40"
      },
      "source": [
        "data_test = pd.read_json(\"/content/CS114_ML/Colab_Research/Bai_Tap_Colab_So_4/Data for test from Kaggle/Sarcasm_Headlines_Dataset.json\", lines=True)\n",
        "data_test = data_test.sample(frac=1).reset_index(drop=True) #Xáo trộn bộ dữ liệu\n",
        "data_test.head()"
      ],
      "execution_count": null,
      "outputs": [
        {
          "output_type": "execute_result",
          "data": {
            "text/html": [
              "<div>\n",
              "<style scoped>\n",
              "    .dataframe tbody tr th:only-of-type {\n",
              "        vertical-align: middle;\n",
              "    }\n",
              "\n",
              "    .dataframe tbody tr th {\n",
              "        vertical-align: top;\n",
              "    }\n",
              "\n",
              "    .dataframe thead th {\n",
              "        text-align: right;\n",
              "    }\n",
              "</style>\n",
              "<table border=\"1\" class=\"dataframe\">\n",
              "  <thead>\n",
              "    <tr style=\"text-align: right;\">\n",
              "      <th></th>\n",
              "      <th>article_link</th>\n",
              "      <th>headline</th>\n",
              "      <th>is_sarcastic</th>\n",
              "    </tr>\n",
              "  </thead>\n",
              "  <tbody>\n",
              "    <tr>\n",
              "      <th>0</th>\n",
              "      <td>https://entertainment.theonion.com/comics-not-...</td>\n",
              "      <td>comics not just for kids anymore, reports 85,0...</td>\n",
              "      <td>1</td>\n",
              "    </tr>\n",
              "    <tr>\n",
              "      <th>1</th>\n",
              "      <td>https://www.theonion.com/attorney-client-privi...</td>\n",
              "      <td>attorney, client privileged</td>\n",
              "      <td>1</td>\n",
              "    </tr>\n",
              "    <tr>\n",
              "      <th>2</th>\n",
              "      <td>https://www.theonion.com/stephen-hawking-warns...</td>\n",
              "      <td>stephen hawking warns about dangers of ai as m...</td>\n",
              "      <td>1</td>\n",
              "    </tr>\n",
              "    <tr>\n",
              "      <th>3</th>\n",
              "      <td>https://www.huffingtonpost.com/entry/facebook-...</td>\n",
              "      <td>facebook recognizes everyone needs paid time o...</td>\n",
              "      <td>0</td>\n",
              "    </tr>\n",
              "    <tr>\n",
              "      <th>4</th>\n",
              "      <td>https://local.theonion.com/man-forced-to-come-...</td>\n",
              "      <td>man forced to come up with 45 seconds of facia...</td>\n",
              "      <td>1</td>\n",
              "    </tr>\n",
              "  </tbody>\n",
              "</table>\n",
              "</div>"
            ],
            "text/plain": [
              "                                        article_link  ... is_sarcastic\n",
              "0  https://entertainment.theonion.com/comics-not-...  ...            1\n",
              "1  https://www.theonion.com/attorney-client-privi...  ...            1\n",
              "2  https://www.theonion.com/stephen-hawking-warns...  ...            1\n",
              "3  https://www.huffingtonpost.com/entry/facebook-...  ...            0\n",
              "4  https://local.theonion.com/man-forced-to-come-...  ...            1\n",
              "\n",
              "[5 rows x 3 columns]"
            ]
          },
          "metadata": {
            "tags": []
          },
          "execution_count": 155
        }
      ]
    },
    {
      "cell_type": "markdown",
      "metadata": {
        "id": "qvL_YV18rMEY"
      },
      "source": [
        "#**DATA VISUALIZATION AND PREPROCESSING**"
      ]
    },
    {
      "cell_type": "markdown",
      "metadata": {
        "id": "jTx6Vmg-u5Ue"
      },
      "source": [
        "##**DATA VISUALIZATION**"
      ]
    },
    {
      "cell_type": "markdown",
      "metadata": {
        "id": "4-zT3b0hF9Es"
      },
      "source": [
        "###Data training"
      ]
    },
    {
      "cell_type": "code",
      "metadata": {
        "colab": {
          "base_uri": "https://localhost:8080/"
        },
        "id": "uZLYP0I0rTAW",
        "outputId": "8ab7f69e-264e-41ae-b6bd-7b6897087d29"
      },
      "source": [
        "data_train.isna().sum() #Kiểm tra giá trị trống trong dataframe"
      ],
      "execution_count": null,
      "outputs": [
        {
          "output_type": "execute_result",
          "data": {
            "text/plain": [
              "article_link    0\n",
              "headline        0\n",
              "is_sarcastic    0\n",
              "dtype: int64"
            ]
          },
          "metadata": {
            "tags": []
          },
          "execution_count": 156
        }
      ]
    },
    {
      "cell_type": "code",
      "metadata": {
        "colab": {
          "base_uri": "https://localhost:8080/",
          "height": 418
        },
        "id": "kBD22VvYrnZu",
        "outputId": "b3b0509c-57e5-4970-d5a4-73a3ac63831e"
      },
      "source": [
        "del data_train['article_link'] # Xóa cột không cần thiết\n",
        "data_train"
      ],
      "execution_count": null,
      "outputs": [
        {
          "output_type": "execute_result",
          "data": {
            "text/html": [
              "<div>\n",
              "<style scoped>\n",
              "    .dataframe tbody tr th:only-of-type {\n",
              "        vertical-align: middle;\n",
              "    }\n",
              "\n",
              "    .dataframe tbody tr th {\n",
              "        vertical-align: top;\n",
              "    }\n",
              "\n",
              "    .dataframe thead th {\n",
              "        text-align: right;\n",
              "    }\n",
              "</style>\n",
              "<table border=\"1\" class=\"dataframe\">\n",
              "  <thead>\n",
              "    <tr style=\"text-align: right;\">\n",
              "      <th></th>\n",
              "      <th>headline</th>\n",
              "      <th>is_sarcastic</th>\n",
              "    </tr>\n",
              "  </thead>\n",
              "  <tbody>\n",
              "    <tr>\n",
              "      <th>0</th>\n",
              "      <td>Trump Says Supreme Court Nominee Will Be Woman...</td>\n",
              "      <td>1</td>\n",
              "    </tr>\n",
              "    <tr>\n",
              "      <th>1</th>\n",
              "      <td>N.S. premier seeks review as former foster chi...</td>\n",
              "      <td>0</td>\n",
              "    </tr>\n",
              "    <tr>\n",
              "      <th>2</th>\n",
              "      <td>Dubai Creek: Discover a lost Arabian world</td>\n",
              "      <td>0</td>\n",
              "    </tr>\n",
              "    <tr>\n",
              "      <th>3</th>\n",
              "      <td>In Ukraine, Stepan Bandera’s legacy becomes a ...</td>\n",
              "      <td>0</td>\n",
              "    </tr>\n",
              "    <tr>\n",
              "      <th>4</th>\n",
              "      <td>Bonus Daily Cartoon: Gun Reform</td>\n",
              "      <td>1</td>\n",
              "    </tr>\n",
              "    <tr>\n",
              "      <th>...</th>\n",
              "      <td>...</td>\n",
              "      <td>...</td>\n",
              "    </tr>\n",
              "    <tr>\n",
              "      <th>78229</th>\n",
              "      <td>Conservative party pulls attack ad of black ma...</td>\n",
              "      <td>0</td>\n",
              "    </tr>\n",
              "    <tr>\n",
              "      <th>78230</th>\n",
              "      <td>Watch: Chester Zoo has been saved by a campaig...</td>\n",
              "      <td>0</td>\n",
              "    </tr>\n",
              "    <tr>\n",
              "      <th>78231</th>\n",
              "      <td>Curling-Women's world championship back on, ...</td>\n",
              "      <td>0</td>\n",
              "    </tr>\n",
              "    <tr>\n",
              "      <th>78232</th>\n",
              "      <td>Chicago Mayor Says Fourth Of July Weekend Was ...</td>\n",
              "      <td>1</td>\n",
              "    </tr>\n",
              "    <tr>\n",
              "      <th>78233</th>\n",
              "      <td>Disability in the UAE: how meaningful work can...</td>\n",
              "      <td>0</td>\n",
              "    </tr>\n",
              "  </tbody>\n",
              "</table>\n",
              "<p>78234 rows × 2 columns</p>\n",
              "</div>"
            ],
            "text/plain": [
              "                                                headline  is_sarcastic\n",
              "0      Trump Says Supreme Court Nominee Will Be Woman...             1\n",
              "1      N.S. premier seeks review as former foster chi...             0\n",
              "2             Dubai Creek: Discover a lost Arabian world             0\n",
              "3      In Ukraine, Stepan Bandera’s legacy becomes a ...             0\n",
              "4                        Bonus Daily Cartoon: Gun Reform             1\n",
              "...                                                  ...           ...\n",
              "78229  Conservative party pulls attack ad of black ma...             0\n",
              "78230  Watch: Chester Zoo has been saved by a campaig...             0\n",
              "78231    Curling-Women's world championship back on, ...             0\n",
              "78232  Chicago Mayor Says Fourth Of July Weekend Was ...             1\n",
              "78233  Disability in the UAE: how meaningful work can...             0\n",
              "\n",
              "[78234 rows x 2 columns]"
            ]
          },
          "metadata": {
            "tags": []
          },
          "execution_count": 157
        }
      ]
    },
    {
      "cell_type": "code",
      "metadata": {
        "colab": {
          "base_uri": "https://localhost:8080/",
          "height": 353
        },
        "id": "gqeaInMYrwwO",
        "outputId": "6b4ec99e-c1a2-41c8-8f5e-9e794c497319"
      },
      "source": [
        "sns.set_style(\"dark\")\n",
        "sns.countplot(data_train.is_sarcastic)"
      ],
      "execution_count": null,
      "outputs": [
        {
          "output_type": "stream",
          "text": [
            "/usr/local/lib/python3.7/dist-packages/seaborn/_decorators.py:43: FutureWarning: Pass the following variable as a keyword arg: x. From version 0.12, the only valid positional argument will be `data`, and passing other arguments without an explicit keyword will result in an error or misinterpretation.\n",
            "  FutureWarning\n"
          ],
          "name": "stderr"
        },
        {
          "output_type": "execute_result",
          "data": {
            "text/plain": [
              "<matplotlib.axes._subplots.AxesSubplot at 0x7f6113af5250>"
            ]
          },
          "metadata": {
            "tags": []
          },
          "execution_count": 158
        },
        {
          "output_type": "display_data",
          "data": {
            "image/png": "[encoded data removed]",
            "text/plain": [
              "<Figure size 432x288 with 1 Axes>"
            ]
          },
          "metadata": {
            "tags": []
          }
        }
      ]
    },
    {
      "cell_type": "markdown",
      "metadata": {
        "id": "qaJcoc9nsGv2"
      },
      "source": [
        "Qua biểu đồ trên, số lượng bài báo chính thông và châm biếm có sự chênh lệch tương đối lớn. Trong đó bài báo chính thống có hơn 60000 bài (Chiếm tỉ lệ 83%) và bài báo châm biếm có hơn 10000 bài (chiếm tỉ lệ 17%). Tổng cộng có 78234 bài báo của cả 2 loại (Đã được nhận xét trong phần thu thập dữ liệu)."
      ]
    },
    {
      "cell_type": "markdown",
      "metadata": {
        "id": "VJb2AsabGC44"
      },
      "source": [
        "###Data testing"
      ]
    },
    {
      "cell_type": "markdown",
      "metadata": {
        "id": "bEKinBoSGKKg"
      },
      "source": [
        "Nguồn: https://www.kaggle.com/rmisra/news-headlines-dataset-for-sarcasm-detection?select=Sarcasm_Headlines_Dataset.json"
      ]
    },
    {
      "cell_type": "code",
      "metadata": {
        "id": "YsN7WSUmGFyi",
        "colab": {
          "base_uri": "https://localhost:8080/"
        },
        "outputId": "ffb549d2-f42f-41e2-fd05-b7c0b5ca89a5"
      },
      "source": [
        "data_test.isna().sum()"
      ],
      "execution_count": null,
      "outputs": [
        {
          "output_type": "execute_result",
          "data": {
            "text/plain": [
              "article_link    0\n",
              "headline        0\n",
              "is_sarcastic    0\n",
              "dtype: int64"
            ]
          },
          "metadata": {
            "tags": []
          },
          "execution_count": 159
        }
      ]
    },
    {
      "cell_type": "code",
      "metadata": {
        "colab": {
          "base_uri": "https://localhost:8080/",
          "height": 418
        },
        "id": "7nyGIY34styZ",
        "outputId": "24ab0bff-852b-4bdd-f3e7-e657f5c13e74"
      },
      "source": [
        "del data_test['article_link'] # Xóa cột không cần thiết\n",
        "data_test"
      ],
      "execution_count": null,
      "outputs": [
        {
          "output_type": "execute_result",
          "data": {
            "text/html": [
              "<div>\n",
              "<style scoped>\n",
              "    .dataframe tbody tr th:only-of-type {\n",
              "        vertical-align: middle;\n",
              "    }\n",
              "\n",
              "    .dataframe tbody tr th {\n",
              "        vertical-align: top;\n",
              "    }\n",
              "\n",
              "    .dataframe thead th {\n",
              "        text-align: right;\n",
              "    }\n",
              "</style>\n",
              "<table border=\"1\" class=\"dataframe\">\n",
              "  <thead>\n",
              "    <tr style=\"text-align: right;\">\n",
              "      <th></th>\n",
              "      <th>headline</th>\n",
              "      <th>is_sarcastic</th>\n",
              "    </tr>\n",
              "  </thead>\n",
              "  <tbody>\n",
              "    <tr>\n",
              "      <th>0</th>\n",
              "      <td>comics not just for kids anymore, reports 85,0...</td>\n",
              "      <td>1</td>\n",
              "    </tr>\n",
              "    <tr>\n",
              "      <th>1</th>\n",
              "      <td>attorney, client privileged</td>\n",
              "      <td>1</td>\n",
              "    </tr>\n",
              "    <tr>\n",
              "      <th>2</th>\n",
              "      <td>stephen hawking warns about dangers of ai as m...</td>\n",
              "      <td>1</td>\n",
              "    </tr>\n",
              "    <tr>\n",
              "      <th>3</th>\n",
              "      <td>facebook recognizes everyone needs paid time o...</td>\n",
              "      <td>0</td>\n",
              "    </tr>\n",
              "    <tr>\n",
              "      <th>4</th>\n",
              "      <td>man forced to come up with 45 seconds of facia...</td>\n",
              "      <td>1</td>\n",
              "    </tr>\n",
              "    <tr>\n",
              "      <th>...</th>\n",
              "      <td>...</td>\n",
              "      <td>...</td>\n",
              "    </tr>\n",
              "    <tr>\n",
              "      <th>26704</th>\n",
              "      <td>watch bryan cranston's 'malcolm in the middle'...</td>\n",
              "      <td>0</td>\n",
              "    </tr>\n",
              "    <tr>\n",
              "      <th>26705</th>\n",
              "      <td>papa john's comes under fire for cruel treatme...</td>\n",
              "      <td>1</td>\n",
              "    </tr>\n",
              "    <tr>\n",
              "      <th>26706</th>\n",
              "      <td>how to survive in a conspiracy theorist's world</td>\n",
              "      <td>0</td>\n",
              "    </tr>\n",
              "    <tr>\n",
              "      <th>26707</th>\n",
              "      <td>bad news: appointment of shia militiaman to ir...</td>\n",
              "      <td>0</td>\n",
              "    </tr>\n",
              "    <tr>\n",
              "      <th>26708</th>\n",
              "      <td>5 family movies still worth streaming on netfl...</td>\n",
              "      <td>0</td>\n",
              "    </tr>\n",
              "  </tbody>\n",
              "</table>\n",
              "<p>26709 rows × 2 columns</p>\n",
              "</div>"
            ],
            "text/plain": [
              "                                                headline  is_sarcastic\n",
              "0      comics not just for kids anymore, reports 85,0...             1\n",
              "1                            attorney, client privileged             1\n",
              "2      stephen hawking warns about dangers of ai as m...             1\n",
              "3      facebook recognizes everyone needs paid time o...             0\n",
              "4      man forced to come up with 45 seconds of facia...             1\n",
              "...                                                  ...           ...\n",
              "26704  watch bryan cranston's 'malcolm in the middle'...             0\n",
              "26705  papa john's comes under fire for cruel treatme...             1\n",
              "26706    how to survive in a conspiracy theorist's world             0\n",
              "26707  bad news: appointment of shia militiaman to ir...             0\n",
              "26708  5 family movies still worth streaming on netfl...             0\n",
              "\n",
              "[26709 rows x 2 columns]"
            ]
          },
          "metadata": {
            "tags": []
          },
          "execution_count": 160
        }
      ]
    },
    {
      "cell_type": "code",
      "metadata": {
        "colab": {
          "base_uri": "https://localhost:8080/",
          "height": 353
        },
        "id": "X8Eeopwysxnp",
        "outputId": "d5880066-f465-4665-db91-958a23a40ceb"
      },
      "source": [
        "sns.set_style(\"dark\")\n",
        "sns.countplot(data_test.is_sarcastic)"
      ],
      "execution_count": null,
      "outputs": [
        {
          "output_type": "stream",
          "text": [
            "/usr/local/lib/python3.7/dist-packages/seaborn/_decorators.py:43: FutureWarning: Pass the following variable as a keyword arg: x. From version 0.12, the only valid positional argument will be `data`, and passing other arguments without an explicit keyword will result in an error or misinterpretation.\n",
            "  FutureWarning\n"
          ],
          "name": "stderr"
        },
        {
          "output_type": "execute_result",
          "data": {
            "text/plain": [
              "<matplotlib.axes._subplots.AxesSubplot at 0x7f6112417bd0>"
            ]
          },
          "metadata": {
            "tags": []
          },
          "execution_count": 161
        },
        {
          "output_type": "display_data",
          "data": {
            "image/png": "[encoded data removed]",
            "text/plain": [
              "<Figure size 432x288 with 1 Axes>"
            ]
          },
          "metadata": {
            "tags": []
          }
        }
      ]
    },
    {
      "cell_type": "markdown",
      "metadata": {
        "id": "LTyxv8Nctsov"
      },
      "source": [
        "Dữ liệu test được lấy trên kaggle có sự chênh lệch không quá lớn giữa các bài báo chính thống và các bài báo châm biếm. Có 11724 trang báo châm biếm và 14985 trang báo chính thống."
      ]
    },
    {
      "cell_type": "markdown",
      "metadata": {
        "id": "iyro5n2Iu9Ll"
      },
      "source": [
        "##**DATA PREPROCESSING**"
      ]
    },
    {
      "cell_type": "markdown",
      "metadata": {
        "id": "omnLciqfucNf"
      },
      "source": [
        "**Stopwords** là những từ tiếng Anh không bổ sung nhiều ý nghĩa cho một câu. Chúng có thể được bỏ qua mà không làm mất đi ý nghĩa của câu. Ví dụ, những từ như: *the*, *he*, *have*,v.v."
      ]
    },
    {
      "cell_type": "code",
      "metadata": {
        "colab": {
          "base_uri": "https://localhost:8080/"
        },
        "id": "KiKpkw9atAzO",
        "outputId": "eab3158f-c68a-47d6-c0a7-ad442e734181"
      },
      "source": [
        " #Download bộ dữ liệu cần thiết\n",
        "nltk.download('stopwords')\n",
        "nltk.download('punkt')\n",
        "nltk.download('wordnet')\n",
        "nltk.download('averaged_perceptron_tagger')\n",
        "\n",
        "stop = set(stopwords.words('english')) #Sử dụng dữ liệu dành cho tiếng Anh\n",
        "punctuation = list(string.punctuation) # Mảng các dấu bao gồm (!\"#$%&'()*+,-./:;<=>?@[\\]^_`{|}~)\n",
        "punctuation.extend([\"'s\",'‘','’','“','”'])\n",
        "#punctuation.append(\"'s\") #Thêm sở hữu cách của tiếng Anh\n",
        "stop.update(punctuation) #Thêm các dấu câu ở trên vào bộ dữ liệu stopwords"
      ],
      "execution_count": null,
      "outputs": [
        {
          "output_type": "stream",
          "text": [
            "[nltk_data] Downloading package stopwords to /root/nltk_data...\n",
            "[nltk_data]   Package stopwords is already up-to-date!\n",
            "[nltk_data] Downloading package punkt to /root/nltk_data...\n",
            "[nltk_data]   Package punkt is already up-to-date!\n",
            "[nltk_data] Downloading package wordnet to /root/nltk_data...\n",
            "[nltk_data]   Package wordnet is already up-to-date!\n",
            "[nltk_data] Downloading package averaged_perceptron_tagger to\n",
            "[nltk_data]     /root/nltk_data...\n",
            "[nltk_data]   Package averaged_perceptron_tagger is already up-to-\n",
            "[nltk_data]       date!\n"
          ],
          "name": "stdout"
        }
      ]
    },
    {
      "cell_type": "code",
      "metadata": {
        "colab": {
          "base_uri": "https://localhost:8080/"
        },
        "id": "7YH0PDEe-6rJ",
        "outputId": "de590338-1582-49f7-f17f-b676b0229790"
      },
      "source": [
        "stop"
      ],
      "execution_count": null,
      "outputs": [
        {
          "output_type": "execute_result",
          "data": {
            "text/plain": [
              "{'!',\n",
              " '\"',\n",
              " '#',\n",
              " '$',\n",
              " '%',\n",
              " '&',\n",
              " \"'\",\n",
              " \"'s\",\n",
              " '(',\n",
              " ')',\n",
              " '*',\n",
              " '+',\n",
              " ',',\n",
              " '-',\n",
              " '.',\n",
              " '/',\n",
              " ':',\n",
              " ';',\n",
              " '<',\n",
              " '=',\n",
              " '>',\n",
              " '?',\n",
              " '@',\n",
              " '[',\n",
              " '\\\\',\n",
              " ']',\n",
              " '^',\n",
              " '_',\n",
              " '`',\n",
              " 'a',\n",
              " 'about',\n",
              " 'above',\n",
              " 'after',\n",
              " 'again',\n",
              " 'against',\n",
              " 'ain',\n",
              " 'all',\n",
              " 'am',\n",
              " 'an',\n",
              " 'and',\n",
              " 'any',\n",
              " 'are',\n",
              " 'aren',\n",
              " \"aren't\",\n",
              " 'as',\n",
              " 'at',\n",
              " 'be',\n",
              " 'because',\n",
              " 'been',\n",
              " 'before',\n",
              " 'being',\n",
              " 'below',\n",
              " 'between',\n",
              " 'both',\n",
              " 'but',\n",
              " 'by',\n",
              " 'can',\n",
              " 'couldn',\n",
              " \"couldn't\",\n",
              " 'd',\n",
              " 'did',\n",
              " 'didn',\n",
              " \"didn't\",\n",
              " 'do',\n",
              " 'does',\n",
              " 'doesn',\n",
              " \"doesn't\",\n",
              " 'doing',\n",
              " 'don',\n",
              " \"don't\",\n",
              " 'down',\n",
              " 'during',\n",
              " 'each',\n",
              " 'few',\n",
              " 'for',\n",
              " 'from',\n",
              " 'further',\n",
              " 'had',\n",
              " 'hadn',\n",
              " \"hadn't\",\n",
              " 'has',\n",
              " 'hasn',\n",
              " \"hasn't\",\n",
              " 'have',\n",
              " 'haven',\n",
              " \"haven't\",\n",
              " 'having',\n",
              " 'he',\n",
              " 'her',\n",
              " 'here',\n",
              " 'hers',\n",
              " 'herself',\n",
              " 'him',\n",
              " 'himself',\n",
              " 'his',\n",
              " 'how',\n",
              " 'i',\n",
              " 'if',\n",
              " 'in',\n",
              " 'into',\n",
              " 'is',\n",
              " 'isn',\n",
              " \"isn't\",\n",
              " 'it',\n",
              " \"it's\",\n",
              " 'its',\n",
              " 'itself',\n",
              " 'just',\n",
              " 'll',\n",
              " 'm',\n",
              " 'ma',\n",
              " 'me',\n",
              " 'mightn',\n",
              " \"mightn't\",\n",
              " 'more',\n",
              " 'most',\n",
              " 'mustn',\n",
              " \"mustn't\",\n",
              " 'my',\n",
              " 'myself',\n",
              " 'needn',\n",
              " \"needn't\",\n",
              " 'no',\n",
              " 'nor',\n",
              " 'not',\n",
              " 'now',\n",
              " 'o',\n",
              " 'of',\n",
              " 'off',\n",
              " 'on',\n",
              " 'once',\n",
              " 'only',\n",
              " 'or',\n",
              " 'other',\n",
              " 'our',\n",
              " 'ours',\n",
              " 'ourselves',\n",
              " 'out',\n",
              " 'over',\n",
              " 'own',\n",
              " 're',\n",
              " 's',\n",
              " 'same',\n",
              " 'shan',\n",
              " \"shan't\",\n",
              " 'she',\n",
              " \"she's\",\n",
              " 'should',\n",
              " \"should've\",\n",
              " 'shouldn',\n",
              " \"shouldn't\",\n",
              " 'so',\n",
              " 'some',\n",
              " 'such',\n",
              " 't',\n",
              " 'than',\n",
              " 'that',\n",
              " \"that'll\",\n",
              " 'the',\n",
              " 'their',\n",
              " 'theirs',\n",
              " 'them',\n",
              " 'themselves',\n",
              " 'then',\n",
              " 'there',\n",
              " 'these',\n",
              " 'they',\n",
              " 'this',\n",
              " 'those',\n",
              " 'through',\n",
              " 'to',\n",
              " 'too',\n",
              " 'under',\n",
              " 'until',\n",
              " 'up',\n",
              " 've',\n",
              " 'very',\n",
              " 'was',\n",
              " 'wasn',\n",
              " \"wasn't\",\n",
              " 'we',\n",
              " 'were',\n",
              " 'weren',\n",
              " \"weren't\",\n",
              " 'what',\n",
              " 'when',\n",
              " 'where',\n",
              " 'which',\n",
              " 'while',\n",
              " 'who',\n",
              " 'whom',\n",
              " 'why',\n",
              " 'will',\n",
              " 'with',\n",
              " 'won',\n",
              " \"won't\",\n",
              " 'wouldn',\n",
              " \"wouldn't\",\n",
              " 'y',\n",
              " 'you',\n",
              " \"you'd\",\n",
              " \"you'll\",\n",
              " \"you're\",\n",
              " \"you've\",\n",
              " 'your',\n",
              " 'yours',\n",
              " 'yourself',\n",
              " 'yourselves',\n",
              " '{',\n",
              " '|',\n",
              " '}',\n",
              " '~',\n",
              " '‘',\n",
              " '’',\n",
              " '“',\n",
              " '”'}"
            ]
          },
          "metadata": {
            "tags": []
          },
          "execution_count": 163
        }
      ]
    },
    {
      "cell_type": "markdown",
      "metadata": {
        "id": "Fv4vY2hqxviG"
      },
      "source": [
        "###DATA CLEANING"
      ]
    },
    {
      "cell_type": "markdown",
      "metadata": {
        "id": "p0BfznE4zZ5m"
      },
      "source": [
        "Các phương pháp xử lý dữ liệu được áp dụng:\n",
        "\n",
        "*   Xóa dấu\n",
        "*   Xóa khoảng trắng ở đầu, giữa và cuối câu\n",
        "*   Tìm các từ gốc của một từ\n",
        "*   Xóa các chữ số vì các chữ số không ảnh hưởng nhiều đến kết quả phân loại\n",
        "*   Xóa các stopwords đã được định nghĩa ở trên"
      ]
    },
    {
      "cell_type": "code",
      "metadata": {
        "id": "EbItPCpRvDVt"
      },
      "source": [
        "def remove_between_square_brackets(text):\n",
        "    return re.sub('\\[[^]]*\\]', '', text)\n",
        "\n",
        "#Hàm chuyển text về dạng chữ viết thường\n",
        "def text_lowercase(text):\n",
        "  return text.lower()\n",
        "\n",
        "lem = WordNetLemmatizer()\n",
        "\n",
        "#tìm ra các tag từ thông dụng\n",
        "def nltk2wn_tag(nltk_tag):\n",
        "  if nltk_tag.startswith('J'):\n",
        "    return wordnet.ADJ\n",
        "  elif nltk_tag.startswith('V'):\n",
        "    return wordnet.VERB\n",
        "  elif nltk_tag.startswith('N'):\n",
        "    return wordnet.NOUN\n",
        "  elif nltk_tag.startswith('R'):\n",
        "    return wordnet.ADV\n",
        "  else:                    \n",
        "    return None\n",
        "\n",
        "#hàm Tìm từ gốc của cả một câu.\n",
        "def lemmatizer(sentence):\n",
        "  #tìm ra các pos tag của các từ trong câu\n",
        "  nltk_tagged = nltk.pos_tag(nltk.word_tokenize(sentence))    \n",
        "  wn_tagged = map(lambda x: (x[0], nltk2wn_tag(x[1])), nltk_tagged)\n",
        "\n",
        "  #biến đổi từng từ và trả về câu với các từ được biến đổi\n",
        "  res_words = []\n",
        "  #nếu không tìm được nhãn từ loại của từ (pos-tag) thì trả về chính từ đó\n",
        "  for word, tag in wn_tagged:\n",
        "    if tag is None:                        \n",
        "      res_words.append(word)\n",
        "    else:\n",
        "      res_words.append(lem.lemmatize(word, tag))\n",
        "\n",
        "  return \" \".join(res_words)\n",
        "\n",
        "#Xóa khoảng trắng\n",
        "def remove_whitespace(text):\n",
        "  return \" \".join(text.split())\n",
        "\n",
        "#Xóa số\n",
        "def remove_number(text):\n",
        "  return re.sub(r'\\d+', '', text)\n",
        "\n",
        "#Xóa stopwords\n",
        "def remove_stopwords(text):\n",
        "  word_tokens = word_tokenize(text)\n",
        "  filtered_text = [word for word in word_tokens if word not in stop]\n",
        "  return filtered_text\n",
        "\n",
        "def preprocessing(text):\n",
        "  text = remove_between_square_brackets(text)\n",
        "  text = text_lowercase(text)\n",
        "  text = lemmatizer(text)\n",
        "  text = remove_whitespace(text)\n",
        "  text = remove_number(text)\n",
        "  text = remove_stopwords(text)\n",
        "  return text\n",
        "\n",
        "def convert_list_to_string(list):\n",
        "  return ' '.join([str(elem) for elem in list])\n",
        "\n",
        "df1_train = data_train.copy(deep=True)\n",
        "df1_test = data_test.copy(deep=True)\n",
        "df1_train['headline'] = df1_train['headline'].apply(preprocessing)\n",
        "df1_train['headline'] = df1_train['headline'].apply(convert_list_to_string)\n",
        "df1_test['headline'] = df1_test['headline'].apply(preprocessing)\n",
        "df1_test['headline'] = df1_test['headline'].apply(convert_list_to_string)"
      ],
      "execution_count": null,
      "outputs": []
    },
    {
      "cell_type": "code",
      "metadata": {
        "colab": {
          "base_uri": "https://localhost:8080/",
          "height": 418
        },
        "id": "Y-tw5x3612f9",
        "outputId": "e008e5c5-7eca-4fe8-aa18-7430e8fb3c3a"
      },
      "source": [
        "df1_train"
      ],
      "execution_count": null,
      "outputs": [
        {
          "output_type": "execute_result",
          "data": {
            "text/html": [
              "<div>\n",
              "<style scoped>\n",
              "    .dataframe tbody tr th:only-of-type {\n",
              "        vertical-align: middle;\n",
              "    }\n",
              "\n",
              "    .dataframe tbody tr th {\n",
              "        vertical-align: top;\n",
              "    }\n",
              "\n",
              "    .dataframe thead th {\n",
              "        text-align: right;\n",
              "    }\n",
              "</style>\n",
              "<table border=\"1\" class=\"dataframe\">\n",
              "  <thead>\n",
              "    <tr style=\"text-align: right;\">\n",
              "      <th></th>\n",
              "      <th>headline</th>\n",
              "      <th>is_sarcastic</th>\n",
              "    </tr>\n",
              "  </thead>\n",
              "  <tbody>\n",
              "    <tr>\n",
              "      <th>0</th>\n",
              "      <td>trump say supreme court nominee woman person c...</td>\n",
              "      <td>1</td>\n",
              "    </tr>\n",
              "    <tr>\n",
              "      <th>1</th>\n",
              "      <td>n.s premier seek review former foster child fa...</td>\n",
              "      <td>0</td>\n",
              "    </tr>\n",
              "    <tr>\n",
              "      <th>2</th>\n",
              "      <td>dubai creek discover lost arabian world</td>\n",
              "      <td>0</td>\n",
              "    </tr>\n",
              "    <tr>\n",
              "      <th>3</th>\n",
              "      <td>ukraine stepan bandera legacy become political...</td>\n",
              "      <td>0</td>\n",
              "    </tr>\n",
              "    <tr>\n",
              "      <th>4</th>\n",
              "      <td>bonus daily cartoon gun reform</td>\n",
              "      <td>1</td>\n",
              "    </tr>\n",
              "    <tr>\n",
              "      <th>...</th>\n",
              "      <td>...</td>\n",
              "      <td>...</td>\n",
              "    </tr>\n",
              "    <tr>\n",
              "      <th>78229</th>\n",
              "      <td>conservative party pull attack ad black man wa...</td>\n",
              "      <td>0</td>\n",
              "    </tr>\n",
              "    <tr>\n",
              "      <th>78230</th>\n",
              "      <td>watch chester zoo save campaign social medium</td>\n",
              "      <td>0</td>\n",
              "    </tr>\n",
              "    <tr>\n",
              "      <th>78231</th>\n",
              "      <td>curling-women world championship back hold cal...</td>\n",
              "      <td>0</td>\n",
              "    </tr>\n",
              "    <tr>\n",
              "      <th>78232</th>\n",
              "      <td>chicago mayor say fourth july weekend 'mostly ...</td>\n",
              "      <td>1</td>\n",
              "    </tr>\n",
              "    <tr>\n",
              "      <th>78233</th>\n",
              "      <td>disability uae meaningful work empower 'people...</td>\n",
              "      <td>0</td>\n",
              "    </tr>\n",
              "  </tbody>\n",
              "</table>\n",
              "<p>78234 rows × 2 columns</p>\n",
              "</div>"
            ],
            "text/plain": [
              "                                                headline  is_sarcastic\n",
              "0      trump say supreme court nominee woman person c...             1\n",
              "1      n.s premier seek review former foster child fa...             0\n",
              "2                dubai creek discover lost arabian world             0\n",
              "3      ukraine stepan bandera legacy become political...             0\n",
              "4                         bonus daily cartoon gun reform             1\n",
              "...                                                  ...           ...\n",
              "78229  conservative party pull attack ad black man wa...             0\n",
              "78230      watch chester zoo save campaign social medium             0\n",
              "78231  curling-women world championship back hold cal...             0\n",
              "78232  chicago mayor say fourth july weekend 'mostly ...             1\n",
              "78233  disability uae meaningful work empower 'people...             0\n",
              "\n",
              "[78234 rows x 2 columns]"
            ]
          },
          "metadata": {
            "tags": []
          },
          "execution_count": 165
        }
      ]
    },
    {
      "cell_type": "code",
      "metadata": {
        "colab": {
          "base_uri": "https://localhost:8080/",
          "height": 418
        },
        "id": "HRSxyQ4mynYu",
        "outputId": "7631460f-c938-43a2-a990-52d336140dca"
      },
      "source": [
        "df1_test"
      ],
      "execution_count": null,
      "outputs": [
        {
          "output_type": "execute_result",
          "data": {
            "text/html": [
              "<div>\n",
              "<style scoped>\n",
              "    .dataframe tbody tr th:only-of-type {\n",
              "        vertical-align: middle;\n",
              "    }\n",
              "\n",
              "    .dataframe tbody tr th {\n",
              "        vertical-align: top;\n",
              "    }\n",
              "\n",
              "    .dataframe thead th {\n",
              "        text-align: right;\n",
              "    }\n",
              "</style>\n",
              "<table border=\"1\" class=\"dataframe\">\n",
              "  <thead>\n",
              "    <tr style=\"text-align: right;\">\n",
              "      <th></th>\n",
              "      <th>headline</th>\n",
              "      <th>is_sarcastic</th>\n",
              "    </tr>\n",
              "  </thead>\n",
              "  <tbody>\n",
              "    <tr>\n",
              "      <th>0</th>\n",
              "      <td>comic kid anymore report th mainstream news story</td>\n",
              "      <td>1</td>\n",
              "    </tr>\n",
              "    <tr>\n",
              "      <th>1</th>\n",
              "      <td>attorney client privilege</td>\n",
              "      <td>1</td>\n",
              "    </tr>\n",
              "    <tr>\n",
              "      <th>2</th>\n",
              "      <td>stephen hawk warns danger ai motorized wheelch...</td>\n",
              "      <td>1</td>\n",
              "    </tr>\n",
              "    <tr>\n",
              "      <th>3</th>\n",
              "      <td>facebook recognize everyone need pay time parent</td>\n",
              "      <td>0</td>\n",
              "    </tr>\n",
              "    <tr>\n",
              "      <th>4</th>\n",
              "      <td>man force come second facial expression waitre...</td>\n",
              "      <td>1</td>\n",
              "    </tr>\n",
              "    <tr>\n",
              "      <th>...</th>\n",
              "      <td>...</td>\n",
              "      <td>...</td>\n",
              "    </tr>\n",
              "    <tr>\n",
              "      <th>26704</th>\n",
              "      <td>watch bryan cranston 'malcolm middle character...</td>\n",
              "      <td>0</td>\n",
              "    </tr>\n",
              "    <tr>\n",
              "      <th>26705</th>\n",
              "      <td>papa john come fire cruel treatment bulbous de...</td>\n",
              "      <td>1</td>\n",
              "    </tr>\n",
              "    <tr>\n",
              "      <th>26706</th>\n",
              "      <td>survive conspiracy theorist world</td>\n",
              "      <td>0</td>\n",
              "    </tr>\n",
              "    <tr>\n",
              "      <th>26707</th>\n",
              "      <td>bad news appointment shia militiaman iraqi cab...</td>\n",
              "      <td>0</td>\n",
              "    </tr>\n",
              "    <tr>\n",
              "      <th>26708</th>\n",
              "      <td>family movie still worth stream netflix holiday</td>\n",
              "      <td>0</td>\n",
              "    </tr>\n",
              "  </tbody>\n",
              "</table>\n",
              "<p>26709 rows × 2 columns</p>\n",
              "</div>"
            ],
            "text/plain": [
              "                                                headline  is_sarcastic\n",
              "0      comic kid anymore report th mainstream news story             1\n",
              "1                              attorney client privilege             1\n",
              "2      stephen hawk warns danger ai motorized wheelch...             1\n",
              "3       facebook recognize everyone need pay time parent             0\n",
              "4      man force come second facial expression waitre...             1\n",
              "...                                                  ...           ...\n",
              "26704  watch bryan cranston 'malcolm middle character...             0\n",
              "26705  papa john come fire cruel treatment bulbous de...             1\n",
              "26706                  survive conspiracy theorist world             0\n",
              "26707  bad news appointment shia militiaman iraqi cab...             0\n",
              "26708    family movie still worth stream netflix holiday             0\n",
              "\n",
              "[26709 rows x 2 columns]"
            ]
          },
          "metadata": {
            "tags": []
          },
          "execution_count": 166
        }
      ]
    },
    {
      "cell_type": "markdown",
      "metadata": {
        "id": "li9EzqYMNoto"
      },
      "source": [
        "##**TRAINING MODEL AND TESTING**"
      ]
    },
    {
      "cell_type": "markdown",
      "metadata": {
        "id": "hHaNmdIQNysu"
      },
      "source": [
        "###TRAINING WITH VECTOR SPACE MODEL"
      ]
    },
    {
      "cell_type": "markdown",
      "metadata": {
        "id": "TIC5eYib3awl"
      },
      "source": [
        "####Tokenizing text and apply tf-idf\n",
        "\n"
      ]
    },
    {
      "cell_type": "markdown",
      "metadata": {
        "id": "x8YWKmM8_OTa"
      },
      "source": [
        "CountVectorizer hỗ trợ xử lý trước văn bản, mã hóa và lọc stop words, giúp xây dựng từ điển các tính năng và chuyển đổi tài liệu thành vectơ đặc trưng:"
      ]
    },
    {
      "cell_type": "code",
      "metadata": {
        "colab": {
          "base_uri": "https://localhost:8080/"
        },
        "id": "jt3n9hEG3SWg",
        "outputId": "4f2136f9-5cab-44f7-de82-8908384e2b6d"
      },
      "source": [
        "count_vect_train = CountVectorizer()\n",
        "\n",
        "x_train = count_vect.fit_transform(df1_train['headline'])\n",
        "x_test = count_vect.transform(df1_test['headline'])\n",
        "\n",
        "print(\"Shape of x_train:\",x_train.shape)\n",
        "print(\"Shape of x_test\",x_test.shape)"
      ],
      "execution_count": null,
      "outputs": [
        {
          "output_type": "stream",
          "text": [
            "Shape of x_train: (78234, 27556)\n",
            "Shape of x_test (26709, 27556)\n"
          ],
          "name": "stdout"
        }
      ]
    },
    {
      "cell_type": "markdown",
      "metadata": {
        "id": "9xoSne3sAxO9"
      },
      "source": [
        "TF-IDF là một trong những kỹ thuật cơ bản trong xử lý ngôn ngữ giúp đánh giá mức độ quan trọng của một từ trong văn bản.\n",
        "\n",
        "\n",
        "*   TF(Term frequency) : Tần suất xuất hiện của 1 từ trong 1 document.\n",
        "*   IDF( Invert Document Frequency) : Dùng để đánh giá mức độ quan trọng của 1 từ trong văn bản. Khi tf tính mức độ quan trọng của các từ là như nhau. Tuy nhiên trong văn bản thường xuất hiện nhiều từ không quan trọng xuất hiện với tần suất cao. Chính vì thế ta cần giảm đi mức độ quan trọng của những từ đó bằng IDF.\n",
        "\n"
      ]
    },
    {
      "cell_type": "code",
      "metadata": {
        "colab": {
          "base_uri": "https://localhost:8080/"
        },
        "id": "TCmsAUoR_8rd",
        "outputId": "c4656f9f-170b-4dd3-da64-83c73fe1142f"
      },
      "source": [
        "tfidf_transformer = TfidfTransformer()\n",
        "x_train_tfidf = tfidf_transformer.fit_transform(x_train)\n",
        "x_test_tfidf = tfidf_transformer.transform(x_test)\n",
        "y_train = df1_train['is_sarcastic']\n",
        "y_test = df1_test['is_sarcastic']\n",
        "print('Shape of x_train_tfidf:',x_train_tfidf.shape)\n",
        "print('Shape of x_test_tfidf:',x_test_tfidf.shape)"
      ],
      "execution_count": null,
      "outputs": [
        {
          "output_type": "stream",
          "text": [
            "Shape of x_train_tfidf: (78234, 27556)\n",
            "Shape of x_test_tfidf: (26709, 27556)\n"
          ],
          "name": "stdout"
        }
      ]
    },
    {
      "cell_type": "markdown",
      "metadata": {
        "id": "uqQWZ0GwLVRH"
      },
      "source": [
        "####Classification with naïve Bayes classifier"
      ]
    },
    {
      "cell_type": "code",
      "metadata": {
        "id": "e_HeT5Lt-tVy"
      },
      "source": [
        "clf_1 = MultinomialNB().fit(x_train_tfidf,y_train)\n",
        "y_pred_1 = clf_1.predict(x_test)"
      ],
      "execution_count": null,
      "outputs": []
    },
    {
      "cell_type": "code",
      "metadata": {
        "colab": {
          "base_uri": "https://localhost:8080/"
        },
        "id": "59YMLwWpHiFY",
        "outputId": "9f5e6166-a70a-40b4-8907-c5bfbc5edaf5"
      },
      "source": [
        "print(metrics.classification_report(y_test, y_pred_1))"
      ],
      "execution_count": null,
      "outputs": [
        {
          "output_type": "stream",
          "text": [
            "              precision    recall  f1-score   support\n",
            "\n",
            "           0       0.61      0.74      0.67     14985\n",
            "           1       0.54      0.39      0.45     11724\n",
            "\n",
            "    accuracy                           0.59     26709\n",
            "   macro avg       0.57      0.57      0.56     26709\n",
            "weighted avg       0.58      0.59      0.57     26709\n",
            "\n"
          ],
          "name": "stdout"
        }
      ]
    },
    {
      "cell_type": "code",
      "metadata": {
        "colab": {
          "base_uri": "https://localhost:8080/"
        },
        "id": "Wxam7WmOHjO7",
        "outputId": "052c6553-4341-40f7-a98e-263b30414d0f"
      },
      "source": [
        "print(\"Accuracy:\",metrics.accuracy_score(y_test, y_pred_1))"
      ],
      "execution_count": null,
      "outputs": [
        {
          "output_type": "stream",
          "text": [
            "Accuracy: 0.5860945748624059\n"
          ],
          "name": "stdout"
        }
      ]
    },
    {
      "cell_type": "markdown",
      "metadata": {
        "id": "IQ28fk8wLi6i"
      },
      "source": [
        "#### Classification with SVM"
      ]
    },
    {
      "cell_type": "code",
      "metadata": {
        "id": "PFW0eBRDJckJ"
      },
      "source": [
        "clf_2 = SGDClassifier().fit(x_train_tfidf,y_train)\n",
        "y_pred_2 = clf_2.predict(x_test)"
      ],
      "execution_count": null,
      "outputs": []
    },
    {
      "cell_type": "code",
      "metadata": {
        "colab": {
          "base_uri": "https://localhost:8080/"
        },
        "id": "c5NJdmTzJ9gY",
        "outputId": "07734f45-3478-4bc1-8f2a-e39fbe0f8ea7"
      },
      "source": [
        "print(metrics.classification_report(y_test, y_pred_2))"
      ],
      "execution_count": null,
      "outputs": [
        {
          "output_type": "stream",
          "text": [
            "              precision    recall  f1-score   support\n",
            "\n",
            "           0       0.63      0.74      0.68     14985\n",
            "           1       0.57      0.45      0.50     11724\n",
            "\n",
            "    accuracy                           0.61     26709\n",
            "   macro avg       0.60      0.59      0.59     26709\n",
            "weighted avg       0.61      0.61      0.60     26709\n",
            "\n"
          ],
          "name": "stdout"
        }
      ]
    },
    {
      "cell_type": "code",
      "metadata": {
        "colab": {
          "base_uri": "https://localhost:8080/"
        },
        "id": "ZAYCjHCsJ-9H",
        "outputId": "ed9188a9-b8ba-455c-ceb7-2c7c290f3467"
      },
      "source": [
        "print(\"Accuracy:\",metrics.accuracy_score(y_test, y_pred_2))"
      ],
      "execution_count": null,
      "outputs": [
        {
          "output_type": "stream",
          "text": [
            "Accuracy: 0.6117039200269572\n"
          ],
          "name": "stdout"
        }
      ]
    },
    {
      "cell_type": "markdown",
      "metadata": {
        "id": "KYFWreVLLsyy"
      },
      "source": [
        "#**Nhận xét:**"
      ]
    },
    {
      "cell_type": "markdown",
      "metadata": {
        "id": "CeG86oPcMWW-"
      },
      "source": [
        "Tỉ lệ dự đoán chính xác của 2 model trên là không cao vì các nguyên nhân sau đây:\n",
        "\n",
        "\n",
        "\n",
        "*   Sự bất cân xứng dữ liệu huấn luyện và dữ liệu kiểm thử. Dữ liệu huấn luyện có sự chênh lệch giữa bài báo chính thống và bài báo châm biếm là rất lớn, còn bộ dữ liệu kiểm thử lại có số lượng 2 nhãn là như nhau.\n",
        "*   Do quá trình xử lý dữ liệu chưa thật sự tốt\n",
        "*   Các bài báo chủ yếu được lấy trong 3 năm gần đây nên xuất hiện rất nhiều từ phổ biến trong các tiêu đề được lặp đi lặp lại (vd: covid, trump,...)\n",
        "*   Tựa đề các bài báo tương đối ngắn nên việc dùng các phương pháp đếm số lần xuất hiện không hiệu quả\n",
        "\n",
        "\n",
        "\n"
      ]
    }
  ]
}
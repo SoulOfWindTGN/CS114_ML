{
  "nbformat": 4,
  "nbformat_minor": 0,
  "metadata": {
    "colab": {
      "name": "Du_doan_diem_cuoi_ki_NMLT.ipynb",
      "provenance": [],
      "collapsed_sections": [],
      "toc_visible": true,
      "mount_file_id": "1H1b9RHcNwokY1gpofgCckO3Szlagg8Lg",
      "authorship_tag": "ABX9TyOB8y3nS+gPrR3GCvv6cuwY",
      "include_colab_link": true
    },
    "kernelspec": {
      "display_name": "Python 3",
      "name": "python3"
    },
    "language_info": {
      "name": "python"
    }
  },
  "cells": [
    {
      "cell_type": "markdown",
      "metadata": {
        "id": "view-in-github",
        "colab_type": "text"
      },
      "source": [
        "<a href=\"https://colab.research.google.com/github/trankha1655/CS114_ML/blob/main/CS114_ML/Colab%20Research/Du_doan_diem_cuoi_ki_NMLT.ipynb\" target=\"_parent\"><img src=\"https://colab.research.google.com/assets/colab-badge.svg\" alt=\"Open In Colab\"/></a>"
      ]
    },
    {
      "cell_type": "markdown",
      "metadata": {
        "id": "21LmaHEhjGAP"
      },
      "source": [
        "# IMPORT DỮ LIỆU"
      ]
    },
    {
      "cell_type": "markdown",
      "metadata": {
        "id": "9ghJq4Poip0A"
      },
      "source": [
        "Kết nối với google drivedrive"
      ]
    },
    {
      "cell_type": "code",
      "metadata": {
        "colab": {
          "base_uri": "https://localhost:8080/"
        },
        "id": "XeovgietL8r-",
        "outputId": "7d60f574-b53a-4d77-9bec-9dd3bab7dad9"
      },
      "source": [
        "from google.colab import drive\n",
        "drive.mount('/content/gdrive')"
      ],
      "execution_count": 136,
      "outputs": [
        {
          "output_type": "stream",
          "text": [
            "Drive already mounted at /content/gdrive; to attempt to forcibly remount, call drive.mount(\"/content/gdrive\", force_remount=True).\n"
          ],
          "name": "stdout"
        }
      ]
    },
    {
      "cell_type": "markdown",
      "metadata": {
        "id": "Ex6ZnyD-iull"
      },
      "source": [
        "Import các thư viện cần thiết cho quá trình đánh giá và tiền xử lý dữ liệu"
      ]
    },
    {
      "cell_type": "code",
      "metadata": {
        "id": "yCM6qiBzAvoF"
      },
      "source": [
        "import pandas as pd\n",
        "import numpy as np\n",
        "import matplotlib.pyplot as plt"
      ],
      "execution_count": 137,
      "outputs": []
    },
    {
      "cell_type": "markdown",
      "metadata": {
        "id": "mcEkgaHFi4Uw"
      },
      "source": [
        "Đọc dữ liệu từ đường dẫn đến thư mục chứa dữ liệu trong google drive"
      ]
    },
    {
      "cell_type": "code",
      "metadata": {
        "id": "A2cB5DaZMwHk"
      },
      "source": [
        "data = pd.read_csv('/content/gdrive/MyDrive/NMLT/wecode.csv')\n",
        "score = pd.read_csv('/content/gdrive/MyDrive/NMLT/score_training.csv')"
      ],
      "execution_count": 138,
      "outputs": []
    },
    {
      "cell_type": "code",
      "metadata": {
        "colab": {
          "base_uri": "https://localhost:8080/"
        },
        "id": "gVfGVYMINLjt",
        "outputId": "4c7ef662-c81b-451f-a08e-114216e1020b"
      },
      "source": [
        "data.info()"
      ],
      "execution_count": 139,
      "outputs": [
        {
          "output_type": "stream",
          "text": [
            "<class 'pandas.core.frame.DataFrame'>\n",
            "RangeIndex: 264606 entries, 0 to 264605\n",
            "Data columns (total 12 columns):\n",
            " #   Column         Non-Null Count   Dtype \n",
            "---  ------         --------------   ----- \n",
            " 0   id             264606 non-null  int64 \n",
            " 1   assignment_id  264606 non-null  int64 \n",
            " 2   problem_id     264606 non-null  int64 \n",
            " 3   user_id        264606 non-null  int64 \n",
            " 4   is_final       264606 non-null  int64 \n",
            " 5   status         264605 non-null  object\n",
            " 6   pre_score      264606 non-null  int64 \n",
            " 7   coefficient    264606 non-null  object\n",
            " 8   file_name      264606 non-null  object\n",
            " 9   language_id    264606 non-null  int64 \n",
            " 10  created_at     264606 non-null  object\n",
            " 11  updated_at     264606 non-null  object\n",
            "dtypes: int64(7), object(5)\n",
            "memory usage: 24.2+ MB\n"
          ],
          "name": "stdout"
        }
      ]
    },
    {
      "cell_type": "code",
      "metadata": {
        "colab": {
          "base_uri": "https://localhost:8080/",
          "height": 511
        },
        "id": "9P7q0S71NgYE",
        "outputId": "7b76c8d7-b241-4c39-9ae8-d67ef99c69fd"
      },
      "source": [
        "data.head(10)"
      ],
      "execution_count": 140,
      "outputs": [
        {
          "output_type": "execute_result",
          "data": {
            "text/html": [
              "<div>\n",
              "<style scoped>\n",
              "    .dataframe tbody tr th:only-of-type {\n",
              "        vertical-align: middle;\n",
              "    }\n",
              "\n",
              "    .dataframe tbody tr th {\n",
              "        vertical-align: top;\n",
              "    }\n",
              "\n",
              "    .dataframe thead th {\n",
              "        text-align: right;\n",
              "    }\n",
              "</style>\n",
              "<table border=\"1\" class=\"dataframe\">\n",
              "  <thead>\n",
              "    <tr style=\"text-align: right;\">\n",
              "      <th></th>\n",
              "      <th>id</th>\n",
              "      <th>assignment_id</th>\n",
              "      <th>problem_id</th>\n",
              "      <th>user_id</th>\n",
              "      <th>is_final</th>\n",
              "      <th>status</th>\n",
              "      <th>pre_score</th>\n",
              "      <th>coefficient</th>\n",
              "      <th>file_name</th>\n",
              "      <th>language_id</th>\n",
              "      <th>created_at</th>\n",
              "      <th>updated_at</th>\n",
              "    </tr>\n",
              "  </thead>\n",
              "  <tbody>\n",
              "    <tr>\n",
              "      <th>0</th>\n",
              "      <td>4</td>\n",
              "      <td>0</td>\n",
              "      <td>3</td>\n",
              "      <td>4</td>\n",
              "      <td>1</td>\n",
              "      <td>SCORE</td>\n",
              "      <td>10000</td>\n",
              "      <td>100</td>\n",
              "      <td>solution-0</td>\n",
              "      <td>2</td>\n",
              "      <td>2020-10-30 10:58:11</td>\n",
              "      <td>2020-10-30 10:58:19</td>\n",
              "    </tr>\n",
              "    <tr>\n",
              "      <th>1</th>\n",
              "      <td>5</td>\n",
              "      <td>0</td>\n",
              "      <td>4</td>\n",
              "      <td>4</td>\n",
              "      <td>1</td>\n",
              "      <td>SCORE</td>\n",
              "      <td>10000</td>\n",
              "      <td>100</td>\n",
              "      <td>solution-1</td>\n",
              "      <td>2</td>\n",
              "      <td>2020-10-30 11:07:09</td>\n",
              "      <td>2020-10-30 11:07:17</td>\n",
              "    </tr>\n",
              "    <tr>\n",
              "      <th>2</th>\n",
              "      <td>6</td>\n",
              "      <td>0</td>\n",
              "      <td>5</td>\n",
              "      <td>4</td>\n",
              "      <td>0</td>\n",
              "      <td>Compilation Error</td>\n",
              "      <td>0</td>\n",
              "      <td>100</td>\n",
              "      <td>solution-2</td>\n",
              "      <td>2</td>\n",
              "      <td>2020-10-30 11:08:01</td>\n",
              "      <td>2020-10-30 11:23:36</td>\n",
              "    </tr>\n",
              "    <tr>\n",
              "      <th>3</th>\n",
              "      <td>7</td>\n",
              "      <td>0</td>\n",
              "      <td>5</td>\n",
              "      <td>4</td>\n",
              "      <td>0</td>\n",
              "      <td>Compilation Error</td>\n",
              "      <td>0</td>\n",
              "      <td>100</td>\n",
              "      <td>solution-3</td>\n",
              "      <td>2</td>\n",
              "      <td>2020-10-30 11:11:41</td>\n",
              "      <td>2020-10-30 11:11:42</td>\n",
              "    </tr>\n",
              "    <tr>\n",
              "      <th>4</th>\n",
              "      <td>8</td>\n",
              "      <td>0</td>\n",
              "      <td>5</td>\n",
              "      <td>4</td>\n",
              "      <td>0</td>\n",
              "      <td>Compilation Error</td>\n",
              "      <td>0</td>\n",
              "      <td>100</td>\n",
              "      <td>solution-4</td>\n",
              "      <td>2</td>\n",
              "      <td>2020-10-30 11:15:06</td>\n",
              "      <td>2020-10-30 11:15:07</td>\n",
              "    </tr>\n",
              "    <tr>\n",
              "      <th>5</th>\n",
              "      <td>9</td>\n",
              "      <td>0</td>\n",
              "      <td>5</td>\n",
              "      <td>4</td>\n",
              "      <td>0</td>\n",
              "      <td>Compilation Error</td>\n",
              "      <td>0</td>\n",
              "      <td>100</td>\n",
              "      <td>solution-5</td>\n",
              "      <td>2</td>\n",
              "      <td>2020-10-30 11:16:57</td>\n",
              "      <td>2020-10-30 11:16:58</td>\n",
              "    </tr>\n",
              "    <tr>\n",
              "      <th>6</th>\n",
              "      <td>10</td>\n",
              "      <td>0</td>\n",
              "      <td>6</td>\n",
              "      <td>4</td>\n",
              "      <td>1</td>\n",
              "      <td>SCORE</td>\n",
              "      <td>10000</td>\n",
              "      <td>100</td>\n",
              "      <td>solution-6</td>\n",
              "      <td>2</td>\n",
              "      <td>2020-10-30 11:18:47</td>\n",
              "      <td>2020-10-30 11:18:55</td>\n",
              "    </tr>\n",
              "    <tr>\n",
              "      <th>7</th>\n",
              "      <td>11</td>\n",
              "      <td>0</td>\n",
              "      <td>7</td>\n",
              "      <td>4</td>\n",
              "      <td>1</td>\n",
              "      <td>SCORE</td>\n",
              "      <td>10000</td>\n",
              "      <td>100</td>\n",
              "      <td>solution-7</td>\n",
              "      <td>2</td>\n",
              "      <td>2020-10-30 11:20:07</td>\n",
              "      <td>2020-10-30 11:20:15</td>\n",
              "    </tr>\n",
              "    <tr>\n",
              "      <th>8</th>\n",
              "      <td>12</td>\n",
              "      <td>0</td>\n",
              "      <td>8</td>\n",
              "      <td>4</td>\n",
              "      <td>1</td>\n",
              "      <td>SCORE</td>\n",
              "      <td>10000</td>\n",
              "      <td>100</td>\n",
              "      <td>solution-8</td>\n",
              "      <td>2</td>\n",
              "      <td>2020-10-30 11:21:02</td>\n",
              "      <td>2020-10-30 11:21:10</td>\n",
              "    </tr>\n",
              "    <tr>\n",
              "      <th>9</th>\n",
              "      <td>13</td>\n",
              "      <td>0</td>\n",
              "      <td>9</td>\n",
              "      <td>4</td>\n",
              "      <td>1</td>\n",
              "      <td>SCORE</td>\n",
              "      <td>10000</td>\n",
              "      <td>100</td>\n",
              "      <td>solution-9</td>\n",
              "      <td>2</td>\n",
              "      <td>2020-10-30 11:21:36</td>\n",
              "      <td>2020-10-30 11:21:44</td>\n",
              "    </tr>\n",
              "  </tbody>\n",
              "</table>\n",
              "</div>"
            ],
            "text/plain": [
              "   id  assignment_id  ...           created_at           updated_at\n",
              "0   4              0  ...  2020-10-30 10:58:11  2020-10-30 10:58:19\n",
              "1   5              0  ...  2020-10-30 11:07:09  2020-10-30 11:07:17\n",
              "2   6              0  ...  2020-10-30 11:08:01  2020-10-30 11:23:36\n",
              "3   7              0  ...  2020-10-30 11:11:41  2020-10-30 11:11:42\n",
              "4   8              0  ...  2020-10-30 11:15:06  2020-10-30 11:15:07\n",
              "5   9              0  ...  2020-10-30 11:16:57  2020-10-30 11:16:58\n",
              "6  10              0  ...  2020-10-30 11:18:47  2020-10-30 11:18:55\n",
              "7  11              0  ...  2020-10-30 11:20:07  2020-10-30 11:20:15\n",
              "8  12              0  ...  2020-10-30 11:21:02  2020-10-30 11:21:10\n",
              "9  13              0  ...  2020-10-30 11:21:36  2020-10-30 11:21:44\n",
              "\n",
              "[10 rows x 12 columns]"
            ]
          },
          "metadata": {
            "tags": []
          },
          "execution_count": 140
        }
      ]
    },
    {
      "cell_type": "code",
      "metadata": {
        "colab": {
          "base_uri": "https://localhost:8080/"
        },
        "id": "tyR3hx3_jp2I",
        "outputId": "47c2614f-aace-420f-dd44-2df83428b697"
      },
      "source": [
        "score.info()"
      ],
      "execution_count": 141,
      "outputs": [
        {
          "output_type": "stream",
          "text": [
            "<class 'pandas.core.frame.DataFrame'>\n",
            "RangeIndex: 975 entries, 0 to 974\n",
            "Data columns (total 7 columns):\n",
            " #   Column  Non-Null Count  Dtype \n",
            "---  ------  --------------  ----- \n",
            " 0   id      975 non-null    int64 \n",
            " 1   QT      973 non-null    object\n",
            " 2   GK      974 non-null    object\n",
            " 3   TH      974 non-null    object\n",
            " 4   CK      974 non-null    object\n",
            " 5   TBM     974 non-null    object\n",
            " 6   TBTL    974 non-null    object\n",
            "dtypes: int64(1), object(6)\n",
            "memory usage: 53.4+ KB\n"
          ],
          "name": "stdout"
        }
      ]
    },
    {
      "cell_type": "markdown",
      "metadata": {
        "id": "muE6JtlYjS1p"
      },
      "source": [
        "# TIỀN XỬ LÝ DỮ LIỆU"
      ]
    },
    {
      "cell_type": "markdown",
      "metadata": {
        "id": "vF9OE3l4jywR"
      },
      "source": [
        "Loại bỏ các cột không cần thiết cho bài tập này"
      ]
    },
    {
      "cell_type": "code",
      "metadata": {
        "id": "wujc-bjkjtlR"
      },
      "source": [
        "score = score.drop(columns = ['QT','GK','TH','TBM','TBTL'])\n",
        "data = data.drop(columns=['id', 'created_at', 'updated_at', 'file_name', 'language_id'])"
      ],
      "execution_count": 142,
      "outputs": []
    },
    {
      "cell_type": "code",
      "metadata": {
        "colab": {
          "base_uri": "https://localhost:8080/",
          "height": 346
        },
        "id": "vKaoAwu55rMt",
        "outputId": "e768a295-fd0b-41ec-91c1-f737c019454e"
      },
      "source": [
        "score = score.replace(r'^\\s*$', np.NaN, regex=True) #Chuyển giá trị trống thành NaN\n",
        "score.info()\n",
        "score.head()"
      ],
      "execution_count": 143,
      "outputs": [
        {
          "output_type": "stream",
          "text": [
            "<class 'pandas.core.frame.DataFrame'>\n",
            "RangeIndex: 975 entries, 0 to 974\n",
            "Data columns (total 2 columns):\n",
            " #   Column  Non-Null Count  Dtype \n",
            "---  ------  --------------  ----- \n",
            " 0   id      975 non-null    int64 \n",
            " 1   CK      920 non-null    object\n",
            "dtypes: int64(1), object(1)\n",
            "memory usage: 15.4+ KB\n"
          ],
          "name": "stdout"
        },
        {
          "output_type": "execute_result",
          "data": {
            "text/html": [
              "<div>\n",
              "<style scoped>\n",
              "    .dataframe tbody tr th:only-of-type {\n",
              "        vertical-align: middle;\n",
              "    }\n",
              "\n",
              "    .dataframe tbody tr th {\n",
              "        vertical-align: top;\n",
              "    }\n",
              "\n",
              "    .dataframe thead th {\n",
              "        text-align: right;\n",
              "    }\n",
              "</style>\n",
              "<table border=\"1\" class=\"dataframe\">\n",
              "  <thead>\n",
              "    <tr style=\"text-align: right;\">\n",
              "      <th></th>\n",
              "      <th>id</th>\n",
              "      <th>CK</th>\n",
              "    </tr>\n",
              "  </thead>\n",
              "  <tbody>\n",
              "    <tr>\n",
              "      <th>0</th>\n",
              "      <td>22</td>\n",
              "      <td>8.5</td>\n",
              "    </tr>\n",
              "    <tr>\n",
              "      <th>1</th>\n",
              "      <td>24</td>\n",
              "      <td>9.5</td>\n",
              "    </tr>\n",
              "    <tr>\n",
              "      <th>2</th>\n",
              "      <td>27</td>\n",
              "      <td>10</td>\n",
              "    </tr>\n",
              "    <tr>\n",
              "      <th>3</th>\n",
              "      <td>28</td>\n",
              "      <td>9.5</td>\n",
              "    </tr>\n",
              "    <tr>\n",
              "      <th>4</th>\n",
              "      <td>29</td>\n",
              "      <td>8.5</td>\n",
              "    </tr>\n",
              "  </tbody>\n",
              "</table>\n",
              "</div>"
            ],
            "text/plain": [
              "   id   CK\n",
              "0  22  8.5\n",
              "1  24  9.5\n",
              "2  27   10\n",
              "3  28  9.5\n",
              "4  29  8.5"
            ]
          },
          "metadata": {
            "tags": []
          },
          "execution_count": 143
        }
      ]
    },
    {
      "cell_type": "code",
      "metadata": {
        "colab": {
          "base_uri": "https://localhost:8080/",
          "height": 195
        },
        "id": "BnvPs_s-lV5I",
        "outputId": "fa56d89f-bdaf-4098-e0f4-f351b8e28c32"
      },
      "source": [
        "data.head()"
      ],
      "execution_count": 144,
      "outputs": [
        {
          "output_type": "execute_result",
          "data": {
            "text/html": [
              "<div>\n",
              "<style scoped>\n",
              "    .dataframe tbody tr th:only-of-type {\n",
              "        vertical-align: middle;\n",
              "    }\n",
              "\n",
              "    .dataframe tbody tr th {\n",
              "        vertical-align: top;\n",
              "    }\n",
              "\n",
              "    .dataframe thead th {\n",
              "        text-align: right;\n",
              "    }\n",
              "</style>\n",
              "<table border=\"1\" class=\"dataframe\">\n",
              "  <thead>\n",
              "    <tr style=\"text-align: right;\">\n",
              "      <th></th>\n",
              "      <th>assignment_id</th>\n",
              "      <th>problem_id</th>\n",
              "      <th>user_id</th>\n",
              "      <th>is_final</th>\n",
              "      <th>status</th>\n",
              "      <th>pre_score</th>\n",
              "      <th>coefficient</th>\n",
              "    </tr>\n",
              "  </thead>\n",
              "  <tbody>\n",
              "    <tr>\n",
              "      <th>0</th>\n",
              "      <td>0</td>\n",
              "      <td>3</td>\n",
              "      <td>4</td>\n",
              "      <td>1</td>\n",
              "      <td>SCORE</td>\n",
              "      <td>10000</td>\n",
              "      <td>100</td>\n",
              "    </tr>\n",
              "    <tr>\n",
              "      <th>1</th>\n",
              "      <td>0</td>\n",
              "      <td>4</td>\n",
              "      <td>4</td>\n",
              "      <td>1</td>\n",
              "      <td>SCORE</td>\n",
              "      <td>10000</td>\n",
              "      <td>100</td>\n",
              "    </tr>\n",
              "    <tr>\n",
              "      <th>2</th>\n",
              "      <td>0</td>\n",
              "      <td>5</td>\n",
              "      <td>4</td>\n",
              "      <td>0</td>\n",
              "      <td>Compilation Error</td>\n",
              "      <td>0</td>\n",
              "      <td>100</td>\n",
              "    </tr>\n",
              "    <tr>\n",
              "      <th>3</th>\n",
              "      <td>0</td>\n",
              "      <td>5</td>\n",
              "      <td>4</td>\n",
              "      <td>0</td>\n",
              "      <td>Compilation Error</td>\n",
              "      <td>0</td>\n",
              "      <td>100</td>\n",
              "    </tr>\n",
              "    <tr>\n",
              "      <th>4</th>\n",
              "      <td>0</td>\n",
              "      <td>5</td>\n",
              "      <td>4</td>\n",
              "      <td>0</td>\n",
              "      <td>Compilation Error</td>\n",
              "      <td>0</td>\n",
              "      <td>100</td>\n",
              "    </tr>\n",
              "  </tbody>\n",
              "</table>\n",
              "</div>"
            ],
            "text/plain": [
              "   assignment_id  problem_id  user_id  ...             status pre_score  coefficient\n",
              "0              0           3        4  ...              SCORE     10000          100\n",
              "1              0           4        4  ...              SCORE     10000          100\n",
              "2              0           5        4  ...  Compilation Error         0          100\n",
              "3              0           5        4  ...  Compilation Error         0          100\n",
              "4              0           5        4  ...  Compilation Error         0          100\n",
              "\n",
              "[5 rows x 7 columns]"
            ]
          },
          "metadata": {
            "tags": []
          },
          "execution_count": 144
        }
      ]
    },
    {
      "cell_type": "code",
      "metadata": {
        "colab": {
          "base_uri": "https://localhost:8080/",
          "height": 402
        },
        "id": "HCmq8pNAl9HA",
        "outputId": "50aec7b1-8309-4c2a-99ae-85661cd5783d"
      },
      "source": [
        "user_status = data[['user_id','is_final','pre_score']]\n",
        "user_status"
      ],
      "execution_count": 145,
      "outputs": [
        {
          "output_type": "execute_result",
          "data": {
            "text/html": [
              "<div>\n",
              "<style scoped>\n",
              "    .dataframe tbody tr th:only-of-type {\n",
              "        vertical-align: middle;\n",
              "    }\n",
              "\n",
              "    .dataframe tbody tr th {\n",
              "        vertical-align: top;\n",
              "    }\n",
              "\n",
              "    .dataframe thead th {\n",
              "        text-align: right;\n",
              "    }\n",
              "</style>\n",
              "<table border=\"1\" class=\"dataframe\">\n",
              "  <thead>\n",
              "    <tr style=\"text-align: right;\">\n",
              "      <th></th>\n",
              "      <th>user_id</th>\n",
              "      <th>is_final</th>\n",
              "      <th>pre_score</th>\n",
              "    </tr>\n",
              "  </thead>\n",
              "  <tbody>\n",
              "    <tr>\n",
              "      <th>0</th>\n",
              "      <td>4</td>\n",
              "      <td>1</td>\n",
              "      <td>10000</td>\n",
              "    </tr>\n",
              "    <tr>\n",
              "      <th>1</th>\n",
              "      <td>4</td>\n",
              "      <td>1</td>\n",
              "      <td>10000</td>\n",
              "    </tr>\n",
              "    <tr>\n",
              "      <th>2</th>\n",
              "      <td>4</td>\n",
              "      <td>0</td>\n",
              "      <td>0</td>\n",
              "    </tr>\n",
              "    <tr>\n",
              "      <th>3</th>\n",
              "      <td>4</td>\n",
              "      <td>0</td>\n",
              "      <td>0</td>\n",
              "    </tr>\n",
              "    <tr>\n",
              "      <th>4</th>\n",
              "      <td>4</td>\n",
              "      <td>0</td>\n",
              "      <td>0</td>\n",
              "    </tr>\n",
              "    <tr>\n",
              "      <th>...</th>\n",
              "      <td>...</td>\n",
              "      <td>...</td>\n",
              "      <td>...</td>\n",
              "    </tr>\n",
              "    <tr>\n",
              "      <th>264601</th>\n",
              "      <td>1796</td>\n",
              "      <td>0</td>\n",
              "      <td>0</td>\n",
              "    </tr>\n",
              "    <tr>\n",
              "      <th>264602</th>\n",
              "      <td>1796</td>\n",
              "      <td>0</td>\n",
              "      <td>0</td>\n",
              "    </tr>\n",
              "    <tr>\n",
              "      <th>264603</th>\n",
              "      <td>1796</td>\n",
              "      <td>1</td>\n",
              "      <td>10000</td>\n",
              "    </tr>\n",
              "    <tr>\n",
              "      <th>264604</th>\n",
              "      <td>255</td>\n",
              "      <td>1</td>\n",
              "      <td>6250</td>\n",
              "    </tr>\n",
              "    <tr>\n",
              "      <th>264605</th>\n",
              "      <td>1568</td>\n",
              "      <td>0</td>\n",
              "      <td>10000</td>\n",
              "    </tr>\n",
              "  </tbody>\n",
              "</table>\n",
              "<p>264606 rows × 3 columns</p>\n",
              "</div>"
            ],
            "text/plain": [
              "        user_id  is_final  pre_score\n",
              "0             4         1      10000\n",
              "1             4         1      10000\n",
              "2             4         0          0\n",
              "3             4         0          0\n",
              "4             4         0          0\n",
              "...         ...       ...        ...\n",
              "264601     1796         0          0\n",
              "264602     1796         0          0\n",
              "264603     1796         1      10000\n",
              "264604      255         1       6250\n",
              "264605     1568         0      10000\n",
              "\n",
              "[264606 rows x 3 columns]"
            ]
          },
          "metadata": {
            "tags": []
          },
          "execution_count": 145
        }
      ]
    },
    {
      "cell_type": "markdown",
      "metadata": {
        "id": "UPGer_P9ImUK"
      },
      "source": [
        "Đếm số bài nộp đã hoàn thành tối đa điểm của mỗi user_id"
      ]
    },
    {
      "cell_type": "code",
      "metadata": {
        "colab": {
          "base_uri": "https://localhost:8080/",
          "height": 465
        },
        "id": "vePptN9QoLZX",
        "outputId": "9397e5fc-0485-4d83-b83a-833a63a2fe3d"
      },
      "source": [
        "user_accepted_submit =  user_status[user_status['is_final'] == 1][user_status['pre_score'] == 10000]\n",
        "user_accepted_submit = user_accepted_submit.groupby('user_id').sum()\n",
        "user_accepted_submit = user_accepted_submit.drop(columns = 'pre_score')\n",
        "user_accepted_submit"
      ],
      "execution_count": 146,
      "outputs": [
        {
          "output_type": "stream",
          "text": [
            "/usr/local/lib/python3.7/dist-packages/ipykernel_launcher.py:1: UserWarning: Boolean Series key will be reindexed to match DataFrame index.\n",
            "  \"\"\"Entry point for launching an IPython kernel.\n"
          ],
          "name": "stderr"
        },
        {
          "output_type": "execute_result",
          "data": {
            "text/html": [
              "<div>\n",
              "<style scoped>\n",
              "    .dataframe tbody tr th:only-of-type {\n",
              "        vertical-align: middle;\n",
              "    }\n",
              "\n",
              "    .dataframe tbody tr th {\n",
              "        vertical-align: top;\n",
              "    }\n",
              "\n",
              "    .dataframe thead th {\n",
              "        text-align: right;\n",
              "    }\n",
              "</style>\n",
              "<table border=\"1\" class=\"dataframe\">\n",
              "  <thead>\n",
              "    <tr style=\"text-align: right;\">\n",
              "      <th></th>\n",
              "      <th>is_final</th>\n",
              "    </tr>\n",
              "    <tr>\n",
              "      <th>user_id</th>\n",
              "      <th></th>\n",
              "    </tr>\n",
              "  </thead>\n",
              "  <tbody>\n",
              "    <tr>\n",
              "      <th>1</th>\n",
              "      <td>1</td>\n",
              "    </tr>\n",
              "    <tr>\n",
              "      <th>4</th>\n",
              "      <td>37</td>\n",
              "    </tr>\n",
              "    <tr>\n",
              "      <th>5</th>\n",
              "      <td>3</td>\n",
              "    </tr>\n",
              "    <tr>\n",
              "      <th>6</th>\n",
              "      <td>85</td>\n",
              "    </tr>\n",
              "    <tr>\n",
              "      <th>11</th>\n",
              "      <td>9</td>\n",
              "    </tr>\n",
              "    <tr>\n",
              "      <th>...</th>\n",
              "      <td>...</td>\n",
              "    </tr>\n",
              "    <tr>\n",
              "      <th>1860</th>\n",
              "      <td>28</td>\n",
              "    </tr>\n",
              "    <tr>\n",
              "      <th>1862</th>\n",
              "      <td>4</td>\n",
              "    </tr>\n",
              "    <tr>\n",
              "      <th>1864</th>\n",
              "      <td>28</td>\n",
              "    </tr>\n",
              "    <tr>\n",
              "      <th>1865</th>\n",
              "      <td>10</td>\n",
              "    </tr>\n",
              "    <tr>\n",
              "      <th>1868</th>\n",
              "      <td>27</td>\n",
              "    </tr>\n",
              "  </tbody>\n",
              "</table>\n",
              "<p>1139 rows × 1 columns</p>\n",
              "</div>"
            ],
            "text/plain": [
              "         is_final\n",
              "user_id          \n",
              "1               1\n",
              "4              37\n",
              "5               3\n",
              "6              85\n",
              "11              9\n",
              "...           ...\n",
              "1860           28\n",
              "1862            4\n",
              "1864           28\n",
              "1865           10\n",
              "1868           27\n",
              "\n",
              "[1139 rows x 1 columns]"
            ]
          },
          "metadata": {
            "tags": []
          },
          "execution_count": 146
        }
      ]
    },
    {
      "cell_type": "markdown",
      "metadata": {
        "id": "sVLriGfVIwJA"
      },
      "source": [
        "Đếm số problem của mỗi assignment"
      ]
    },
    {
      "cell_type": "code",
      "metadata": {
        "colab": {
          "base_uri": "https://localhost:8080/",
          "height": 402
        },
        "id": "50nUXlRDprVh",
        "outputId": "1a05d45c-8c77-4349-cbb8-69a771686784"
      },
      "source": [
        "problem_assginment = data[['assignment_id','problem_id']]\n",
        "problem_assginment = problem_assginment.groupby(by='assignment_id', as_index=False).agg({'problem_id': pd.Series.nunique})\n",
        "problem_assginment.rename(columns={'problem_id':'total_problems'},inplace = True)\n",
        "problem_assginment"
      ],
      "execution_count": 147,
      "outputs": [
        {
          "output_type": "execute_result",
          "data": {
            "text/html": [
              "<div>\n",
              "<style scoped>\n",
              "    .dataframe tbody tr th:only-of-type {\n",
              "        vertical-align: middle;\n",
              "    }\n",
              "\n",
              "    .dataframe tbody tr th {\n",
              "        vertical-align: top;\n",
              "    }\n",
              "\n",
              "    .dataframe thead th {\n",
              "        text-align: right;\n",
              "    }\n",
              "</style>\n",
              "<table border=\"1\" class=\"dataframe\">\n",
              "  <thead>\n",
              "    <tr style=\"text-align: right;\">\n",
              "      <th></th>\n",
              "      <th>assignment_id</th>\n",
              "      <th>total_problems</th>\n",
              "    </tr>\n",
              "  </thead>\n",
              "  <tbody>\n",
              "    <tr>\n",
              "      <th>0</th>\n",
              "      <td>0</td>\n",
              "      <td>352</td>\n",
              "    </tr>\n",
              "    <tr>\n",
              "      <th>1</th>\n",
              "      <td>5</td>\n",
              "      <td>4</td>\n",
              "    </tr>\n",
              "    <tr>\n",
              "      <th>2</th>\n",
              "      <td>7</td>\n",
              "      <td>10</td>\n",
              "    </tr>\n",
              "    <tr>\n",
              "      <th>3</th>\n",
              "      <td>8</td>\n",
              "      <td>8</td>\n",
              "    </tr>\n",
              "    <tr>\n",
              "      <th>4</th>\n",
              "      <td>10</td>\n",
              "      <td>7</td>\n",
              "    </tr>\n",
              "    <tr>\n",
              "      <th>...</th>\n",
              "      <td>...</td>\n",
              "      <td>...</td>\n",
              "    </tr>\n",
              "    <tr>\n",
              "      <th>285</th>\n",
              "      <td>376</td>\n",
              "      <td>10</td>\n",
              "    </tr>\n",
              "    <tr>\n",
              "      <th>286</th>\n",
              "      <td>377</td>\n",
              "      <td>7</td>\n",
              "    </tr>\n",
              "    <tr>\n",
              "      <th>287</th>\n",
              "      <td>381</td>\n",
              "      <td>4</td>\n",
              "    </tr>\n",
              "    <tr>\n",
              "      <th>288</th>\n",
              "      <td>383</td>\n",
              "      <td>47</td>\n",
              "    </tr>\n",
              "    <tr>\n",
              "      <th>289</th>\n",
              "      <td>384</td>\n",
              "      <td>4</td>\n",
              "    </tr>\n",
              "  </tbody>\n",
              "</table>\n",
              "<p>290 rows × 2 columns</p>\n",
              "</div>"
            ],
            "text/plain": [
              "     assignment_id  total_problems\n",
              "0                0             352\n",
              "1                5               4\n",
              "2                7              10\n",
              "3                8               8\n",
              "4               10               7\n",
              "..             ...             ...\n",
              "285            376              10\n",
              "286            377               7\n",
              "287            381               4\n",
              "288            383              47\n",
              "289            384               4\n",
              "\n",
              "[290 rows x 2 columns]"
            ]
          },
          "metadata": {
            "tags": []
          },
          "execution_count": 147
        }
      ]
    },
    {
      "cell_type": "markdown",
      "metadata": {
        "id": "ruJ5WKOhI2SX"
      },
      "source": [
        "Đếm số lượng problem mà mỗi user_id phải làm"
      ]
    },
    {
      "cell_type": "code",
      "metadata": {
        "colab": {
          "base_uri": "https://localhost:8080/",
          "height": 431
        },
        "id": "9EivI8rK49xu",
        "outputId": "5ee08d95-756f-4f9a-da5f-2634848ad99e"
      },
      "source": [
        "problems_user = problem_assginment.merge(data[['assignment_id','user_id']],on = 'assignment_id').sort_values(by = ['user_id'])\n",
        "problems_user = problems_user.drop_duplicates(subset = ['user_id','assignment_id']) #Bỏ các hàng có assignment_id và user_id trùng nhau\n",
        "problems_user = problems_user.groupby('user_id')['total_problems'].sum().to_frame()\n",
        "problems_user"
      ],
      "execution_count": 148,
      "outputs": [
        {
          "output_type": "execute_result",
          "data": {
            "text/html": [
              "<div>\n",
              "<style scoped>\n",
              "    .dataframe tbody tr th:only-of-type {\n",
              "        vertical-align: middle;\n",
              "    }\n",
              "\n",
              "    .dataframe tbody tr th {\n",
              "        vertical-align: top;\n",
              "    }\n",
              "\n",
              "    .dataframe thead th {\n",
              "        text-align: right;\n",
              "    }\n",
              "</style>\n",
              "<table border=\"1\" class=\"dataframe\">\n",
              "  <thead>\n",
              "    <tr style=\"text-align: right;\">\n",
              "      <th></th>\n",
              "      <th>total_problems</th>\n",
              "    </tr>\n",
              "    <tr>\n",
              "      <th>user_id</th>\n",
              "      <th></th>\n",
              "    </tr>\n",
              "  </thead>\n",
              "  <tbody>\n",
              "    <tr>\n",
              "      <th>1</th>\n",
              "      <td>352</td>\n",
              "    </tr>\n",
              "    <tr>\n",
              "      <th>4</th>\n",
              "      <td>352</td>\n",
              "    </tr>\n",
              "    <tr>\n",
              "      <th>5</th>\n",
              "      <td>48</td>\n",
              "    </tr>\n",
              "    <tr>\n",
              "      <th>6</th>\n",
              "      <td>364</td>\n",
              "    </tr>\n",
              "    <tr>\n",
              "      <th>7</th>\n",
              "      <td>352</td>\n",
              "    </tr>\n",
              "    <tr>\n",
              "      <th>...</th>\n",
              "      <td>...</td>\n",
              "    </tr>\n",
              "    <tr>\n",
              "      <th>1860</th>\n",
              "      <td>78</td>\n",
              "    </tr>\n",
              "    <tr>\n",
              "      <th>1862</th>\n",
              "      <td>15</td>\n",
              "    </tr>\n",
              "    <tr>\n",
              "      <th>1864</th>\n",
              "      <td>75</td>\n",
              "    </tr>\n",
              "    <tr>\n",
              "      <th>1865</th>\n",
              "      <td>29</td>\n",
              "    </tr>\n",
              "    <tr>\n",
              "      <th>1868</th>\n",
              "      <td>367</td>\n",
              "    </tr>\n",
              "  </tbody>\n",
              "</table>\n",
              "<p>1159 rows × 1 columns</p>\n",
              "</div>"
            ],
            "text/plain": [
              "         total_problems\n",
              "user_id                \n",
              "1                   352\n",
              "4                   352\n",
              "5                    48\n",
              "6                   364\n",
              "7                   352\n",
              "...                 ...\n",
              "1860                 78\n",
              "1862                 15\n",
              "1864                 75\n",
              "1865                 29\n",
              "1868                367\n",
              "\n",
              "[1159 rows x 1 columns]"
            ]
          },
          "metadata": {
            "tags": []
          },
          "execution_count": 148
        }
      ]
    },
    {
      "cell_type": "code",
      "metadata": {
        "colab": {
          "base_uri": "https://localhost:8080/",
          "height": 431
        },
        "id": "2aCh7mCoK9xu",
        "outputId": "e555bfe5-9b37-4342-d763-675f7630c96a"
      },
      "source": [
        "user_final_summery = problems_user.join(user_accepted_submit, on = 'user_id',how = 'left')\n",
        "user_final_summery.rename(columns={'is_final':'total_final'}, inplace=True)\n",
        "user_final_summery"
      ],
      "execution_count": 160,
      "outputs": [
        {
          "output_type": "execute_result",
          "data": {
            "text/html": [
              "<div>\n",
              "<style scoped>\n",
              "    .dataframe tbody tr th:only-of-type {\n",
              "        vertical-align: middle;\n",
              "    }\n",
              "\n",
              "    .dataframe tbody tr th {\n",
              "        vertical-align: top;\n",
              "    }\n",
              "\n",
              "    .dataframe thead th {\n",
              "        text-align: right;\n",
              "    }\n",
              "</style>\n",
              "<table border=\"1\" class=\"dataframe\">\n",
              "  <thead>\n",
              "    <tr style=\"text-align: right;\">\n",
              "      <th></th>\n",
              "      <th>total_problems</th>\n",
              "      <th>total_final</th>\n",
              "    </tr>\n",
              "    <tr>\n",
              "      <th>user_id</th>\n",
              "      <th></th>\n",
              "      <th></th>\n",
              "    </tr>\n",
              "  </thead>\n",
              "  <tbody>\n",
              "    <tr>\n",
              "      <th>1</th>\n",
              "      <td>352</td>\n",
              "      <td>1.0</td>\n",
              "    </tr>\n",
              "    <tr>\n",
              "      <th>4</th>\n",
              "      <td>352</td>\n",
              "      <td>37.0</td>\n",
              "    </tr>\n",
              "    <tr>\n",
              "      <th>5</th>\n",
              "      <td>48</td>\n",
              "      <td>3.0</td>\n",
              "    </tr>\n",
              "    <tr>\n",
              "      <th>6</th>\n",
              "      <td>364</td>\n",
              "      <td>85.0</td>\n",
              "    </tr>\n",
              "    <tr>\n",
              "      <th>7</th>\n",
              "      <td>352</td>\n",
              "      <td>NaN</td>\n",
              "    </tr>\n",
              "    <tr>\n",
              "      <th>...</th>\n",
              "      <td>...</td>\n",
              "      <td>...</td>\n",
              "    </tr>\n",
              "    <tr>\n",
              "      <th>1860</th>\n",
              "      <td>78</td>\n",
              "      <td>28.0</td>\n",
              "    </tr>\n",
              "    <tr>\n",
              "      <th>1862</th>\n",
              "      <td>15</td>\n",
              "      <td>4.0</td>\n",
              "    </tr>\n",
              "    <tr>\n",
              "      <th>1864</th>\n",
              "      <td>75</td>\n",
              "      <td>28.0</td>\n",
              "    </tr>\n",
              "    <tr>\n",
              "      <th>1865</th>\n",
              "      <td>29</td>\n",
              "      <td>10.0</td>\n",
              "    </tr>\n",
              "    <tr>\n",
              "      <th>1868</th>\n",
              "      <td>367</td>\n",
              "      <td>27.0</td>\n",
              "    </tr>\n",
              "  </tbody>\n",
              "</table>\n",
              "<p>1159 rows × 2 columns</p>\n",
              "</div>"
            ],
            "text/plain": [
              "         total_problems  total_final\n",
              "user_id                             \n",
              "1                   352          1.0\n",
              "4                   352         37.0\n",
              "5                    48          3.0\n",
              "6                   364         85.0\n",
              "7                   352          NaN\n",
              "...                 ...          ...\n",
              "1860                 78         28.0\n",
              "1862                 15          4.0\n",
              "1864                 75         28.0\n",
              "1865                 29         10.0\n",
              "1868                367         27.0\n",
              "\n",
              "[1159 rows x 2 columns]"
            ]
          },
          "metadata": {
            "tags": []
          },
          "execution_count": 160
        }
      ]
    },
    {
      "cell_type": "markdown",
      "metadata": {
        "id": "TwjksHdFQxov"
      },
      "source": [
        "Bảng trên chỉ mới hiển thị số bài đã hoàn thành và số bài mà mỗi user_id phải làm có trong file wecode. Ta cần phải lấy tiếp các user_id có trong file score_training để có đầy đủ thông tin của các user_id."
      ]
    }
  ]
}